{
  "cells": [
    {
      "cell_type": "markdown",
      "metadata": {
        "id": "FlH0lCOttCs5"
      },
      "source": [
        "<img src=\"https://fsdl.me/logo-720-dark-horizontal\">"
      ]
    },
    {
      "cell_type": "markdown",
      "metadata": {
        "id": "ZUPRHaeetRnT"
      },
      "source": [
        "# Lab 02b: Training a CNN on Synthetic Handwriting Data"
      ]
    },
    {
      "cell_type": "markdown",
      "metadata": {
        "id": "bry3Hr-PcgDs"
      },
      "source": [
        "### What You Will Learn\n",
        "\n",
        "- Fundamental principles for building neural networks with convolutional components\n",
        "- How to use Lightning's training framework via a CLI"
      ]
    },
    {
      "cell_type": "markdown",
      "metadata": {
        "id": "vs0LXXlCU6Ix"
      },
      "source": [
        "## Setup"
      ]
    },
    {
      "cell_type": "markdown",
      "metadata": {
        "id": "ZkQiK7lkgeXm"
      },
      "source": [
        "If you're running this notebook on Google Colab,\n",
        "the cell below will run full environment setup.\n",
        "\n",
        "It should take about three minutes to run."
      ]
    },
    {
      "cell_type": "code",
      "execution_count": 1,
      "metadata": {
        "id": "sVx7C7H0PIZC",
        "colab": {
          "base_uri": "https://localhost:8080/"
        },
        "outputId": "8831828a-2897-41d6-895d-199879f04366"
      },
      "outputs": [
        {
          "output_type": "stream",
          "name": "stdout",
          "text": [
            "env: PYTHONPATH=.:/env/python\n",
            ".:/env/python\n",
            "/content/fsdl-text-recognizer-2022-labs/lab02\n",
            "\u001b[0m\u001b[01;34mnotebooks\u001b[0m/  \u001b[01;34mtext_recognizer\u001b[0m/  \u001b[01;34mtraining\u001b[0m/\n"
          ]
        }
      ],
      "source": [
        "lab_idx = 2\n",
        "\n",
        "if \"bootstrap\" not in locals() or bootstrap.run:\n",
        "    # path management for Python\n",
        "    pythonpath, = !echo $PYTHONPATH\n",
        "    if \".\" not in pythonpath.split(\":\"):\n",
        "        pythonpath = \".:\" + pythonpath\n",
        "        %env PYTHONPATH={pythonpath}\n",
        "        !echo $PYTHONPATH\n",
        "\n",
        "    # get both Colab and local notebooks into the same state\n",
        "    !wget --quiet https://fsdl.me/gist-bootstrap -O bootstrap.py\n",
        "    import bootstrap\n",
        "\n",
        "    # change into the lab directory\n",
        "    bootstrap.change_to_lab_dir(lab_idx=lab_idx)\n",
        "\n",
        "    # allow \"hot-reloading\" of modules\n",
        "    %load_ext autoreload\n",
        "    %autoreload 2\n",
        "    # needed for inline plots in some contexts\n",
        "    %matplotlib inline\n",
        "\n",
        "    bootstrap.run = False  # change to True re-run setup\n",
        "\n",
        "!pwd\n",
        "%ls"
      ]
    },
    {
      "cell_type": "markdown",
      "metadata": {
        "id": "XZN4bGgsgWc_"
      },
      "source": [
        "# Why convolutions?"
      ]
    },
    {
      "cell_type": "markdown",
      "metadata": {
        "id": "T9HoYWZKtTE_"
      },
      "source": [
        "The most basic neural networks,\n",
        "multi-layer perceptrons,\n",
        "are built by alternating\n",
        "parameterized linear transformations\n",
        "with non-linear transformations.\n",
        "\n",
        "This combination is capable of expressing\n",
        "[functions of arbitrary complexity](http://neuralnetworksanddeeplearning.com/chap4.html),\n",
        "so long as those functions\n",
        "take in fixed-size arrays and return fixed-size arrays.\n",
        "\n",
        "```python\n",
        "def any_function_you_can_imagine(x: torch.Tensor[\"A\"]) -> torch.Tensor[\"B\"]:\n",
        "    return some_mlp_that_might_be_impractically_huge(x)\n",
        "```\n",
        "\n",
        "But not all functions have that type signature.\n",
        "\n",
        "For example, we might want to identify the content of images\n",
        "that have different sizes.\n",
        "Without gross hacks,\n",
        "an MLP won't be able to solve this problem,\n",
        "even though it seems simple enough."
      ]
    },
    {
      "cell_type": "code",
      "execution_count": 2,
      "metadata": {
        "id": "6LjfV3o6tTFA",
        "colab": {
          "base_uri": "https://localhost:8080/",
          "height": 88
        },
        "outputId": "b8df0109-c70a-4f79-f3cf-f29c1c2d6de5"
      },
      "outputs": [
        {
          "output_type": "execute_result",
          "data": {
            "text/html": [
              "<img src=\"https://fsdl-public-assets.s3.us-west-2.amazonaws.com/emnist/U.png\" width=\"67\" height=\"67\"/>"
            ],
            "text/plain": [
              "<IPython.core.display.Image object>"
            ]
          },
          "metadata": {},
          "execution_count": 2
        }
      ],
      "source": [
        "import random\n",
        "\n",
        "import IPython.display as display\n",
        "\n",
        "randsize = 10 ** (random.random() * 2 + 1)\n",
        "\n",
        "Url = \"https://fsdl-public-assets.s3.us-west-2.amazonaws.com/emnist/U.png\"\n",
        "\n",
        "# run multiple times to display the same image at different sizes\n",
        "#  the content of the image remains unambiguous\n",
        "display.Image(url=Url, width=randsize, height=randsize)"
      ]
    },
    {
      "cell_type": "markdown",
      "metadata": {
        "id": "c9j6YQRftTFB"
      },
      "source": [
        "Even worse, MLPs are too general to be efficient.\n",
        "\n",
        "Each layer applies an unstructured matrix to its inputs.\n",
        "But most of the data we might want to apply them to is highly structured,\n",
        "and taking advantage of that structure can make our models more efficient.\n",
        "\n",
        "It may seem appealing to use an unstructured model:\n",
        "it can in principle learn any function.\n",
        "But\n",
        "[most functions are monstrous outrages against common sense](https://en.wikipedia.org/wiki/Weierstrass_function#Density_of_nowhere-differentiable_functions).\n",
        "It is useful to encode some of our assumptions\n",
        "about the kinds of functions we might want to learn\n",
        "from our data into our model's architecture."
      ]
    },
    {
      "cell_type": "markdown",
      "metadata": {
        "id": "jvC_yZvmuwgJ"
      },
      "source": [
        "## Convolutions are the local, translation-equivariant linear transforms."
      ]
    },
    {
      "cell_type": "markdown",
      "metadata": {
        "id": "PhnRx_BZtTFC"
      },
      "source": [
        "One of the most common types of structure in data is \"locality\" --\n",
        "the most relevant information for understanding or predicting a pixel\n",
        "is a small number of pixels around it.\n",
        "\n",
        "Locality is a fundamental feature of the physical world,\n",
        "so it shows up in data drawn from physical observations,\n",
        "like photographs and audio recordings.\n",
        "\n",
        "Locality means most meaningful linear transformations of our input\n",
        "only have large weights in a small number of entries that are close to one another,\n",
        "rather than having equally large weights in all entries."
      ]
    },
    {
      "cell_type": "code",
      "execution_count": 3,
      "metadata": {
        "id": "SSnkzV2_tTFC",
        "colab": {
          "base_uri": "https://localhost:8080/"
        },
        "outputId": "52f06935-80a2-41ad-f02c-006f697f3845"
      },
      "outputs": [
        {
          "output_type": "stream",
          "name": "stdout",
          "text": [
            "generic:\n",
            "tensor([[ 0.4946],\n",
            "        [-0.5860],\n",
            "        [ 1.5686],\n",
            "        [ 0.7586],\n",
            "        [-0.6578],\n",
            "        [-1.9595],\n",
            "        [-0.8669],\n",
            "        [ 2.1011]])\n",
            "local:\n",
            "tensor([[0.0000],\n",
            "        [0.0000],\n",
            "        [0.0000],\n",
            "        [0.0804],\n",
            "        [0.2229],\n",
            "        [0.4620],\n",
            "        [0.0000],\n",
            "        [0.0000]])\n"
          ]
        }
      ],
      "source": [
        "import torch\n",
        "\n",
        "\n",
        "generic_linear_transform = torch.randn(8, 1)\n",
        "print(\"generic:\", generic_linear_transform, sep=\"\\n\")\n",
        "\n",
        "local_linear_transform = torch.tensor([\n",
        "    [0, 0, 0] + [random.random(), random.random(), random.random()] + [0, 0]]).T\n",
        "print(\"local:\", local_linear_transform, sep=\"\\n\")"
      ]
    },
    {
      "cell_type": "markdown",
      "metadata": {
        "id": "0nCD75NwtTFD"
      },
      "source": [
        "Another type of structure commonly observed is \"translation equivariance\" --\n",
        "the top-left pixel position is not, in itself, meaningfully different\n",
        "from the bottom-right position\n",
        "or a position in the middle of the image.\n",
        "Relative relationships matter more than absolute relationships.\n",
        "\n",
        "Translation equivariance arises in images because there is generally no privileged\n",
        "vantage point for taking the image.\n",
        "We could just as easily have taken the image while standing a few feet to the left or right,\n",
        "and all of its contents would shift along with our change in perspective.\n",
        "\n",
        "Translation equivariance means that a linear transformation that is meaningful at one position\n",
        "in our input is likely to be meaningful at all other points.\n",
        "We can learn something about a linear transformation from a datapoint where it is useful\n",
        "in the bottom-left and then apply it to another datapoint where it's useful in the top-right."
      ]
    },
    {
      "cell_type": "code",
      "execution_count": 4,
      "metadata": {
        "id": "srvI7JFAtTFE",
        "colab": {
          "base_uri": "https://localhost:8080/"
        },
        "outputId": "01b99f4a-22cd-4b63-e616-ff6e4e018230"
      },
      "outputs": [
        {
          "output_type": "stream",
          "name": "stdout",
          "text": [
            "generic:\n",
            "tensor([[0],\n",
            "        [1],\n",
            "        [2],\n",
            "        [3],\n",
            "        [4],\n",
            "        [5],\n",
            "        [6],\n",
            "        [7]])\n",
            "translation invariant:\n",
            "tensor([[0, 7, 6, 5, 4, 3, 2, 1],\n",
            "        [1, 0, 7, 6, 5, 4, 3, 2],\n",
            "        [2, 1, 0, 7, 6, 5, 4, 3],\n",
            "        [3, 2, 1, 0, 7, 6, 5, 4],\n",
            "        [4, 3, 2, 1, 0, 7, 6, 5],\n",
            "        [5, 4, 3, 2, 1, 0, 7, 6],\n",
            "        [6, 5, 4, 3, 2, 1, 0, 7],\n",
            "        [7, 6, 5, 4, 3, 2, 1, 0]])\n"
          ]
        }
      ],
      "source": [
        "generic_linear_transform = torch.arange(8)[:, None]\n",
        "print(\"generic:\", generic_linear_transform, sep=\"\\n\")\n",
        "\n",
        "equivariant_linear_transform = torch.stack([torch.roll(generic_linear_transform[:, 0], ii) for ii in range(8)], dim=1)\n",
        "print(\"translation invariant:\", equivariant_linear_transform, sep=\"\\n\")"
      ]
    },
    {
      "cell_type": "markdown",
      "metadata": {
        "id": "qF576NCvtTFE"
      },
      "source": [
        "A linear transformation that is translation equivariant\n",
        "[is called a _convolution_](https://en.wikipedia.org/wiki/Convolution#Translational_equivariance).\n",
        "\n",
        "If the weights of that linear transformation are mostly zero\n",
        "except for a few that are close to one another,\n",
        "that convolution is said to have a _kernel_."
      ]
    },
    {
      "cell_type": "code",
      "execution_count": 5,
      "metadata": {
        "id": "9tp4tBgWtTFF",
        "colab": {
          "base_uri": "https://localhost:8080/"
        },
        "outputId": "683f8978-23b6-429c-ad9d-3e2654d9062d"
      },
      "outputs": [
        {
          "output_type": "execute_result",
          "data": {
            "text/plain": [
              "Parameter containing:\n",
              "tensor([[[ 0.3576, -0.2925,  0.2077]]], requires_grad=True)"
            ]
          },
          "metadata": {},
          "execution_count": 5
        }
      ],
      "source": [
        "# the equivalent of torch.nn.Linear, but for a 1-dimensional convolution\n",
        "conv_layer = torch.nn.Conv1d(in_channels=1, out_channels=1, kernel_size=3)\n",
        "\n",
        "conv_layer.weight  # aka kernel"
      ]
    },
    {
      "cell_type": "markdown",
      "metadata": {
        "id": "deXA_xS6tTFF"
      },
      "source": [
        "Instead of using normal matrix multiplication to apply the kernel to the input,\n",
        "we repeatedly apply that kernel over and over again,\n",
        "\"sliding\" it over the input to produce an output.\n",
        "\n",
        "Every convolution kernel has an equivalent matrix form,\n",
        "which can be matrix multiplied with the input to create the output:"
      ]
    },
    {
      "cell_type": "code",
      "execution_count": 6,
      "metadata": {
        "id": "mFoSsa5DtTFF",
        "colab": {
          "base_uri": "https://localhost:8080/"
        },
        "outputId": "6aae0150-501b-4bf3-8079-ae9cd9efd7cb"
      },
      "outputs": [
        {
          "output_type": "stream",
          "name": "stdout",
          "text": [
            "convolution matrix:\n",
            "tensor([[ 0.3576, -0.2925,  0.2077,  0.0000,  0.0000,  0.0000,  0.0000,  0.0000],\n",
            "        [ 0.0000,  0.3576, -0.2925,  0.2077,  0.0000,  0.0000,  0.0000,  0.0000],\n",
            "        [ 0.0000,  0.0000,  0.3576, -0.2925,  0.2077,  0.0000,  0.0000,  0.0000],\n",
            "        [ 0.0000,  0.0000,  0.0000,  0.3576, -0.2925,  0.2077,  0.0000,  0.0000],\n",
            "        [ 0.0000,  0.0000,  0.0000,  0.0000,  0.3576, -0.2925,  0.2077,  0.0000],\n",
            "        [ 0.0000,  0.0000,  0.0000,  0.0000,  0.0000,  0.3576, -0.2925,  0.2077],\n",
            "        [ 0.2077,  0.0000,  0.0000,  0.0000,  0.0000,  0.0000,  0.3576, -0.2925],\n",
            "        [-0.2925,  0.2077,  0.0000,  0.0000,  0.0000,  0.0000,  0.0000,  0.3576]],\n",
            "       grad_fn=<StackBackward0>)\n"
          ]
        }
      ],
      "source": [
        "conv_kernel_as_vector = torch.hstack([conv_layer.weight[0][0], torch.zeros(5)])\n",
        "conv_layer_as_matrix = torch.stack([torch.roll(conv_kernel_as_vector, ii) for ii in range(8)], dim=0)\n",
        "print(\"convolution matrix:\", conv_layer_as_matrix, sep=\"\\n\")"
      ]
    },
    {
      "cell_type": "markdown",
      "metadata": {
        "id": "VJyRtf9NtTFG"
      },
      "source": [
        "> <small> Under the hood, the actual operation that implements the application of a convolutional kernel\n",
        "need not look like either of these\n",
        "(common approaches include\n",
        "[Winograd-type algorithms](https://arxiv.org/abs/1509.09308)\n",
        "and [Fast Fourier Transform-based algorithms](https://arxiv.org/abs/1312.5851)).</small>"
      ]
    },
    {
      "cell_type": "markdown",
      "metadata": {
        "id": "xytivdcItTFG"
      },
      "source": [
        "Though they may seem somewhat arbitrary and technical,\n",
        "convolutions are actually a deep and fundamental piece of mathematics and computer science.\n",
        "Fundamental as in\n",
        "[closely related to the multiplication algorithm we learn as children](https://charlesfrye.github.io/math/2019/02/20/multiplication-convoluted-part-one.html)\n",
        "and deep as in\n",
        "[closely related to the Fourier transform](https://math.stackexchange.com/questions/918345/fourier-transform-as-diagonalization-of-convolution).\n",
        "Generalized convolutions can show up\n",
        "wherever there is some kind of \"sum\" over some kind of \"paths\",\n",
        "as is common in dynamic programming.\n",
        "\n",
        "In the context of this course,\n",
        "we don't have time to dive much deeper on convolutions or convolutional neural networks.\n",
        "\n",
        "See Chris Olah's blog series\n",
        "([1](https://colah.github.io/posts/2014-07-Conv-Nets-Modular/),\n",
        "[2](https://colah.github.io/posts/2014-07-Understanding-Convolutions/),\n",
        "[3](https://colah.github.io/posts/2014-12-Groups-Convolution/))\n",
        "for a friendly introduction to the mathematical view of convolution.\n",
        "\n",
        "For more on convolutional neural network architectures, see\n",
        "[the lecture notes from Stanford's 2020 \"Deep Learning for Computer Vision\" course](https://cs231n.github.io/convolutional-networks/)."
      ]
    },
    {
      "cell_type": "markdown",
      "metadata": {
        "id": "uCJTwCWYzRee"
      },
      "source": [
        "## We apply two-dimensional convolutions to images."
      ]
    },
    {
      "cell_type": "markdown",
      "metadata": {
        "id": "a8RKOPAIx0O2"
      },
      "source": [
        "In building our text recognizer,\n",
        "we're working with images.\n",
        "Images have two dimensions of translation equivariance:\n",
        "left/right and up/down.\n",
        "So we use two-dimensional convolutions,\n",
        "instantiated in `torch.nn` as `nn.Conv2d` layers.\n",
        "Note that convolutional neural networks for images\n",
        "are so popular that when the term \"convolution\"\n",
        "is used without qualifier in a neural network context,\n",
        "it can be taken to mean two-dimensional convolutions.\n",
        "\n",
        "Where `Linear` layers took in batches of vectors of a fixed size\n",
        "and returned batches of vectors of a fixed size,\n",
        "`Conv2d` layers take in batches of two-dimensional _stacked feature maps_\n",
        "and return batches of two-dimensional stacked feature maps.\n",
        "\n",
        "A pseudocode type signature based on\n",
        "[`torchtyping`](https://github.com/patrick-kidger/torchtyping)\n",
        "might look like:"
      ]
    },
    {
      "cell_type": "markdown",
      "metadata": {
        "id": "sJvMdHL7w_lu"
      },
      "source": [
        "```python\n",
        "StackedFeatureMapIn = torch.Tensor[\"batch\", \"in_channels\", \"in_height\", \"in_width\"]\n",
        "StackedFeatureMapOut = torch.Tensor[\"batch\", \"out_channels\", \"out_height\", \"out_width\"]\n",
        "def same_convolution_2d(x: StackedFeatureMapIn) -> StackedFeatureMapOut:\n",
        "```"
      ]
    },
    {
      "cell_type": "markdown",
      "metadata": {
        "id": "nSMC8Fw3zPSz"
      },
      "source": [
        "Here, \"map\" is meant to evoke space:\n",
        "our feature maps tell us where\n",
        "features are spatially located.\n",
        "\n",
        "An RGB image is a stacked feature map.\n",
        "It is composed of three feature maps.\n",
        "The first tells us where the \"red\" feature is present,\n",
        "the second \"green\", the third \"blue\":"
      ]
    },
    {
      "cell_type": "code",
      "execution_count": 7,
      "metadata": {
        "id": "jIXT-mym3ljt",
        "colab": {
          "base_uri": "https://localhost:8080/",
          "height": 341
        },
        "outputId": "bf73ef67-2c5f-41bf-f00e-7c1ec69fbcca"
      },
      "outputs": [
        {
          "output_type": "execute_result",
          "data": {
            "text/html": [
              "<img src=\"https://upload.wikimedia.org/wikipedia/commons/5/56/RGB_channels_separation.png?20110219015028\"/>"
            ],
            "text/plain": [
              "<IPython.core.display.Image object>"
            ]
          },
          "metadata": {},
          "execution_count": 7
        }
      ],
      "source": [
        "display.Image(\n",
        "    url=\"https://upload.wikimedia.org/wikipedia/commons/5/56/RGB_channels_separation.png?20110219015028\")"
      ]
    },
    {
      "cell_type": "markdown",
      "metadata": {
        "id": "8WfCcO5xJ-hG"
      },
      "source": [
        "When we apply a convolutional layer to a stacked feature map with some number of channels,\n",
        "we get back a stacked feature map with some number of channels.\n",
        "\n",
        "This output is also a stack of feature maps,\n",
        "and so it is a perfectly acceptable\n",
        "input to another convolutional layer.\n",
        "That means we can compose convolutional layers together,\n",
        "just as we composed generic linear layers together.\n",
        "We again weave non-linear functions in between our linear convolutions,\n",
        "creating a _convolutional neural network_, or CNN."
      ]
    },
    {
      "cell_type": "markdown",
      "metadata": {
        "id": "R18TsGubJ_my"
      },
      "source": [
        "## Convolutional neural networks build up visual understanding layer by layer."
      ]
    },
    {
      "cell_type": "markdown",
      "metadata": {
        "id": "eV03KmYBz2QM"
      },
      "source": [
        "What is the equivalent of the labels, red/green/blue,\n",
        "for the channels in these feature maps?\n",
        "What does a high activation in some position in channel 32\n",
        "of the fifteenth layer of my network tell me?\n",
        "\n",
        "There is no guaranteed way to automatically determine the answer,\n",
        "nor is there a guarantee that the result is human-interpretable.\n",
        "OpenAI's Clarity team spent several years \"reverse engineering\"\n",
        "state-of-the-art convolutiuonal neural networks trained on photographs\n",
        "and found that many of these channels are\n",
        "[directly interpretable](https://distill.pub/2018/building-blocks/).\n",
        "\n",
        "For example, they found that if they pass an image through\n",
        "[GoogLeNet](https://doi.org/10.1109/cvpr.2015.7298594),\n",
        "aka InceptionV1,\n",
        "the winner of the\n",
        "[2014 ImageNet Very Large Scale Visual Recognition Challenge](https://www.image-net.org/challenges/LSVRC/2014/),"
      ]
    },
    {
      "cell_type": "code",
      "execution_count": 8,
      "metadata": {
        "id": "64KJR70q6dCh",
        "colab": {
          "base_uri": "https://localhost:8080/",
          "height": 245
        },
        "outputId": "74107cca-9fcf-4ba8-aee7-259946f0473e"
      },
      "outputs": [
        {
          "output_type": "execute_result",
          "data": {
            "text/html": [
              "<img src=\"https://distill.pub/2018/building-blocks/examples/input_images/dog_cat.jpeg\"/>"
            ],
            "text/plain": [
              "<IPython.core.display.Image object>"
            ]
          },
          "metadata": {},
          "execution_count": 8
        }
      ],
      "source": [
        "# a sample image\n",
        "display.Image(url=\"https://distill.pub/2018/building-blocks/examples/input_images/dog_cat.jpeg\")"
      ]
    },
    {
      "cell_type": "markdown",
      "metadata": {
        "id": "hJ7CvvG78CZ5"
      },
      "source": [
        "the features become increasingly complex,\n",
        "with channels in early layers (left)\n",
        "acting as maps for simple things like \"high frequency power\" or \"45 degree black-white edge\"\n",
        "and channels in later layers (to right)\n",
        "acting as feature maps for increasingly abstract concepts,\n",
        "like \"circle\" and eventually \"floppy round ear\" or \"pointy ear\":"
      ]
    },
    {
      "cell_type": "code",
      "execution_count": 9,
      "metadata": {
        "id": "6w5_RR8d9jEY",
        "colab": {
          "base_uri": "https://localhost:8080/",
          "height": 325
        },
        "outputId": "c91f2ba0-75e8-4201-9c22-b84e9fb9268e"
      },
      "outputs": [
        {
          "output_type": "execute_result",
          "data": {
            "text/html": [
              "<img src=\"https://fsdl-public-assets.s3.us-west-2.amazonaws.com/distill-feature-attrib.png\" width=\"1024\"/>"
            ],
            "text/plain": [
              "<IPython.core.display.Image object>"
            ]
          },
          "metadata": {},
          "execution_count": 9
        }
      ],
      "source": [
        "# from https://distill.pub/2018/building-blocks/\n",
        "display.Image(url=\"https://fsdl-public-assets.s3.us-west-2.amazonaws.com/distill-feature-attrib.png\", width=1024)"
      ]
    },
    {
      "cell_type": "markdown",
      "metadata": {
        "id": "HLiqEwMY_Co0"
      },
      "source": [
        "> <small> The small square images depict a heuristic estimate\n",
        "of what the entire collection of feature maps\n",
        "at a given layer represent (layer IDs at bottom).\n",
        "They are arranged in a spatial grid and their sizes represent\n",
        "the total magnitude of the layer's activations at that position.\n",
        "For details and interactivity, see\n",
        "[the original Distill article](https://distill.pub/2018/building-blocks/).</small>"
      ]
    },
    {
      "cell_type": "markdown",
      "metadata": {
        "id": "vl8XlEsaA54W"
      },
      "source": [
        "In the\n",
        "[Circuits Thread](https://distill.pub/2020/circuits/)\n",
        "blogpost series,\n",
        "the Open AI Clarity team\n",
        "combines careful examination of weights\n",
        "with direct experimentation\n",
        "to build an understanding of how these higher-level features\n",
        "are constructed in GoogLeNet.\n",
        "\n",
        "For example,\n",
        "they are able to provide reasonable interpretations for\n",
        "[almost every channel in the first five layers](https://distill.pub/2020/circuits/early-vision/).\n",
        "\n",
        "The cell below will pull down their \"weight explorer\"\n",
        "and embed it in this notebook.\n",
        "By default, it starts on\n",
        "[the 52nd channel in the `conv2d1` layer](https://storage.googleapis.com/distill-circuits/inceptionv1-weight-explorer/conv2d1_52.html),\n",
        "which constructs a large, phase-invariant\n",
        "[Gabor filter](https://en.wikipedia.org/wiki/Gabor_filter)\n",
        "from smaller, phase-sensitive filters.\n",
        "It is in turn used to construct\n",
        "[curve](https://storage.googleapis.com/distill-circuits/inceptionv1-weight-explorer/conv2d2_180.html)\n",
        "and\n",
        "[texture](https://storage.googleapis.com/distill-circuits/inceptionv1-weight-explorer/conv2d2_114.html)\n",
        "detectors --\n",
        "click on any image to navigate to the weight explorer page\n",
        "for that channel\n",
        "or change the `layer` and `idx`\n",
        "arguments.\n",
        "For additional context,\n",
        "check out the\n",
        "[Early Vision in InceptionV1 blogpost](https://distill.pub/2020/circuits/early-vision/).\n",
        "\n",
        "Click the \"View this neuron in the OpenAI Microscope\" link\n",
        "for an even richer interactive view,\n",
        "including activations on sample images\n",
        "([example](https://microscope.openai.com/models/inceptionv1/conv2d1_0/52)).\n",
        "\n",
        "The\n",
        "[Circuits Thread](https://distill.pub/2020/circuits/)\n",
        "which this explorer accompanies\n",
        "is chock-full of empirical observations, theoretical speculation, and nuggets of wisdom\n",
        "that are invaluable for developing intuition about both\n",
        "convolutional networks in particular and visual perception in general."
      ]
    },
    {
      "cell_type": "code",
      "execution_count": 10,
      "metadata": {
        "id": "I4-hkYjdB-qQ",
        "colab": {
          "base_uri": "https://localhost:8080/",
          "height": 761
        },
        "outputId": "cbc6806f-5180-4e17-cae5-59caf8eb8871"
      },
      "outputs": [
        {
          "output_type": "execute_result",
          "data": {
            "text/plain": [
              "<IPython.lib.display.IFrame at 0x79888838baf0>"
            ],
            "text/html": [
              "\n",
              "        <iframe\n",
              "            width=\"1024\"\n",
              "            height=\"720\"\n",
              "            src=\"https://storage.googleapis.com/distill-circuits/inceptionv1-weight-explorer/conv2d1_52.html\"\n",
              "            frameborder=\"0\"\n",
              "            allowfullscreen\n",
              "            \n",
              "        style=\"background: #FFF\";\n",
              "></iframe>\n",
              "        "
            ]
          },
          "metadata": {},
          "execution_count": 10
        }
      ],
      "source": [
        "layers = [\"conv2d0\", \"conv2d1\", \"conv2d2\", \"mixed3a\", \"mixed3b\"]\n",
        "layer = layers[1]\n",
        "idx = 52\n",
        "\n",
        "weight_explorer = display.IFrame(\n",
        "    src=f\"https://storage.googleapis.com/distill-circuits/inceptionv1-weight-explorer/{layer}_{idx}.html\", width=1024, height=720)\n",
        "weight_explorer.iframe = 'style=\"background: #FFF\";\\n><'.join(weight_explorer.iframe.split(\"><\"))  # inject background color\n",
        "weight_explorer"
      ]
    },
    {
      "cell_type": "markdown",
      "metadata": {
        "id": "NJ6_PCmVtTFH"
      },
      "source": [
        "# Applying convolutions to handwritten characters: `CNN`s on `EMNIST`"
      ]
    },
    {
      "cell_type": "markdown",
      "metadata": {
        "id": "N--VkRtR5Yr-"
      },
      "source": [
        "If we load up the `CNN` class from `text_recognizer.models`,\n",
        "we'll see that a `data_config` is required to instantiate the model:"
      ]
    },
    {
      "cell_type": "code",
      "execution_count": 11,
      "metadata": {
        "id": "N3MA--zytTFH"
      },
      "outputs": [],
      "source": [
        "import text_recognizer.models\n",
        "\n",
        "\n",
        "text_recognizer.models.CNN??"
      ]
    },
    {
      "cell_type": "markdown",
      "metadata": {
        "id": "7yCP46PO6XDg"
      },
      "source": [
        "So before we can make our convolutional network and train it,\n",
        "we'll need to get a hold of some data.\n",
        "This isn't a general constraint by the way --\n",
        "it's an implementation detail of the `text_recognizer` library.\n",
        "But datasets and models are generally coupled,\n",
        "so it's common for them to share configuration information."
      ]
    },
    {
      "cell_type": "markdown",
      "metadata": {
        "id": "6Z42K-jjtTFH"
      },
      "source": [
        "## The `EMNIST` Handwritten Character Dataset"
      ]
    },
    {
      "cell_type": "markdown",
      "metadata": {
        "id": "oiifKuu4tTFH"
      },
      "source": [
        "We could just use `MNIST` here,\n",
        "as we did in\n",
        "[the first lab](https://fsdl.me/lab01-colab).\n",
        "\n",
        "But we're aiming to eventually build a handwritten text recognition system,\n",
        "which means we need to handle letters and punctuation,\n",
        "not just numbers.\n",
        "\n",
        "So we instead use _EMNIST_,\n",
        "or [Extended MNIST](https://paperswithcode.com/paper/emnist-an-extension-of-mnist-to-handwritten),\n",
        "which includes letters and punctuation."
      ]
    },
    {
      "cell_type": "code",
      "execution_count": 12,
      "metadata": {
        "id": "3ePZW1Tfa00K",
        "colab": {
          "base_uri": "https://localhost:8080/"
        },
        "outputId": "439ee862-8a11-4a23-c9b1-b1b4fc9402ea"
      },
      "outputs": [
        {
          "output_type": "stream",
          "name": "stdout",
          "text": [
            "EMNIST dataset of handwritten characters and digits.\n",
            "\n",
            "    \"The EMNIST dataset is a set of handwritten character digits derived from the NIST Special Database 19\n",
            "    and converted to a 28x28 pixel image format and dataset structure that directly matches the MNIST dataset.\"\n",
            "    From https://www.nist.gov/itl/iad/image-group/emnist-dataset\n",
            "\n",
            "    The data split we will use is\n",
            "    EMNIST ByClass: 814,255 characters. 62 unbalanced classes.\n",
            "    \n"
          ]
        }
      ],
      "source": [
        "import text_recognizer.data\n",
        "\n",
        "\n",
        "emnist = text_recognizer.data.EMNIST()  # configure\n",
        "print(emnist.__doc__)"
      ]
    },
    {
      "cell_type": "markdown",
      "metadata": {
        "id": "D_yjBYhla6qp"
      },
      "source": [
        "We've built a PyTorch Lightning `DataModule`\n",
        "to encapsulate all the code needed to get this dataset ready to go:\n",
        "downloading to disk,\n",
        "[reformatting to make loading faster](https://www.h5py.org/),\n",
        "and splitting into training, validation, and test."
      ]
    },
    {
      "cell_type": "code",
      "execution_count": 13,
      "metadata": {
        "id": "ty2vakBBtTFI",
        "colab": {
          "base_uri": "https://localhost:8080/"
        },
        "outputId": "2dff4f1c-b41a-48f4-dcd0-6ca8ed30731b"
      },
      "outputs": [
        {
          "output_type": "stream",
          "name": "stdout",
          "text": [
            "Downloading raw dataset from https://s3-us-west-2.amazonaws.com/fsdl-public-assets/matlab.zip to /content/fsdl-text-recognizer-2022-labs/data/downloaded/emnist/matlab.zip...\n"
          ]
        },
        {
          "output_type": "stream",
          "name": "stderr",
          "text": [
            "709MB [00:16, 44.6MB/s]                           \n"
          ]
        },
        {
          "output_type": "stream",
          "name": "stdout",
          "text": [
            "Computing SHA-256...\n",
            "Unzipping EMNIST...\n",
            "Loading training data from .mat file\n",
            "Balancing classes to reduce amount of data\n",
            "Saving to HDF5 in a compressed format...\n",
            "Saving essential dataset parameters to text_recognizer/data...\n",
            "Cleaning up...\n"
          ]
        }
      ],
      "source": [
        "emnist.prepare_data()  # download, save to disk\n",
        "emnist.setup()  # create torch.utils.data.Datasets, do train/val split"
      ]
    },
    {
      "cell_type": "markdown",
      "metadata": {
        "id": "5h9bAXcu8l5J"
      },
      "source": [
        "A brief aside: you might be wondering where this data goes.\n",
        "Datasets are saved to disk inside the repo folder,\n",
        "but not tracked in version control.\n",
        "`git` works well for versioning source code\n",
        "and other text files, but it's a poor fit for large binary data.\n",
        "We only track and version metadata."
      ]
    },
    {
      "cell_type": "code",
      "execution_count": 14,
      "metadata": {
        "id": "E5cwDCM88SnU",
        "colab": {
          "base_uri": "https://localhost:8080/"
        },
        "outputId": "102d4695-56d8-4f27-f85c-cadfb18b9c92"
      },
      "outputs": [
        {
          "output_type": "stream",
          "name": "stdout",
          "text": [
            "/content/fsdl-text-recognizer-2022-labs/data\n",
            "downloaded  processed  raw\n",
            "metadata.toml  readme.md\n"
          ]
        }
      ],
      "source": [
        "!echo {emnist.data_dirname()}\n",
        "!ls {emnist.data_dirname()}\n",
        "!ls {emnist.data_dirname() / \"raw\" / \"emnist\"}"
      ]
    },
    {
      "cell_type": "markdown",
      "metadata": {
        "id": "IdsIBL9MtTFI"
      },
      "source": [
        "This class comes with a pretty printing method\n",
        "for quick examination of some of that metadata and basic descriptive statistics."
      ]
    },
    {
      "cell_type": "code",
      "execution_count": 15,
      "metadata": {
        "id": "Cyw66d6GtTFI",
        "colab": {
          "base_uri": "https://localhost:8080/"
        },
        "outputId": "06b521a3-6c4d-41ea-dcc3-f656bfead0ab"
      },
      "outputs": [
        {
          "output_type": "execute_result",
          "data": {
            "text/plain": [
              "EMNIST Dataset\n",
              "Num classes: 83\n",
              "Mapping: ['<B>', '<S>', '<E>', '<P>', '0', '1', '2', '3', '4', '5', '6', '7', '8', '9', 'A', 'B', 'C', 'D', 'E', 'F', 'G', 'H', 'I', 'J', 'K', 'L', 'M', 'N', 'O', 'P', 'Q', 'R', 'S', 'T', 'U', 'V', 'W', 'X', 'Y', 'Z', 'a', 'b', 'c', 'd', 'e', 'f', 'g', 'h', 'i', 'j', 'k', 'l', 'm', 'n', 'o', 'p', 'q', 'r', 's', 't', 'u', 'v', 'w', 'x', 'y', 'z', ' ', '!', '\"', '#', '&', \"'\", '(', ')', '*', '+', ',', '-', '.', '/', ':', ';', '?']\n",
              "Dims: (1, 28, 28)\n",
              "Train/val/test sizes: 260212, 65054, 53988\n",
              "Batch x stats: (torch.Size([128, 1, 28, 28]), torch.float32, tensor(0.), tensor(0.1726), tensor(0.3326), tensor(1.))\n",
              "Batch y stats: (torch.Size([128]), torch.int64, tensor(4), tensor(65))"
            ]
          },
          "metadata": {},
          "execution_count": 15
        }
      ],
      "source": [
        "emnist"
      ]
    },
    {
      "cell_type": "markdown",
      "metadata": {
        "id": "QT0burlOLgoH"
      },
      "source": [
        "\n",
        "> <small> You can add pretty printing to your own Python classes by writing\n",
        "`__str__` or `__repr__` methods for them.\n",
        "The former is generally expected to be human-readable,\n",
        "while the latter is generally expected to be machine-readable;\n",
        "we've broken with that custom here and used `__repr__`. </small>"
      ]
    },
    {
      "cell_type": "markdown",
      "metadata": {
        "id": "XJF3G5idtTFI"
      },
      "source": [
        "Because we've run `.prepare_data` and `.setup`,\n",
        "we can expect that this `DataModule` is ready to provide a `DataLoader`\n",
        "if we invoke the right method --\n",
        "sticking to the PyTorch Lightning API brings these kinds of convenient guarantees\n",
        "even when we're not using the `Trainer` class itself,\n",
        "[as described in Lab 2a](https://fsdl.me/lab02a-colab)."
      ]
    },
    {
      "cell_type": "code",
      "execution_count": 16,
      "metadata": {
        "id": "XJghcZkWtTFI"
      },
      "outputs": [],
      "source": [
        "xs, ys = next(iter(emnist.train_dataloader()))"
      ]
    },
    {
      "cell_type": "markdown",
      "metadata": {
        "id": "40FWjMT-tTFJ"
      },
      "source": [
        "Run the cell below to inspect random elements of this batch."
      ]
    },
    {
      "cell_type": "code",
      "execution_count": 28,
      "metadata": {
        "id": "0hywyEI_tTFJ",
        "colab": {
          "base_uri": "https://localhost:8080/",
          "height": 62
        },
        "outputId": "95bbe0f4-5caa-4201-f705-9dd2ac267485"
      },
      "outputs": [
        {
          "output_type": "stream",
          "name": "stdout",
          "text": [
            "N\n"
          ]
        },
        {
          "output_type": "execute_result",
          "data": {
            "text/plain": [
              "<PIL.PngImagePlugin.PngImageFile image mode=RGB size=28x28>"
            ],
            "image/png": "[encoded data removed]"
          },
          "metadata": {},
          "execution_count": 28
        }
      ],
      "source": [
        "import wandb\n",
        "\n",
        "idx = random.randint(0, len(xs) - 1)\n",
        "\n",
        "print(emnist.mapping[ys[idx]])\n",
        "wandb.Image(xs[idx]).image"
      ]
    },
    {
      "cell_type": "markdown",
      "metadata": {
        "id": "hdg_wYWntTFJ"
      },
      "source": [
        "## Putting convolutions in a `torch.nn.Module`"
      ]
    },
    {
      "cell_type": "markdown",
      "metadata": {
        "id": "JGuSx_zvtTFJ"
      },
      "source": [
        "Because we have the data,\n",
        "we now have a `data_config`\n",
        "and can instantiate the model."
      ]
    },
    {
      "cell_type": "code",
      "execution_count": 18,
      "metadata": {
        "id": "rxLf7-5jtTFJ",
        "colab": {
          "base_uri": "https://localhost:8080/"
        },
        "outputId": "270da045-6be6-4295-d197-2df50e6094f1"
      },
      "outputs": [
        {
          "output_type": "execute_result",
          "data": {
            "text/plain": [
              "CNN(\n",
              "  (conv1): ConvBlock(\n",
              "    (conv): Conv2d(1, 64, kernel_size=(3, 3), stride=(1, 1), padding=(1, 1))\n",
              "    (relu): ReLU()\n",
              "  )\n",
              "  (conv2): ConvBlock(\n",
              "    (conv): Conv2d(64, 64, kernel_size=(3, 3), stride=(1, 1), padding=(1, 1))\n",
              "    (relu): ReLU()\n",
              "  )\n",
              "  (dropout): Dropout(p=0.25, inplace=False)\n",
              "  (max_pool): MaxPool2d(kernel_size=2, stride=2, padding=0, dilation=1, ceil_mode=False)\n",
              "  (fc1): Linear(in_features=12544, out_features=128, bias=True)\n",
              "  (fc2): Linear(in_features=128, out_features=83, bias=True)\n",
              ")"
            ]
          },
          "metadata": {},
          "execution_count": 18
        }
      ],
      "source": [
        "data_config = emnist.config()\n",
        "\n",
        "cnn = text_recognizer.models.CNN(data_config)\n",
        "cnn  # reveals the nn.Modules attached to our nn.Module"
      ]
    },
    {
      "cell_type": "markdown",
      "metadata": {
        "id": "jkeJNVnIMVzJ"
      },
      "source": [
        "We can run this network on our inputs,\n",
        "but we don't expect it to produce correct outputs without training."
      ]
    },
    {
      "cell_type": "code",
      "execution_count": 19,
      "metadata": {
        "id": "4EwujOGqMAZY",
        "colab": {
          "base_uri": "https://localhost:8080/",
          "height": 62
        },
        "outputId": "255fabf1-8ad4-434f-ad83-284ab93b7205"
      },
      "outputs": [
        {
          "output_type": "stream",
          "name": "stdout",
          "text": [
            "output: 4\n"
          ]
        },
        {
          "output_type": "execute_result",
          "data": {
            "text/plain": [
              "<PIL.PngImagePlugin.PngImageFile image mode=RGB size=28x28>"
            ],
            "image/png": "[encoded data removed]"
          },
          "metadata": {},
          "execution_count": 19
        }
      ],
      "source": [
        "idx = random.randint(0, len(xs) - 1)\n",
        "outs = cnn(xs[idx:idx+1])\n",
        "\n",
        "print(\"output:\", emnist.mapping[torch.argmax(outs)])\n",
        "wandb.Image(xs[idx]).image"
      ]
    },
    {
      "cell_type": "markdown",
      "metadata": {
        "id": "P3L8u0estTFJ"
      },
      "source": [
        "We can inspect the `.forward` method to see how these `nn.Module`s are used.\n",
        "\n",
        "> <small> Note: we encourage you to read through the code --\n",
        "either inside the notebooks, as below,\n",
        "in your favorite text editor locally, or\n",
        "[on GitHub](https://github.com/full-stack-deep-learning/fsdl-text-recognizer-2022-labs).\n",
        "There's lots of useful bits of Python that we don't have time to cover explicitly in the labs.</small>"
      ]
    },
    {
      "cell_type": "code",
      "execution_count": 29,
      "metadata": {
        "id": "RtA0W8jvtTFJ"
      },
      "outputs": [],
      "source": [
        "cnn.forward??"
      ]
    },
    {
      "cell_type": "markdown",
      "metadata": {
        "id": "VCycQ88gtTFK"
      },
      "source": [
        "We apply convolutions followed by non-linearities,\n",
        "with intermittent \"pooling\" layers that apply downsampling --\n",
        "similar to the 1989\n",
        "[LeNet](https://doi.org/10.1162%2Fneco.1989.1.4.541)\n",
        "architecture or the 2012\n",
        "[AlexNet](https://doi.org/10.1145%2F3065386)\n",
        "architecture."
      ]
    },
    {
      "cell_type": "markdown",
      "metadata": {
        "id": "qkGJCnMttTFK"
      },
      "source": [
        "The final classification is performed by an MLP.\n",
        "\n",
        "In order to get vectors to pass into that MLP,\n",
        "we first apply `torch.flatten`."
      ]
    },
    {
      "cell_type": "code",
      "execution_count": 30,
      "metadata": {
        "id": "WZPhw7ufAKZ7",
        "colab": {
          "base_uri": "https://localhost:8080/"
        },
        "outputId": "80e7c23c-6a06-403c-ebe0-f7192f308e4e"
      },
      "outputs": [
        {
          "output_type": "execute_result",
          "data": {
            "text/plain": [
              "tensor([1., 2., 3., 4.])"
            ]
          },
          "metadata": {},
          "execution_count": 30
        }
      ],
      "source": [
        "torch.flatten(torch.Tensor([[1, 2], [3, 4]]))"
      ]
    },
    {
      "cell_type": "code",
      "source": [
        "torch.flatten(torch.Tensor([[[1, 2],\n",
        "                             [3, 4]],\n",
        "                            [[5, 6],\n",
        "                             [7, 8]]]), 1)"
      ],
      "metadata": {
        "colab": {
          "base_uri": "https://localhost:8080/"
        },
        "id": "Fo-FY-1GGUH2",
        "outputId": "7c767e58-50d8-4b91-efd0-e1294cd4a44e"
      },
      "execution_count": 34,
      "outputs": [
        {
          "output_type": "execute_result",
          "data": {
            "text/plain": [
              "tensor([[1., 2., 3., 4.],\n",
              "        [5., 6., 7., 8.]])"
            ]
          },
          "metadata": {},
          "execution_count": 34
        }
      ]
    },
    {
      "cell_type": "markdown",
      "metadata": {
        "id": "jCoCa3vCNM8j"
      },
      "source": [
        "## Design considerations for CNNs"
      ]
    },
    {
      "cell_type": "markdown",
      "metadata": {
        "id": "dDLEMnPINTj7"
      },
      "source": [
        "Since the release of AlexNet,\n",
        "there has been a feverish decade of engineering and innovation in CNNs --\n",
        "[dilated convolutions](https://arxiv.org/abs/1511.07122),\n",
        "[residual connections](https://arxiv.org/abs/1512.03385), and\n",
        "[batch normalization](https://arxiv.org/abs/1502.03167)\n",
        "came out in 2015 alone, and\n",
        "[work continues](https://arxiv.org/abs/2201.03545) --\n",
        "so we can only scratch the surface in this course and\n",
        "[the devil is in the details](https://arxiv.org/abs/1405.3531v4).\n",
        "\n",
        "The progress of DNNs in general and CNNs in particular\n",
        "has been mostly evolutionary,\n",
        "with lots of good ideas that didn't work out\n",
        "and weird hacks that stuck around because they did.\n",
        "That can make it very hard to design a fresh architecture\n",
        "from first principles that's anywhere near as effective as existing architectures.\n",
        "You're better off tweaking and mutating an existing architecture\n",
        "than trying to design one yourself.\n",
        "\n",
        "If you're not keeping close tabs on the field,\n",
        "when your first start looking for an architecture to base your work off of\n",
        "it's best to go to trusted aggregators, like\n",
        "[Torch IMage Models](https://github.com/rwightman/pytorch-image-models),\n",
        "or `timm`, on GitHub, or\n",
        "[Papers With Code](https://paperswithcode.com),\n",
        "specifically the section for\n",
        "[computer vision](https://paperswithcode.com/methods/area/computer-vision).\n",
        "You can also take a more bottom-up approach by checking\n",
        "the leaderboards of the latest\n",
        "[Kaggle competitions on computer vision](https://www.kaggle.com/competitions?searchQuery=computer+vision).\n",
        "\n",
        "We'll briefly touch here on some of the main design considerations\n",
        "with classic CNN architectures."
      ]
    },
    {
      "cell_type": "markdown",
      "metadata": {
        "id": "nd0OeyouDNlS"
      },
      "source": [
        "### Shapes and padding"
      ]
    },
    {
      "cell_type": "markdown",
      "metadata": {
        "id": "5w3p8QP6AnGQ"
      },
      "source": [
        "In the `.forward` pass of the `CNN`,\n",
        "we've included comments that indicate the expected shapes\n",
        "of tensors after each line that changes the shape.\n",
        "\n",
        "Tracking and correctly handling shapes is one of the bugbears\n",
        "of CNNs, especially architectures,\n",
        "like LeNet/AlexNet, that include MLP components\n",
        "that can only operate on fixed-shape tensors."
      ]
    },
    {
      "cell_type": "markdown",
      "metadata": {
        "id": "vgbM30jstTFK"
      },
      "source": [
        "[Shape arithmetic gets pretty hairy pretty fast](https://arxiv.org/abs/1603.07285)\n",
        "if you're supporting the wide variety of convolutions.\n",
        "\n",
        "The easiest way to avoid shape bugs is to keep things simple:\n",
        "choose your convolution parameters,\n",
        "like `padding` and `stride`,\n",
        "to keep the shape the same before and after\n",
        "the convolution.\n",
        "\n",
        "That's what we do, by choosing `padding=1`\n",
        "for `kernel_size=3` and `stride=1`.\n",
        "With unit strides and odd-numbered kernel size,\n",
        "the padding that keeps\n",
        "the input the same size is `kernel_size // 2`.\n",
        "\n",
        "As shapes change, so does the amount of GPU memory taken up by the tensors.\n",
        "Keeping sizes fixed within a block removes one axis of variation\n",
        "in the demands on an important resource.\n",
        "\n",
        "After applying our pooling layer,\n",
        "we can just increase the number of kernels by the right factor\n",
        "to keep total tensor size,\n",
        "and thus memory footprint, constant."
      ]
    },
    {
      "cell_type": "markdown",
      "metadata": {
        "id": "2BCkTZGSDSBG"
      },
      "source": [
        "### Parameters, computation, and bottlenecks"
      ]
    },
    {
      "cell_type": "markdown",
      "metadata": {
        "id": "pZbgm7wztTFK"
      },
      "source": [
        "If we review the `num`ber of `el`ements in each of the layers,\n",
        "we see that one layer has far more entries than all the others:"
      ]
    },
    {
      "cell_type": "code",
      "execution_count": 35,
      "metadata": {
        "id": "8nfjPVwztTFK",
        "colab": {
          "base_uri": "https://localhost:8080/"
        },
        "outputId": "0c528062-6a74-4045-cdb4-6af6846fcd10"
      },
      "outputs": [
        {
          "output_type": "execute_result",
          "data": {
            "text/plain": [
              "[576, 64, 36864, 64, 1605632, 128, 10624, 83]"
            ]
          },
          "metadata": {},
          "execution_count": 35
        }
      ],
      "source": [
        "[p.numel() for p in cnn.parameters()]  # conv weight + bias, conv weight + bias, fc weight + bias, fc weight + bias"
      ]
    },
    {
      "cell_type": "markdown",
      "metadata": {
        "id": "DzIoCz1FtTFK"
      },
      "source": [
        "The biggest layer is typically\n",
        "the one in between the convolutional component\n",
        "and the MLP component:"
      ]
    },
    {
      "cell_type": "code",
      "execution_count": 36,
      "metadata": {
        "id": "QYrlUprltTFK",
        "colab": {
          "base_uri": "https://localhost:8080/"
        },
        "outputId": "f4451d6c-35b3-453e-e283-1317772ba1c4"
      },
      "outputs": [
        {
          "output_type": "execute_result",
          "data": {
            "text/plain": [
              "(torch.Size([128, 12544]), 12544)"
            ]
          },
          "metadata": {},
          "execution_count": 36
        }
      ],
      "source": [
        "biggest_layer = [p for p in cnn.parameters() if p.numel() == max(p.numel() for p in cnn.parameters())][0]\n",
        "biggest_layer.shape, cnn.fc_input_dim"
      ]
    },
    {
      "cell_type": "markdown",
      "metadata": {
        "id": "HSHdvEGptTFL"
      },
      "source": [
        "This layer dominates the cost of storing the network on disk.\n",
        "That makes it a common target for\n",
        "regularization techniques like DropOut\n",
        "(as in our architecture)\n",
        "and performance optimizations like\n",
        "[pruning](https://pytorch.org/tutorials/intermediate/pruning_tutorial.html).\n",
        "\n",
        "Heuristically, we often associated more parameters with more computation.\n",
        "But just because that layer has the most parameters\n",
        "does not mean that most of the compute time is spent in that layer.\n",
        "\n",
        "Convolutions reuse the same parameters over and over,\n",
        "so the total number of FLOPs done by the layer can be higher\n",
        "than that done by layers with more parameters --\n",
        "much higher."
      ]
    },
    {
      "cell_type": "code",
      "execution_count": 37,
      "metadata": {
        "id": "YLisj1SptTFL",
        "colab": {
          "base_uri": "https://localhost:8080/"
        },
        "outputId": "0897fccf-3ee2-4f20-c359-beb3997e62f8"
      },
      "outputs": [
        {
          "output_type": "execute_result",
          "data": {
            "text/plain": [
              "1605632"
            ]
          },
          "metadata": {},
          "execution_count": 37
        }
      ],
      "source": [
        "# for the Linear layers, number of multiplications per input == nparams\n",
        "cnn.fc1.weight.numel()"
      ]
    },
    {
      "cell_type": "code",
      "execution_count": 38,
      "metadata": {
        "id": "Yo2oINHRtTFL"
      },
      "outputs": [],
      "source": [
        "# for the Conv2D layers, it's more complicated\n",
        "\n",
        "def approx_conv_multiplications(kernel_shape, input_size=(32, 28, 28)):  # this is a rough and dirty approximation\n",
        "    num_kernels, input_channels, kernel_height, kernel_width = kernel_shape\n",
        "    input_height, input_width = input_size[1], input_size[2]\n",
        "\n",
        "    multiplications_per_kernel_application = input_channels * kernel_height * kernel_width\n",
        "    num_applications = ((input_height - kernel_height + 1) * (input_width - kernel_width + 1))\n",
        "    mutliplications_per_kernel = num_applications * multiplications_per_kernel_application\n",
        "\n",
        "    return mutliplications_per_kernel * num_kernels"
      ]
    },
    {
      "cell_type": "code",
      "execution_count": 39,
      "metadata": {
        "id": "LwCbZU9PtTFL",
        "colab": {
          "base_uri": "https://localhost:8080/"
        },
        "outputId": "1912b531-fb99-4513-8db6-8261f27e1216"
      },
      "outputs": [
        {
          "output_type": "execute_result",
          "data": {
            "text/plain": [
              "24920064"
            ]
          },
          "metadata": {},
          "execution_count": 39
        }
      ],
      "source": [
        "approx_conv_multiplications(cnn.conv2.conv.weight.shape)"
      ]
    },
    {
      "cell_type": "code",
      "execution_count": 40,
      "metadata": {
        "id": "Sdco4m9UtTFL",
        "colab": {
          "base_uri": "https://localhost:8080/"
        },
        "outputId": "3e6e8117-d7e7-47cf-8f6d-34ede3256bf0"
      },
      "outputs": [
        {
          "output_type": "execute_result",
          "data": {
            "text/plain": [
              "15"
            ]
          },
          "metadata": {},
          "execution_count": 40
        }
      ],
      "source": [
        "# ratio of multiplications in the convolution to multiplications in the fully-connected layer is large!\n",
        "approx_conv_multiplications(cnn.conv2.conv.weight.shape) // cnn.fc1.weight.numel()"
      ]
    },
    {
      "cell_type": "markdown",
      "metadata": {
        "id": "joVoBEtqtTFL"
      },
      "source": [
        "Depending on your compute hardware and the problem characteristics,\n",
        "either the MLP component or the convolutional component\n",
        "could become the critical bottleneck.\n",
        "\n",
        "When you're memory constrained, like when transferring a model \"over the wire\" to a browser,\n",
        "the MLP component is likely to be the bottleneck,\n",
        "whereas when you are compute-constrained, like when running a model on a low-power edge device\n",
        "or in an application with strict low-latency requirements,\n",
        "the convolutional component is likely to be the bottleneck.\n"
      ]
    },
    {
      "cell_type": "markdown",
      "metadata": {
        "id": "pGSyp67dtTFM"
      },
      "source": [
        "## Training a `CNN` on `EMNIST` with the Lightning `Trainer` and `run_experiment`"
      ]
    },
    {
      "cell_type": "markdown",
      "metadata": {
        "id": "AYTJs7snQfX0"
      },
      "source": [
        "We have a model and we have data,\n",
        "so we could just go ahead and start training in raw PyTorch,\n",
        "[as we did in Lab 01](https://fsdl.me/lab01-colab).\n",
        "\n",
        "But as we saw in that lab,\n",
        "there are good reasons to use a framework\n",
        "to organize training and provide fixed interfaces and abstractions.\n",
        "So we're going to use PyTorch Lightning, which is\n",
        "[covered in detail in Lab 02a](https://fsdl.me/lab02a-colab)."
      ]
    },
    {
      "cell_type": "markdown",
      "metadata": {
        "id": "hZYaJ4bdMcWc"
      },
      "source": [
        "We provide a simple script that implements a command line interface\n",
        "to training with PyTorch Lightning\n",
        "using the models and datasets in this repository:\n",
        "`training/run_experiment.py`."
      ]
    },
    {
      "cell_type": "code",
      "execution_count": 41,
      "metadata": {
        "id": "52kIYhPBPLNZ",
        "colab": {
          "base_uri": "https://localhost:8080/"
        },
        "outputId": "b3e35ecf-e3c6-4474-c521-415647b84b03"
      },
      "outputs": [
        {
          "output_type": "stream",
          "name": "stdout",
          "text": [
            "usage: run_experiment.py [--logger [LOGGER]] [--checkpoint_callback [CHECKPOINT_CALLBACK]]\n",
            "                         [--enable_checkpointing [ENABLE_CHECKPOINTING]]\n",
            "                         [--default_root_dir DEFAULT_ROOT_DIR]\n",
            "                         [--gradient_clip_val GRADIENT_CLIP_VAL]\n",
            "                         [--gradient_clip_algorithm GRADIENT_CLIP_ALGORITHM]\n",
            "                         [--process_position PROCESS_POSITION] [--num_nodes NUM_NODES]\n",
            "                         [--num_processes NUM_PROCESSES] [--devices DEVICES] [--gpus GPUS]\n",
            "                         [--auto_select_gpus [AUTO_SELECT_GPUS]] [--tpu_cores TPU_CORES]\n",
            "                         [--ipus IPUS] [--log_gpu_memory LOG_GPU_MEMORY]\n",
            "                         [--progress_bar_refresh_rate PROGRESS_BAR_REFRESH_RATE]\n",
            "                         [--enable_progress_bar [ENABLE_PROGRESS_BAR]]\n",
            "                         [--overfit_batches OVERFIT_BATCHES] [--track_grad_norm TRACK_GRAD_NORM]\n",
            "                         [--check_val_every_n_epoch CHECK_VAL_EVERY_N_EPOCH]\n",
            "                         [--fast_dev_run [FAST_DEV_RUN]]\n",
            "                         [--accumulate_grad_batches ACCUMULATE_GRAD_BATCHES]\n",
            "                         [--max_epochs MAX_EPOCHS] [--min_epochs MIN_EPOCHS]\n",
            "                         [--max_steps MAX_STEPS] [--min_steps MIN_STEPS] [--max_time MAX_TIME]\n",
            "                         [--limit_train_batches LIMIT_TRAIN_BATCHES]\n",
            "                         [--limit_val_batches LIMIT_VAL_BATCHES]\n",
            "                         [--limit_test_batches LIMIT_TEST_BATCHES]\n",
            "                         [--limit_predict_batches LIMIT_PREDICT_BATCHES]\n",
            "                         [--val_check_interval VAL_CHECK_INTERVAL]\n",
            "                         [--flush_logs_every_n_steps FLUSH_LOGS_EVERY_N_STEPS]\n",
            "                         [--log_every_n_steps LOG_EVERY_N_STEPS] [--accelerator ACCELERATOR]\n",
            "                         [--strategy STRATEGY] [--sync_batchnorm [SYNC_BATCHNORM]]\n",
            "                         [--precision PRECISION] [--enable_model_summary [ENABLE_MODEL_SUMMARY]]\n",
            "                         [--weights_summary WEIGHTS_SUMMARY]\n",
            "                         [--weights_save_path WEIGHTS_SAVE_PATH]\n",
            "                         [--num_sanity_val_steps NUM_SANITY_VAL_STEPS]\n",
            "                         [--resume_from_checkpoint RESUME_FROM_CHECKPOINT] [--profiler PROFILER]\n",
            "                         [--benchmark [BENCHMARK]] [--deterministic [DETERMINISTIC]]\n",
            "                         [--reload_dataloaders_every_n_epochs RELOAD_DATALOADERS_EVERY_N_EPOCHS]\n",
            "                         [--auto_lr_find [AUTO_LR_FIND]]\n",
            "                         [--replace_sampler_ddp [REPLACE_SAMPLER_DDP]]\n",
            "                         [--detect_anomaly [DETECT_ANOMALY]]\n",
            "                         [--auto_scale_batch_size [AUTO_SCALE_BATCH_SIZE]]\n",
            "                         [--prepare_data_per_node [PREPARE_DATA_PER_NODE]] [--plugins PLUGINS]\n",
            "                         [--amp_backend AMP_BACKEND] [--amp_level AMP_LEVEL]\n",
            "                         [--move_metrics_to_cpu [MOVE_METRICS_TO_CPU]]\n",
            "                         [--multiple_trainloader_mode MULTIPLE_TRAINLOADER_MODE]\n",
            "                         [--stochastic_weight_avg [STOCHASTIC_WEIGHT_AVG]]\n",
            "                         [--terminate_on_nan [TERMINATE_ON_NAN]] [--data_class DATA_CLASS]\n",
            "                         [--model_class MODEL_CLASS] [--load_checkpoint LOAD_CHECKPOINT]\n",
            "                         [--stop_early STOP_EARLY] [--batch_size BATCH_SIZE]\n",
            "                         [--num_workers NUM_WORKERS] [--fc1 FC1] [--fc2 FC2]\n",
            "                         [--fc_dropout FC_DROPOUT] [--optimizer OPTIMIZER] [--lr LR]\n",
            "                         [--one_cycle_max_lr ONE_CYCLE_MAX_LR]\n",
            "                         [--one_cycle_total_steps ONE_CYCLE_TOTAL_STEPS] [--loss LOSS] [--help]\n",
            "\n",
            "options:\n",
            "  --data_class DATA_CLASS\n",
            "                        String identifier for the data class, relative to text_recognizer.data.\n",
            "  --model_class MODEL_CLASS\n",
            "                        String identifier for the model class, relative to text_recognizer.models.\n",
            "  --load_checkpoint LOAD_CHECKPOINT\n",
            "                        If passed, loads a model from the provided path.\n",
            "  --stop_early STOP_EARLY\n",
            "                        If non-zero, applies early stopping, with the provided value as the\n",
            "                        'patience' argument. Default is 0.\n",
            "  --help, -h\n",
            "\n",
            "pl.Trainer:\n",
            "  --logger [LOGGER]     Logger (or iterable collection of loggers) for experiment tracking. A\n",
            "                        ``True`` value uses the default ``TensorBoardLogger``. ``False`` will\n",
            "                        disable logging. If multiple loggers are provided and the `save_dir`\n",
            "                        property of that logger is not set, local files (checkpoints, profiler\n",
            "                        traces, etc.) are saved in ``default_root_dir`` rather than in the\n",
            "                        ``log_dir`` of any of the individual loggers. Default: ``True``.\n",
            "  --checkpoint_callback [CHECKPOINT_CALLBACK]\n",
            "                        If ``True``, enable checkpointing. Default: ``None``. .. deprecated:: v1.5\n",
            "                        ``checkpoint_callback`` has been deprecated in v1.5 and will be removed in\n",
            "                        v1.7. Please consider using ``enable_checkpointing`` instead.\n",
            "  --enable_checkpointing [ENABLE_CHECKPOINTING]\n",
            "                        If ``True``, enable checkpointing. It will configure a default\n",
            "                        ModelCheckpoint callback if there is no user-defined ModelCheckpoint in\n",
            "                        :paramref:`~pytorch_lightning.trainer.trainer.Trainer.callbacks`. Default:\n",
            "                        ``True``.\n",
            "  --default_root_dir DEFAULT_ROOT_DIR\n",
            "                        Default path for logs and weights when no logger/ckpt_callback passed.\n",
            "                        Default: ``os.getcwd()``. Can be remote file paths such as\n",
            "                        `s3://mybucket/path` or 'hdfs://path/'\n",
            "  --gradient_clip_val GRADIENT_CLIP_VAL\n",
            "                        The value at which to clip gradients. Passing ``gradient_clip_val=None``\n",
            "                        disables gradient clipping. If using Automatic Mixed Precision (AMP), the\n",
            "                        gradients will be unscaled before. Default: ``None``.\n",
            "  --gradient_clip_algorithm GRADIENT_CLIP_ALGORITHM\n",
            "                        The gradient clipping algorithm to use. Pass\n",
            "                        ``gradient_clip_algorithm=\"value\"`` to clip by value, and\n",
            "                        ``gradient_clip_algorithm=\"norm\"`` to clip by norm. By default it will be\n",
            "                        set to ``\"norm\"``.\n",
            "  --process_position PROCESS_POSITION\n",
            "                        Orders the progress bar when running multiple models on same machine. ..\n",
            "                        deprecated:: v1.5 ``process_position`` has been deprecated in v1.5 and\n",
            "                        will be removed in v1.7. Please pass\n",
            "                        :class:`~pytorch_lightning.callbacks.progress.TQDMProgressBar` with\n",
            "                        ``process_position`` directly to the Trainer's ``callbacks`` argument\n",
            "                        instead.\n",
            "  --num_nodes NUM_NODES\n",
            "                        Number of GPU nodes for distributed training. Default: ``1``.\n",
            "  --num_processes NUM_PROCESSES\n",
            "                        Number of processes for distributed training with ``accelerator=\"cpu\"``.\n",
            "                        Default: ``1``.\n",
            "  --devices DEVICES     Will be mapped to either `gpus`, `tpu_cores`, `num_processes` or `ipus`,\n",
            "                        based on the accelerator type.\n",
            "  --gpus GPUS           Number of GPUs to train on (int) or which GPUs to train on (list or str)\n",
            "                        applied per node Default: ``None``.\n",
            "  --auto_select_gpus [AUTO_SELECT_GPUS]\n",
            "                        If enabled and ``gpus`` or ``devices`` is an integer, pick available gpus\n",
            "                        automatically. This is especially useful when GPUs are configured to be in\n",
            "                        \"exclusive mode\", such that only one process at a time can access them.\n",
            "                        Default: ``False``.\n",
            "  --tpu_cores TPU_CORES\n",
            "                        How many TPU cores to train on (1 or 8) / Single TPU to train on (1)\n",
            "                        Default: ``None``.\n",
            "  --ipus IPUS           How many IPUs to train on. Default: ``None``.\n",
            "  --log_gpu_memory LOG_GPU_MEMORY\n",
            "                        None, 'min_max', 'all'. Might slow performance. .. deprecated:: v1.5\n",
            "                        Deprecated in v1.5.0 and will be removed in v1.7.0 Please use the\n",
            "                        ``DeviceStatsMonitor`` callback directly instead.\n",
            "  --progress_bar_refresh_rate PROGRESS_BAR_REFRESH_RATE\n",
            "                        How often to refresh progress bar (in steps). Value ``0`` disables\n",
            "                        progress bar. Ignored when a custom progress bar is passed to\n",
            "                        :paramref:`~Trainer.callbacks`. Default: None, means a suitable value will\n",
            "                        be chosen based on the environment (terminal, Google COLAB, etc.). ..\n",
            "                        deprecated:: v1.5 ``progress_bar_refresh_rate`` has been deprecated in\n",
            "                        v1.5 and will be removed in v1.7. Please pass\n",
            "                        :class:`~pytorch_lightning.callbacks.progress.TQDMProgressBar` with\n",
            "                        ``refresh_rate`` directly to the Trainer's ``callbacks`` argument instead.\n",
            "                        To disable the progress bar, pass ``enable_progress_bar = False`` to the\n",
            "                        Trainer.\n",
            "  --enable_progress_bar [ENABLE_PROGRESS_BAR]\n",
            "                        Whether to enable to progress bar by default. Default: ``False``.\n",
            "  --overfit_batches OVERFIT_BATCHES\n",
            "                        Overfit a fraction of training data (float) or a set number of batches\n",
            "                        (int). Default: ``0.0``.\n",
            "  --track_grad_norm TRACK_GRAD_NORM\n",
            "                        -1 no tracking. Otherwise tracks that p-norm. May be set to 'inf'\n",
            "                        infinity-norm. If using Automatic Mixed Precision (AMP), the gradients\n",
            "                        will be unscaled before logging them. Default: ``-1``.\n",
            "  --check_val_every_n_epoch CHECK_VAL_EVERY_N_EPOCH\n",
            "                        Check val every n train epochs. Default: ``1``.\n",
            "  --fast_dev_run [FAST_DEV_RUN]\n",
            "                        Runs n if set to ``n`` (int) else 1 if set to ``True`` batch(es) of train,\n",
            "                        val and test to find any bugs (ie: a sort of unit test). Default:\n",
            "                        ``False``.\n",
            "  --accumulate_grad_batches ACCUMULATE_GRAD_BATCHES\n",
            "                        Accumulates grads every k batches or as set up in the dict. Default:\n",
            "                        ``None``.\n",
            "  --max_epochs MAX_EPOCHS\n",
            "                        Stop training once this number of epochs is reached. Disabled by default\n",
            "                        (None). If both max_epochs and max_steps are not specified, defaults to\n",
            "                        ``max_epochs = 1000``. To enable infinite training, set ``max_epochs =\n",
            "                        -1``.\n",
            "  --min_epochs MIN_EPOCHS\n",
            "                        Force training for at least these many epochs. Disabled by default (None).\n",
            "  --max_steps MAX_STEPS\n",
            "                        Stop training after this number of steps. Disabled by default (-1). If\n",
            "                        ``max_steps = -1`` and ``max_epochs = None``, will default to ``max_epochs\n",
            "                        = 1000``. To enable infinite training, set ``max_epochs`` to ``-1``.\n",
            "  --min_steps MIN_STEPS\n",
            "                        Force training for at least these number of steps. Disabled by default\n",
            "                        (``None``).\n",
            "  --max_time MAX_TIME   Stop training after this amount of time has passed. Disabled by default\n",
            "                        (``None``). The time duration can be specified in the format DD:HH:MM:SS\n",
            "                        (days, hours, minutes seconds), as a :class:`datetime.timedelta`, or a\n",
            "                        dictionary with keys that will be passed to :class:`datetime.timedelta`.\n",
            "  --limit_train_batches LIMIT_TRAIN_BATCHES\n",
            "                        How much of training dataset to check (float = fraction, int =\n",
            "                        num_batches). Default: ``1.0``.\n",
            "  --limit_val_batches LIMIT_VAL_BATCHES\n",
            "                        How much of validation dataset to check (float = fraction, int =\n",
            "                        num_batches). Default: ``1.0``.\n",
            "  --limit_test_batches LIMIT_TEST_BATCHES\n",
            "                        How much of test dataset to check (float = fraction, int = num_batches).\n",
            "                        Default: ``1.0``.\n",
            "  --limit_predict_batches LIMIT_PREDICT_BATCHES\n",
            "                        How much of prediction dataset to check (float = fraction, int =\n",
            "                        num_batches). Default: ``1.0``.\n",
            "  --val_check_interval VAL_CHECK_INTERVAL\n",
            "                        How often to check the validation set. Pass a ``float`` in the range [0.0,\n",
            "                        1.0] to check after a fraction of the training epoch. Pass an ``int`` to\n",
            "                        check after a fixed number of training batches. Default: ``1.0``.\n",
            "  --flush_logs_every_n_steps FLUSH_LOGS_EVERY_N_STEPS\n",
            "                        How often to flush logs to disk (defaults to every 100 steps). ..\n",
            "                        deprecated:: v1.5 ``flush_logs_every_n_steps`` has been deprecated in v1.5\n",
            "                        and will be removed in v1.7. Please configure flushing directly in the\n",
            "                        logger instead.\n",
            "  --log_every_n_steps LOG_EVERY_N_STEPS\n",
            "                        How often to log within steps. Default: ``50``.\n",
            "  --accelerator ACCELERATOR\n",
            "                        Supports passing different accelerator types (\"cpu\", \"gpu\", \"tpu\", \"ipu\",\n",
            "                        \"hpu\", \"auto\") as well as custom accelerator instances. .. deprecated::\n",
            "                        v1.5 Passing training strategies (e.g., 'ddp') to ``accelerator`` has been\n",
            "                        deprecated in v1.5.0 and will be removed in v1.7.0. Please use the\n",
            "                        ``strategy`` argument instead.\n",
            "  --strategy STRATEGY   Supports different training strategies with aliases as well custom\n",
            "                        strategies. Default: ``None``.\n",
            "  --sync_batchnorm [SYNC_BATCHNORM]\n",
            "                        Synchronize batch norm layers between process groups/whole world. Default:\n",
            "                        ``False``.\n",
            "  --precision PRECISION\n",
            "                        Double precision (64), full precision (32), half precision (16) or\n",
            "                        bfloat16 precision (bf16). Can be used on CPU, GPU, TPUs, HPUs or IPUs.\n",
            "                        Default: ``32``.\n",
            "  --enable_model_summary [ENABLE_MODEL_SUMMARY]\n",
            "                        Whether to enable model summarization by default. Default: ``True``.\n",
            "  --weights_summary WEIGHTS_SUMMARY\n",
            "                        Prints a summary of the weights when training begins. .. deprecated:: v1.5\n",
            "                        ``weights_summary`` has been deprecated in v1.5 and will be removed in\n",
            "                        v1.7. To disable the summary, pass ``enable_model_summary = False`` to the\n",
            "                        Trainer. To customize the summary, pass\n",
            "                        :class:`~pytorch_lightning.callbacks.model_summary.ModelSummary` directly\n",
            "                        to the Trainer's ``callbacks`` argument.\n",
            "  --weights_save_path WEIGHTS_SAVE_PATH\n",
            "                        Where to save weights if specified. Will override default_root_dir for\n",
            "                        checkpoints only. Use this if for whatever reason you need the checkpoints\n",
            "                        stored in a different place than the logs written in `default_root_dir`.\n",
            "                        Can be remote file paths such as `s3://mybucket/path` or 'hdfs://path/'\n",
            "                        Defaults to `default_root_dir`. .. deprecated:: v1.6 ``weights_save_path``\n",
            "                        has been deprecated in v1.6 and will be removed in v1.8. Please pass\n",
            "                        ``dirpath`` directly to the\n",
            "                        :class:`~pytorch_lightning.callbacks.model_checkpoint.ModelCheckpoint`\n",
            "                        callback.\n",
            "  --num_sanity_val_steps NUM_SANITY_VAL_STEPS\n",
            "                        Sanity check runs n validation batches before starting the training\n",
            "                        routine. Set it to `-1` to run all batches in all validation dataloaders.\n",
            "                        Default: ``2``.\n",
            "  --resume_from_checkpoint RESUME_FROM_CHECKPOINT\n",
            "                        Path/URL of the checkpoint from which training is resumed. If there is no\n",
            "                        checkpoint file at the path, an exception is raised. If resuming from mid-\n",
            "                        epoch checkpoint, training will start from the beginning of the next\n",
            "                        epoch. .. deprecated:: v1.5 ``resume_from_checkpoint`` is deprecated in\n",
            "                        v1.5 and will be removed in v2.0. Please pass the path to\n",
            "                        ``Trainer.fit(..., ckpt_path=...)`` instead.\n",
            "  --profiler PROFILER   To profile individual steps during training and assist in identifying\n",
            "                        bottlenecks. Default: ``None``.\n",
            "  --benchmark [BENCHMARK]\n",
            "                        Sets ``torch.backends.cudnn.benchmark``. Defaults to ``True`` if\n",
            "                        :paramref:`~pytorch_lightning.trainer.trainer.Trainer.deterministic` is\n",
            "                        ``False``. Overwrite to manually set a different value. Default: ``None``.\n",
            "  --deterministic [DETERMINISTIC]\n",
            "                        If ``True``, sets whether PyTorch operations must use deterministic\n",
            "                        algorithms. Default: ``False``.\n",
            "  --reload_dataloaders_every_n_epochs RELOAD_DATALOADERS_EVERY_N_EPOCHS\n",
            "                        Set to a non-negative integer to reload dataloaders every n epochs.\n",
            "                        Default: ``0``.\n",
            "  --auto_lr_find [AUTO_LR_FIND]\n",
            "                        If set to True, will make trainer.tune() run a learning rate finder,\n",
            "                        trying to optimize initial learning for faster convergence. trainer.tune()\n",
            "                        method will set the suggested learning rate in self.lr or\n",
            "                        self.learning_rate in the LightningModule. To use a different key set a\n",
            "                        string instead of True with the key name. Default: ``False``.\n",
            "  --replace_sampler_ddp [REPLACE_SAMPLER_DDP]\n",
            "                        Explicitly enables or disables sampler replacement. If not specified this\n",
            "                        will toggled automatically when DDP is used. By default it will add\n",
            "                        ``shuffle=True`` for train sampler and ``shuffle=False`` for val/test\n",
            "                        sampler. If you want to customize it, you can set\n",
            "                        ``replace_sampler_ddp=False`` and add your own distributed sampler.\n",
            "  --detect_anomaly [DETECT_ANOMALY]\n",
            "                        Enable anomaly detection for the autograd engine. Default: ``False``.\n",
            "  --auto_scale_batch_size [AUTO_SCALE_BATCH_SIZE]\n",
            "                        If set to True, will `initially` run a batch size finder trying to find\n",
            "                        the largest batch size that fits into memory. The result will be stored in\n",
            "                        self.batch_size in the LightningModule. Additionally, can be set to either\n",
            "                        `power` that estimates the batch size through a power search or\n",
            "                        `binsearch` that estimates the batch size through a binary search.\n",
            "                        Default: ``False``.\n",
            "  --prepare_data_per_node [PREPARE_DATA_PER_NODE]\n",
            "                        If True, each LOCAL_RANK=0 will call prepare data. Otherwise only\n",
            "                        NODE_RANK=0, LOCAL_RANK=0 will prepare data .. deprecated:: v1.5\n",
            "                        Deprecated in v1.5.0 and will be removed in v1.7.0 Please set\n",
            "                        ``prepare_data_per_node`` in ``LightningDataModule`` and/or\n",
            "                        ``LightningModule`` directly instead.\n",
            "  --plugins PLUGINS     Plugins allow modification of core behavior like ddp and amp, and enable\n",
            "                        custom lightning plugins. Default: ``None``.\n",
            "  --amp_backend AMP_BACKEND\n",
            "                        The mixed precision backend to use (\"native\" or \"apex\"). Default:\n",
            "                        ``'native''``.\n",
            "  --amp_level AMP_LEVEL\n",
            "                        The optimization level to use (O1, O2, etc...). By default it will be set\n",
            "                        to \"O2\" if ``amp_backend`` is set to \"apex\".\n",
            "  --move_metrics_to_cpu [MOVE_METRICS_TO_CPU]\n",
            "                        Whether to force internal logged metrics to be moved to cpu. This can save\n",
            "                        some gpu memory, but can make training slower. Use with attention.\n",
            "                        Default: ``False``.\n",
            "  --multiple_trainloader_mode MULTIPLE_TRAINLOADER_MODE\n",
            "                        How to loop over the datasets when there are multiple train loaders. In\n",
            "                        'max_size_cycle' mode, the trainer ends one epoch when the largest dataset\n",
            "                        is traversed, and smaller datasets reload when running out of their data.\n",
            "                        In 'min_size' mode, all the datasets reload when reaching the minimum\n",
            "                        length of datasets. Default: ``\"max_size_cycle\"``.\n",
            "  --stochastic_weight_avg [STOCHASTIC_WEIGHT_AVG]\n",
            "                        Whether to use `Stochastic Weight Averaging (SWA)\n",
            "                        <https://pytorch.org/blog/pytorch-1.6-now-includes-stochastic-weight-\n",
            "                        averaging/>`_. Default: ``False``. .. deprecated:: v1.5\n",
            "                        ``stochastic_weight_avg`` has been deprecated in v1.5 and will be removed\n",
            "                        in v1.7. Please pass :class:`~pytorch_lightning.callbacks.stochastic_weigh\n",
            "                        t_avg.StochasticWeightAveraging` directly to the Trainer's ``callbacks``\n",
            "                        argument instead.\n",
            "  --terminate_on_nan [TERMINATE_ON_NAN]\n",
            "                        If set to True, will terminate training (by raising a `ValueError`) at the\n",
            "                        end of each training batch, if any of the parameters or the loss are NaN\n",
            "                        or +/-inf. .. deprecated:: v1.5 Trainer argument ``terminate_on_nan`` was\n",
            "                        deprecated in v1.5 and will be removed in 1.7. Please use\n",
            "                        ``detect_anomaly`` instead.\n",
            "\n",
            "Data Args:\n",
            "  --batch_size BATCH_SIZE\n",
            "                        Number of examples to operate on per forward step. Default is 128.\n",
            "  --num_workers NUM_WORKERS\n",
            "                        Number of additional processes to load data. Default is 2.\n",
            "\n",
            "Model Args:\n",
            "  --fc1 FC1\n",
            "  --fc2 FC2\n",
            "  --fc_dropout FC_DROPOUT\n",
            "\n",
            "LitModel Args:\n",
            "  --optimizer OPTIMIZER\n",
            "                        optimizer class from torch.optim\n",
            "  --lr LR\n",
            "  --one_cycle_max_lr ONE_CYCLE_MAX_LR\n",
            "  --one_cycle_total_steps ONE_CYCLE_TOTAL_STEPS\n",
            "  --loss LOSS           loss function from torch.nn.functional\n"
          ]
        }
      ],
      "source": [
        "%run training/run_experiment.py --help"
      ]
    },
    {
      "cell_type": "markdown",
      "metadata": {
        "id": "rkM_HpILSyC9"
      },
      "source": [
        "The `pl.Trainer` arguments come first\n",
        "and there\n",
        "[are a lot of them](https://pytorch-lightning.readthedocs.io/en/1.6.3/common/trainer.html),\n",
        "so if we want to see what's configurable for\n",
        "our `Model` or our `LitModel`,\n",
        "we want the last few dozen lines of the help message:"
      ]
    },
    {
      "cell_type": "code",
      "execution_count": 42,
      "metadata": {
        "id": "G0dBhgogO8_A",
        "colab": {
          "base_uri": "https://localhost:8080/"
        },
        "outputId": "a16550c7-26aa-4012-8262-37b91c764a9d"
      },
      "outputs": [
        {
          "output_type": "stream",
          "name": "stdout",
          "text": [
            "2023-10-15 02:26:13.736132: W tensorflow/compiler/tf2tensorrt/utils/py_utils.cc:38] TF-TRT Warning: Could not find TensorRT\n",
            "  --terminate_on_nan [TERMINATE_ON_NAN]\n",
            "                        If set to True, will terminate training (by raising a `ValueError`) at the\n",
            "                        end of each training batch, if any of the parameters or the loss are NaN\n",
            "                        or +/-inf. .. deprecated:: v1.5 Trainer argument ``terminate_on_nan`` was\n",
            "                        deprecated in v1.5 and will be removed in 1.7. Please use\n",
            "                        ``detect_anomaly`` instead.\n",
            "\n",
            "Data Args:\n",
            "  --batch_size BATCH_SIZE\n",
            "                        Number of examples to operate on per forward step. Default is 128.\n",
            "  --num_workers NUM_WORKERS\n",
            "                        Number of additional processes to load data. Default is 2.\n",
            "\n",
            "Model Args:\n",
            "  --conv_dim CONV_DIM\n",
            "  --fc_dim FC_DIM\n",
            "  --fc_dropout FC_DROPOUT\n",
            "\n",
            "LitModel Args:\n",
            "  --optimizer OPTIMIZER\n",
            "                        optimizer class from torch.optim\n",
            "  --lr LR\n",
            "  --one_cycle_max_lr ONE_CYCLE_MAX_LR\n",
            "  --one_cycle_total_steps ONE_CYCLE_TOTAL_STEPS\n",
            "  --loss LOSS           loss function from torch.nn.functional\n"
          ]
        }
      ],
      "source": [
        "!python training/run_experiment.py --help --model_class CNN --data_class EMNIST  | tail -n 25"
      ]
    },
    {
      "cell_type": "markdown",
      "metadata": {
        "id": "NCBQekrPRt90"
      },
      "source": [
        "The `run_experiment.py` file is also importable as a module,\n",
        "so that you can inspect its contents\n",
        "and play with its component functions in a notebook."
      ]
    },
    {
      "cell_type": "code",
      "execution_count": 43,
      "metadata": {
        "id": "CPumvYatPaiS",
        "colab": {
          "base_uri": "https://localhost:8080/"
        },
        "outputId": "a51cdf65-8986-4122-fade-7ee4734636fe"
      },
      "outputs": [
        {
          "output_type": "stream",
          "name": "stdout",
          "text": [
            "\n",
            "    Run an experiment.\n",
            "\n",
            "    Sample command:\n",
            "    ```\n",
            "    python training/run_experiment.py --max_epochs=3 --gpus='0,' --num_workers=20 --model_class=MLP --data_class=MNIST\n",
            "    ```\n",
            "\n",
            "    For basic help documentation, run the command\n",
            "    ```\n",
            "    python training/run_experiment.py --help\n",
            "    ```\n",
            "\n",
            "    The available command line args differ depending on some of the arguments, including --model_class and --data_class.\n",
            "\n",
            "    To see which command line args are available and read their documentation, provide values for those arguments\n",
            "    before invoking --help, like so:\n",
            "    ```\n",
            "    python training/run_experiment.py --model_class=MLP --data_class=MNIST --help\n",
            "    \n"
          ]
        }
      ],
      "source": [
        "import training.run_experiment\n",
        "\n",
        "\n",
        "print(training.run_experiment.main.__doc__)"
      ]
    },
    {
      "cell_type": "markdown",
      "metadata": {
        "id": "YiZ3RwW2UzJm"
      },
      "source": [
        "Let's run training!\n",
        "\n",
        "Execute the cell below to launch a training job for a CNN on EMNIST with default arguments.\n",
        "\n",
        "This will take several minutes on commodity hardware,\n",
        "so feel free to keep reading while it runs."
      ]
    },
    {
      "cell_type": "code",
      "execution_count": 44,
      "metadata": {
        "id": "5RSJM5I2TSeG",
        "scrolled": true,
        "colab": {
          "base_uri": "https://localhost:8080/",
          "height": 702,
          "referenced_widgets": [
            "3a77eadfa8344ae0a765b6404d2048cb",
            "36f8261d875a417bbb4962b4d99359a1",
            "788cb6a88e884000a59d2d3d0356ee05",
            "091126ff21174be6aa83b2da6c131bc7",
            "150cda4c2ba14216b69db1590c559dd6",
            "7c8ee9bb78a04e34bcb06aff27902539",
            "f902a240733f449d872ffd68fb2128a8",
            "e5f0f19fac774a559da03f9f284ce978",
            "83e96590aab545918962e346d26c37ed",
            "649a92b7b14e4969ad3f2b7580a7ef03",
            "d9f437aea0534baab56fcd78be0a444c",
            "328656a74fcc4d44b4d1a7a43480a695",
            "43afa1a9559b4dcc8f5eef0fba41bf09",
            "b8bff48b6df841d0b93fdbe10881a70b",
            "56f48211e1e7489fa28ce1eb465b3789",
            "0d521a1839c64bcba808ba15db4205e7",
            "afd482d596b441afa0431c61d3edc219",
            "f111605da2964551a12482ad87a93e39",
            "99381c51f92b4c478cfedcef99bc2d08",
            "ba6e2a779ce44baaaa4b8ee55e2314c4",
            "551dc914042d4a0a8bb75d6ecf0a57c5",
            "f86d20a84fe54ae09e059968a4b957e0",
            "de93c574e1514e7cae8f9975b85704f9",
            "7d0d8600680240118905d53b611eacf2",
            "6d47baeb254949c3ae631a99c79c748b",
            "d7927dd1808c4530ad524ba012a00149",
            "b63b7c03720d46f6b216c758c8928b35",
            "3481ebc600f34f36875b45423fe4158a",
            "a6ea10ab1d3842f3bbf4ec2afff940ec",
            "52f502d762c843b8b2482d9833ff1e1e",
            "0bb910364c9540bdad1d79d2e2289abd",
            "01193d7bfce34c39a40067dbd6fc767e",
            "503f889eb4634a1d9fd47decd2bdd17e",
            "08fb753af99a4cf2935d67309060d2cb",
            "3871c6b64f3c48bba2f42904aa8f2334",
            "f18fb5a8ddf1487187f36def48d34b49",
            "7d40f16d0fd448ada83fec5990f668e0",
            "3ea2c94737c54f4b8ce847ebed2314ae",
            "d0fff21f83614960a40cea1cb924d576",
            "68eab8f3fa7a4c42b909472c30f9a110",
            "a09789040dfe4f4c839b77978364e275",
            "2fe554ebadaa48bdaf925d80b1bad156",
            "f5836f76cc5f458b91f3c4e6aa8aefe9",
            "8742b91518d847b092d142b1d0d41063"
          ]
        },
        "outputId": "17a00220-930d-49c0-f4d5-738eb4bcb9fd"
      },
      "outputs": [
        {
          "output_type": "stream",
          "name": "stderr",
          "text": [
            "WARNING:pytorch_lightning.loggers.tensorboard:Missing logger folder: training/logs/lightning_logs\n",
            "INFO:pytorch_lightning.utilities.rank_zero:Trainer already configured with model summary callbacks: [<class 'pytorch_lightning.callbacks.model_summary.ModelSummary'>]. Skipping setting a default `ModelSummary` callback.\n",
            "INFO:pytorch_lightning.utilities.rank_zero:GPU available: True, used: True\n",
            "INFO:pytorch_lightning.utilities.rank_zero:TPU available: False, using: 0 TPU cores\n",
            "INFO:pytorch_lightning.utilities.rank_zero:IPU available: False, using: 0 IPUs\n",
            "INFO:pytorch_lightning.utilities.rank_zero:HPU available: False, using: 0 HPUs\n",
            "INFO:pytorch_lightning.accelerators.gpu:LOCAL_RANK: 0 - CUDA_VISIBLE_DEVICES: [0]\n",
            "INFO:pytorch_lightning.callbacks.model_summary:\n",
            "  | Name           | Type      | Params\n",
            "---------------------------------------------\n",
            "0 | model          | CNN       | 1.7 M \n",
            "1 | model.conv1    | ConvBlock | 640   \n",
            "2 | model.conv2    | ConvBlock | 36.9 K\n",
            "3 | model.dropout  | Dropout   | 0     \n",
            "4 | model.max_pool | MaxPool2d | 0     \n",
            "5 | model.fc1      | Linear    | 1.6 M \n",
            "6 | model.fc2      | Linear    | 10.7 K\n",
            "7 | train_acc      | Accuracy  | 0     \n",
            "8 | val_acc        | Accuracy  | 0     \n",
            "9 | test_acc       | Accuracy  | 0     \n",
            "---------------------------------------------\n",
            "1.7 M     Trainable params\n",
            "0         Non-trainable params\n",
            "1.7 M     Total params\n",
            "6.616     Total estimated model params size (MB)\n"
          ]
        },
        {
          "output_type": "display_data",
          "data": {
            "text/plain": [
              "Sanity Checking: 0it [00:00, ?it/s]"
            ],
            "application/vnd.jupyter.widget-view+json": {
              "version_major": 2,
              "version_minor": 0,
              "model_id": "3a77eadfa8344ae0a765b6404d2048cb"
            }
          },
          "metadata": {}
        },
        {
          "output_type": "display_data",
          "data": {
            "text/plain": [
              "Training: 0it [00:00, ?it/s]"
            ],
            "application/vnd.jupyter.widget-view+json": {
              "version_major": 2,
              "version_minor": 0,
              "model_id": "328656a74fcc4d44b4d1a7a43480a695"
            }
          },
          "metadata": {}
        },
        {
          "output_type": "display_data",
          "data": {
            "text/plain": [
              "Validation: 0it [00:00, ?it/s]"
            ],
            "application/vnd.jupyter.widget-view+json": {
              "version_major": 2,
              "version_minor": 0,
              "model_id": "de93c574e1514e7cae8f9975b85704f9"
            }
          },
          "metadata": {}
        },
        {
          "output_type": "stream",
          "name": "stderr",
          "text": [
            "INFO:pytorch_lightning.utilities.rank_zero:Best model saved at: /content/fsdl-text-recognizer-2022-labs/lab02/training/logs/lightning_logs/version_0/epoch=0000-validation.loss=0.573.ckpt\n",
            "INFO:pytorch_lightning.utilities.rank_zero:Restoring states from the checkpoint path at /content/fsdl-text-recognizer-2022-labs/lab02/training/logs/lightning_logs/version_0/epoch=0000-validation.loss=0.573.ckpt\n",
            "INFO:pytorch_lightning.accelerators.gpu:LOCAL_RANK: 0 - CUDA_VISIBLE_DEVICES: [0]\n",
            "INFO:pytorch_lightning.utilities.rank_zero:Loaded model weights from checkpoint at /content/fsdl-text-recognizer-2022-labs/lab02/training/logs/lightning_logs/version_0/epoch=0000-validation.loss=0.573.ckpt\n"
          ]
        },
        {
          "output_type": "display_data",
          "data": {
            "text/plain": [
              "Testing: 0it [00:00, ?it/s]"
            ],
            "application/vnd.jupyter.widget-view+json": {
              "version_major": 2,
              "version_minor": 0,
              "model_id": "08fb753af99a4cf2935d67309060d2cb"
            }
          },
          "metadata": {}
        },
        {
          "output_type": "display_data",
          "data": {
            "text/plain": [
              "┏━━━━━━━━━━━━━━━━━━━━━━━━━━━┳━━━━━━━━━━━━━━━━━━━━━━━━━━━┓\n",
              "┃\u001b[1m \u001b[0m\u001b[1m       Test metric       \u001b[0m\u001b[1m \u001b[0m┃\u001b[1m \u001b[0m\u001b[1m      DataLoader 0       \u001b[0m\u001b[1m \u001b[0m┃\n",
              "┡━━━━━━━━━━━━━━━━━━━━━━━━━━━╇━━━━━━━━━━━━━━━━━━━━━━━━━━━┩\n",
              "│\u001b[36m \u001b[0m\u001b[36m        test/acc         \u001b[0m\u001b[36m \u001b[0m│\u001b[35m \u001b[0m\u001b[35m   0.7856560945510864    \u001b[0m\u001b[35m \u001b[0m│\n",
              "│\u001b[36m \u001b[0m\u001b[36m        test/loss        \u001b[0m\u001b[36m \u001b[0m│\u001b[35m \u001b[0m\u001b[35m   0.5761613249778748    \u001b[0m\u001b[35m \u001b[0m│\n",
              "└───────────────────────────┴───────────────────────────┘\n"
            ],
            "text/html": [
              "<pre style=\"white-space:pre;overflow-x:auto;line-height:normal;font-family:Menlo,'DejaVu Sans Mono',consolas,'Courier New',monospace\">┏━━━━━━━━━━━━━━━━━━━━━━━━━━━┳━━━━━━━━━━━━━━━━━━━━━━━━━━━┓\n",
              "┃<span style=\"font-weight: bold\">        Test metric        </span>┃<span style=\"font-weight: bold\">       DataLoader 0        </span>┃\n",
              "┡━━━━━━━━━━━━━━━━━━━━━━━━━━━╇━━━━━━━━━━━━━━━━━━━━━━━━━━━┩\n",
              "│<span style=\"color: #008080; text-decoration-color: #008080\">         test/acc          </span>│<span style=\"color: #800080; text-decoration-color: #800080\">    0.7856560945510864     </span>│\n",
              "│<span style=\"color: #008080; text-decoration-color: #008080\">         test/loss         </span>│<span style=\"color: #800080; text-decoration-color: #800080\">    0.5761613249778748     </span>│\n",
              "└───────────────────────────┴───────────────────────────┘\n",
              "</pre>\n"
            ]
          },
          "metadata": {}
        }
      ],
      "source": [
        "gpus = int(torch.cuda.is_available())  # use GPUs if they're available\n",
        "\n",
        "%run training/run_experiment.py --model_class CNN --data_class EMNIST --gpus {gpus}"
      ]
    },
    {
      "cell_type": "markdown",
      "metadata": {
        "id": "_ayQ4ByJOnnP"
      },
      "source": [
        "The first thing you'll see are a few logger messages from Lightning,\n",
        "then some info about the hardware you have available and are using."
      ]
    },
    {
      "cell_type": "markdown",
      "metadata": {
        "id": "VcMrZcecO1EF"
      },
      "source": [
        "Then you'll see a summary of your model,\n",
        "including module names, parameter counts,\n",
        "and information about model disk size.\n",
        "\n",
        "`torchmetrics` show up here as well,\n",
        "since they are also `nn.Module`s.\n",
        "See [Lab 02a](https://fsdl.me/lab02a-colab)\n",
        "for details.\n",
        "We're tracking accuracy on training, validation, and test sets."
      ]
    },
    {
      "cell_type": "markdown",
      "metadata": {
        "id": "twGp9iWOUSfc"
      },
      "source": [
        "You may also see a quick message in the terminal\n",
        "referencing a \"validation sanity check\".\n",
        "PyTorch Lightning runs a few batches of validation data\n",
        "through the model before the first training epoch.\n",
        "This helps prevent training runs from crashing\n",
        "at the end of the first epoch,\n",
        "which is otherwise the first time validation loops are triggered\n",
        "and is sometimes hours into training,\n",
        "by crashing them quickly at the start.\n",
        "\n",
        "If you want to turn off the check,\n",
        "use `--num_sanity_val_steps=0`."
      ]
    },
    {
      "cell_type": "markdown",
      "metadata": {
        "id": "jnKN3_MiRpE4"
      },
      "source": [
        "Then, you'll see a bar indicating\n",
        "progress through the training epoch,\n",
        "alongside metrics like throughput and loss.\n",
        "\n",
        "When the first (and only) epoch ends,\n",
        "the model is run on the validation set\n",
        "and aggregate loss and accuracy are reported to the console."
      ]
    },
    {
      "cell_type": "markdown",
      "metadata": {
        "id": "R2eMZz_HR8vV"
      },
      "source": [
        "At the end of training,\n",
        "we call `Trainer.test`\n",
        "to check performance on the test set.\n",
        "\n",
        "We typically see test accuracy around 75-80%."
      ]
    },
    {
      "cell_type": "markdown",
      "metadata": {
        "id": "ybpLiKBKSDXI"
      },
      "source": [
        "During training, PyTorch Lightning saves _checkpoints_\n",
        "(file extension `.ckpt`)\n",
        "that can be used to restart training.\n",
        "\n",
        "The final line output by `run_experiment`\n",
        "indicates where the model with the best performance\n",
        "on the validation set has been saved.\n",
        "\n",
        "The checkpointing behavior is configured using a\n",
        "[`ModelCheckpoint` callback](https://pytorch-lightning.readthedocs.io/en/1.6.3/api/pytorch_lightning.callbacks.ModelCheckpoint.html).\n",
        "The `run_experiment` script picks sensible defaults.\n",
        "\n",
        "These checkpoints contain the model weights.\n",
        "We can use them to los the model in the notebook and play around with it."
      ]
    },
    {
      "cell_type": "code",
      "execution_count": 45,
      "metadata": {
        "id": "3Rqh9ZQsY8g4",
        "colab": {
          "base_uri": "https://localhost:8080/",
          "height": 35
        },
        "outputId": "6136af68-ec3e-4477-df2b-19016f3e4d3f"
      },
      "outputs": [
        {
          "output_type": "execute_result",
          "data": {
            "text/plain": [
              "'training/logs/lightning_logs/version_0/epoch=0000-validation.loss=0.573.ckpt'"
            ],
            "application/vnd.google.colaboratory.intrinsic+json": {
              "type": "string"
            }
          },
          "metadata": {},
          "execution_count": 45
        }
      ],
      "source": [
        "# we use a sequence of bash commands to get the latest checkpoint's filename\n",
        "#  by hand, you can just copy and paste it\n",
        "\n",
        "list_all_log_files = \"find training/logs/lightning_logs\"  # find avoids issues with \\n in filenames\n",
        "filter_to_ckpts = \"grep \\.ckpt$\"  # regex match on end of line\n",
        "sort_version_descending = \"sort -Vr\"  # uses \"version\" sorting (-V) and reverses (-r)\n",
        "take_first = \"head -n 1\"  # the first n elements, n=1\n",
        "\n",
        "latest_ckpt, = ! {list_all_log_files} | {filter_to_ckpts} | {sort_version_descending} | {take_first}\n",
        "latest_ckpt"
      ]
    },
    {
      "cell_type": "markdown",
      "metadata": {
        "id": "7QW_CxR3coV6"
      },
      "source": [
        "To rebuild the model,\n",
        "we need to consider some implementation details of the `run_experiment` script.\n",
        "\n",
        "We use the parsed command line arguments, the `args`, to build the data and model,\n",
        "then use all three to build the `LightningModule`.\n",
        "\n",
        "Any `LightningModule` can be reinstantiated from a checkpoint\n",
        "using the `load_from_checkpoint` method,\n",
        "but we'll need to recreate and pass the `args`\n",
        "in order to reload the model.\n",
        "(We'll see how this can be automated later)."
      ]
    },
    {
      "cell_type": "code",
      "execution_count": 47,
      "metadata": {
        "id": "oVWEHcgvaSqZ"
      },
      "outputs": [],
      "source": [
        "import training.util\n",
        "from argparse import Namespace\n",
        "\n",
        "\n",
        "# if you change around model/data args in the command above, add them here\n",
        "#  tip: define the arguments as variables, like we've done for gpus\n",
        "#       and then add those variables to this dict so you don't need to\n",
        "#       remember to update/copy+paste\n",
        "\n",
        "args = Namespace(**{\n",
        "    \"model_class\": \"CNN\",\n",
        "    \"data_class\": \"EMNIST\"})\n",
        "\n",
        "\n",
        "_, cnn = training.util.setup_data_and_model_from_args(args)\n",
        "\n",
        "reloaded_model = text_recognizer.lit_models.BaseLitModel.load_from_checkpoint(\n",
        "   latest_ckpt, args=args, model=cnn)"
      ]
    },
    {
      "cell_type": "markdown",
      "metadata": {
        "id": "MynyI_eUcixa"
      },
      "source": [
        "With the model reloads, we can run it on some sample data\n",
        "and see how it's doing:"
      ]
    },
    {
      "cell_type": "code",
      "execution_count": 53,
      "metadata": {
        "id": "L0HCxgVwcRAA",
        "colab": {
          "base_uri": "https://localhost:8080/",
          "height": 62
        },
        "outputId": "b64efee2-556c-4b76-b5c1-756daa73e5da"
      },
      "outputs": [
        {
          "output_type": "stream",
          "name": "stdout",
          "text": [
            "output: e\n"
          ]
        },
        {
          "output_type": "execute_result",
          "data": {
            "text/plain": [
              "<PIL.PngImagePlugin.PngImageFile image mode=RGB size=28x28>"
            ],
            "image/png": "[encoded data removed]"
          },
          "metadata": {},
          "execution_count": 53
        }
      ],
      "source": [
        "idx = random.randint(0, len(xs) - 1)\n",
        "outs = reloaded_model(xs[idx:idx+1])\n",
        "\n",
        "print(\"output:\", emnist.mapping[torch.argmax(outs)])\n",
        "wandb.Image(xs[idx]).image"
      ]
    },
    {
      "cell_type": "markdown",
      "metadata": {
        "id": "G6NtaHuVdfqt"
      },
      "source": [
        "I generally see subjectively good performance --\n",
        "without seeing the labels, I tend to agree with the model's output\n",
        "more often than the accuracy would suggest,\n",
        "since some classes, like c and C or o, O, and 0,\n",
        "are essentially indistinguishable."
      ]
    },
    {
      "cell_type": "markdown",
      "metadata": {
        "id": "5ZzcDcxpVkki"
      },
      "source": [
        "We can continue a promising training run from the checkpoint.\n",
        "Run the cell below to train the model just trained above\n",
        "for another epoch.\n",
        "Note that the training loss starts out close to where it ended\n",
        "in the previous run.\n",
        "\n",
        "Paired with cloud storage of checkpoints,\n",
        "this makes it possible to use\n",
        "[a cheaper type of cloud instance](https://cloud.google.com/blog/products/ai-machine-learning/reduce-the-costs-of-ml-workflows-with-preemptible-vms-and-gpus)\n",
        "that can be pre-empted by someone willing to pay more,\n",
        "which terminates your job.\n",
        "It's also helpful when using Google Colab for more serious projects --\n",
        "your training runs are no longer bound by the maximum uptime of a Colab notebook."
      ]
    },
    {
      "cell_type": "code",
      "execution_count": 54,
      "metadata": {
        "id": "skqdikNtVnaf",
        "colab": {
          "base_uri": "https://localhost:8080/",
          "height": 685,
          "referenced_widgets": [
            "95671cafe60c4cd49059cd99b9147f29",
            "1635cbe8d9ae41ec9660f62dc3fbbb51",
            "072edc387cbd4f5793c7fd4e77f7296c",
            "0fc8297aa4044759b86fbcea97d9633c",
            "4b66cafa0b4a4ed1a645b37650464c22",
            "d2152eea1de8411095f9d607c234d21b",
            "e0c95077decf4f778d691ca9b68e013d",
            "c2d77d53041e48c296b3d1a11ee91d5d",
            "d63a6d65e2f34dfc944ca10908a5c56c",
            "0d2d0f641e2c46eb8ba94c9e50a7fa9a",
            "683ed20ae4e34413bac5148e431c51d0",
            "e81ad4ebfb7d49ce820092dd74a950e5",
            "0c393677c7094cd0819abc21a6b74652",
            "62e245f986d74d73968f4faf852df76d",
            "bc64a022ce1f4eedb7d27bf85574d2cf",
            "af38ba9b81994944ba92050ab4e8c1bf",
            "c68201ed4a724be2965ec9181550be92",
            "d422156e569f45e8abdbb3b8c4d4a7bf",
            "749361fe789048ecb27f4db1de562245",
            "adaee11527c442c4bea9e7f862a9798f",
            "1efc46be21d8444083fc4cf653453a99",
            "02352010df194e37a025aa2bba302fbf",
            "c176358b646d4714a48a382e81a9676d",
            "63d75a91d18946888dd42d3e48775811",
            "9b89225423f04a53aa695c22cdb505c9",
            "a3769ebd5b3d4412981915d2e19e4cef",
            "88df1dee804740e5bec4627795c06a55",
            "a35d82b0e24b43d68e56ad089499a9fd",
            "1139d7a8b3a94e5fb716dbc85703df07",
            "fc1df21577d04e74b0651e8511431729",
            "a83a844be8244cfcb42a741e89292767",
            "bb56acc8799b4aa098d1ceab39cead7a",
            "a3ffe0fd0cb848458d958b28eae36008",
            "a8c8de64d3c44db886403ce6b04cc8bb",
            "d367b5bac7df4f89a4b0b9d3e7969cc3",
            "9fa509cd77dc44a68636d3a1ab514dd4",
            "914fda701ca7443795c6f35a1fe7ba84",
            "ddf13ee4729e43e682ccaa57fca4dc3d",
            "f7cdcf2a13a0423abc1378d5b4465ba0",
            "f15a6aca26fc4bc3bf558030820d949b",
            "c10a632310b84c1998d4ee22a0b241f2",
            "666a93f17ed445c1b7423e555990ba3f",
            "b25d57f9ce96416fafa3da9db433e3c6",
            "74f84391cacb451ea4eee79fd25cf449"
          ]
        },
        "outputId": "a517ba31-9580-4d41-8bd2-2b3a8a0e5c2a"
      },
      "outputs": [
        {
          "output_type": "stream",
          "name": "stderr",
          "text": [
            "INFO:pytorch_lightning.utilities.rank_zero:Trainer already configured with model summary callbacks: [<class 'pytorch_lightning.callbacks.model_summary.ModelSummary'>]. Skipping setting a default `ModelSummary` callback.\n",
            "INFO:pytorch_lightning.utilities.rank_zero:GPU available: True, used: True\n",
            "INFO:pytorch_lightning.utilities.rank_zero:TPU available: False, using: 0 TPU cores\n",
            "INFO:pytorch_lightning.utilities.rank_zero:IPU available: False, using: 0 IPUs\n",
            "INFO:pytorch_lightning.utilities.rank_zero:HPU available: False, using: 0 HPUs\n",
            "INFO:pytorch_lightning.accelerators.gpu:LOCAL_RANK: 0 - CUDA_VISIBLE_DEVICES: [0]\n",
            "INFO:pytorch_lightning.callbacks.model_summary:\n",
            "  | Name           | Type      | Params\n",
            "---------------------------------------------\n",
            "0 | model          | CNN       | 1.7 M \n",
            "1 | model.conv1    | ConvBlock | 640   \n",
            "2 | model.conv2    | ConvBlock | 36.9 K\n",
            "3 | model.dropout  | Dropout   | 0     \n",
            "4 | model.max_pool | MaxPool2d | 0     \n",
            "5 | model.fc1      | Linear    | 1.6 M \n",
            "6 | model.fc2      | Linear    | 10.7 K\n",
            "7 | train_acc      | Accuracy  | 0     \n",
            "8 | val_acc        | Accuracy  | 0     \n",
            "9 | test_acc       | Accuracy  | 0     \n",
            "---------------------------------------------\n",
            "1.7 M     Trainable params\n",
            "0         Non-trainable params\n",
            "1.7 M     Total params\n",
            "6.616     Total estimated model params size (MB)\n"
          ]
        },
        {
          "output_type": "display_data",
          "data": {
            "text/plain": [
              "Sanity Checking: 0it [00:00, ?it/s]"
            ],
            "application/vnd.jupyter.widget-view+json": {
              "version_major": 2,
              "version_minor": 0,
              "model_id": "95671cafe60c4cd49059cd99b9147f29"
            }
          },
          "metadata": {}
        },
        {
          "output_type": "display_data",
          "data": {
            "text/plain": [
              "Training: 0it [00:00, ?it/s]"
            ],
            "application/vnd.jupyter.widget-view+json": {
              "version_major": 2,
              "version_minor": 0,
              "model_id": "e81ad4ebfb7d49ce820092dd74a950e5"
            }
          },
          "metadata": {}
        },
        {
          "output_type": "display_data",
          "data": {
            "text/plain": [
              "Validation: 0it [00:00, ?it/s]"
            ],
            "application/vnd.jupyter.widget-view+json": {
              "version_major": 2,
              "version_minor": 0,
              "model_id": "c176358b646d4714a48a382e81a9676d"
            }
          },
          "metadata": {}
        },
        {
          "output_type": "stream",
          "name": "stderr",
          "text": [
            "INFO:pytorch_lightning.utilities.rank_zero:Best model saved at: /content/fsdl-text-recognizer-2022-labs/lab02/training/logs/lightning_logs/version_1/epoch=0000-validation.loss=0.543.ckpt\n",
            "INFO:pytorch_lightning.utilities.rank_zero:Restoring states from the checkpoint path at /content/fsdl-text-recognizer-2022-labs/lab02/training/logs/lightning_logs/version_1/epoch=0000-validation.loss=0.543.ckpt\n",
            "INFO:pytorch_lightning.accelerators.gpu:LOCAL_RANK: 0 - CUDA_VISIBLE_DEVICES: [0]\n",
            "INFO:pytorch_lightning.utilities.rank_zero:Loaded model weights from checkpoint at /content/fsdl-text-recognizer-2022-labs/lab02/training/logs/lightning_logs/version_1/epoch=0000-validation.loss=0.543.ckpt\n"
          ]
        },
        {
          "output_type": "display_data",
          "data": {
            "text/plain": [
              "Testing: 0it [00:00, ?it/s]"
            ],
            "application/vnd.jupyter.widget-view+json": {
              "version_major": 2,
              "version_minor": 0,
              "model_id": "a8c8de64d3c44db886403ce6b04cc8bb"
            }
          },
          "metadata": {}
        },
        {
          "output_type": "display_data",
          "data": {
            "text/plain": [
              "┏━━━━━━━━━━━━━━━━━━━━━━━━━━━┳━━━━━━━━━━━━━━━━━━━━━━━━━━━┓\n",
              "┃\u001b[1m \u001b[0m\u001b[1m       Test metric       \u001b[0m\u001b[1m \u001b[0m┃\u001b[1m \u001b[0m\u001b[1m      DataLoader 0       \u001b[0m\u001b[1m \u001b[0m┃\n",
              "┡━━━━━━━━━━━━━━━━━━━━━━━━━━━╇━━━━━━━━━━━━━━━━━━━━━━━━━━━┩\n",
              "│\u001b[36m \u001b[0m\u001b[36m        test/acc         \u001b[0m\u001b[36m \u001b[0m│\u001b[35m \u001b[0m\u001b[35m   0.7899162769317627    \u001b[0m\u001b[35m \u001b[0m│\n",
              "│\u001b[36m \u001b[0m\u001b[36m        test/loss        \u001b[0m\u001b[36m \u001b[0m│\u001b[35m \u001b[0m\u001b[35m   0.5457007884979248    \u001b[0m\u001b[35m \u001b[0m│\n",
              "└───────────────────────────┴───────────────────────────┘\n"
            ],
            "text/html": [
              "<pre style=\"white-space:pre;overflow-x:auto;line-height:normal;font-family:Menlo,'DejaVu Sans Mono',consolas,'Courier New',monospace\">┏━━━━━━━━━━━━━━━━━━━━━━━━━━━┳━━━━━━━━━━━━━━━━━━━━━━━━━━━┓\n",
              "┃<span style=\"font-weight: bold\">        Test metric        </span>┃<span style=\"font-weight: bold\">       DataLoader 0        </span>┃\n",
              "┡━━━━━━━━━━━━━━━━━━━━━━━━━━━╇━━━━━━━━━━━━━━━━━━━━━━━━━━━┩\n",
              "│<span style=\"color: #008080; text-decoration-color: #008080\">         test/acc          </span>│<span style=\"color: #800080; text-decoration-color: #800080\">    0.7899162769317627     </span>│\n",
              "│<span style=\"color: #008080; text-decoration-color: #008080\">         test/loss         </span>│<span style=\"color: #800080; text-decoration-color: #800080\">    0.5457007884979248     </span>│\n",
              "└───────────────────────────┴───────────────────────────┘\n",
              "</pre>\n"
            ]
          },
          "metadata": {}
        }
      ],
      "source": [
        "latest_ckpt, = ! {list_all_log_files} | {filter_to_ckpts} | {sort_version_descending} | {take_first}\n",
        "\n",
        "\n",
        "# and we can change the training hyperparameters, like batch size\n",
        "%run training/run_experiment.py --model_class CNN --data_class EMNIST --gpus {gpus} \\\n",
        "  --batch_size 64 --load_checkpoint {latest_ckpt}"
      ]
    },
    {
      "cell_type": "markdown",
      "metadata": {
        "id": "HBdNt6Z2tTFM"
      },
      "source": [
        "# Creating lines of text from handwritten characters: `EMNISTLines`"
      ]
    },
    {
      "cell_type": "markdown",
      "metadata": {
        "id": "FevtQpeDtTFM"
      },
      "source": [
        "We've got a training pipeline for our model and our data,\n",
        "and we can use that to make the loss go down\n",
        "and get better at the task.\n",
        "But the problem we're solving not obviously useful:\n",
        "the model is just learning how to handle\n",
        "centered, high-contrast, isolated characters.\n",
        "\n",
        "To make this work in a text recognition application,\n",
        "we would need a component to first pull out characters like that from images.\n",
        "That task is probably harder than the one we're currently learning.\n",
        "Plus, splitting into two separate components is against the ethos of deep learning,\n",
        "which operates \"end-to-end\".\n",
        "\n",
        "Let's kick the realism up one notch by building lines of text out of our characters:\n",
        "_synthesizing_ data for our model."
      ]
    },
    {
      "cell_type": "markdown",
      "metadata": {
        "id": "dH7i4JhWe7ch"
      },
      "source": [
        "Synthetic data is generally useful for augmenting limited real data.\n",
        "By construction we know the labels, since we created the data.\n",
        "Often, we can track covariates,\n",
        "like lighting features or subclass membership,\n",
        "that aren't always available in our labels."
      ]
    },
    {
      "cell_type": "markdown",
      "metadata": {
        "id": "TrQ_44TIe39m"
      },
      "source": [
        "To build fake handwriting,\n",
        "we'll combine two things:\n",
        "real handwritten letters and real text.\n",
        "\n",
        "We generate our fake text by drawing from the\n",
        "[Brown corpus](https://en.wikipedia.org/wiki/Brown_Corpus)\n",
        "provided by the [`n`atural `l`anguage `t`ool`k`it](https://www.nltk.org/) library.\n",
        "\n",
        "First, we download that corpus."
      ]
    },
    {
      "cell_type": "code",
      "execution_count": 55,
      "metadata": {
        "id": "gtSg7Y8Ydxpa",
        "colab": {
          "base_uri": "https://localhost:8080/",
          "height": 87
        },
        "outputId": "4eeab28f-d2f4-471f-fa8d-616a468f413d"
      },
      "outputs": [
        {
          "output_type": "stream",
          "name": "stderr",
          "text": [
            "[nltk_data] Downloading package brown to /content/fsdl-text-\n",
            "[nltk_data]     recognizer-2022-labs/data/downloaded/nltk...\n",
            "[nltk_data]   Unzipping corpora/brown.zip.\n"
          ]
        },
        {
          "output_type": "execute_result",
          "data": {
            "text/plain": [
              "'Generate text sentences using the Brown corpus.'"
            ],
            "application/vnd.google.colaboratory.intrinsic+json": {
              "type": "string"
            }
          },
          "metadata": {},
          "execution_count": 55
        }
      ],
      "source": [
        "from text_recognizer.data.sentence_generator import SentenceGenerator\n",
        "\n",
        "sentence_generator = SentenceGenerator()\n",
        "\n",
        "SentenceGenerator.__doc__"
      ]
    },
    {
      "cell_type": "markdown",
      "metadata": {
        "id": "yal5eHk-aB4i"
      },
      "source": [
        "We can generate short snippets of text from the corpus with the `SentenceGenerator`:"
      ]
    },
    {
      "cell_type": "code",
      "execution_count": 60,
      "metadata": {
        "id": "eRg_C1TYzwKX",
        "colab": {
          "base_uri": "https://localhost:8080/"
        },
        "outputId": "344aa96c-5a99-4fd4-cb45-7d44a3149dc7"
      },
      "outputs": [
        {
          "output_type": "stream",
          "name": "stdout",
          "text": [
            "the shape\n",
            "to\n",
            "electric\n",
            "the\n"
          ]
        }
      ],
      "source": [
        "print(*[sentence_generator.generate(max_length=16) for _ in range(4)], sep=\"\\n\")"
      ]
    },
    {
      "cell_type": "markdown",
      "metadata": {
        "id": "JGsBuMICaXnM"
      },
      "source": [
        "We use another `DataModule` to pick out the needed handwritten characters from `EMNIST`\n",
        "and glue them together into images containing the generated text."
      ]
    },
    {
      "cell_type": "code",
      "execution_count": 61,
      "metadata": {
        "id": "YtsGfSu6dpZ9",
        "colab": {
          "base_uri": "https://localhost:8080/",
          "height": 35
        },
        "outputId": "91d55933-d91f-4bf5-e4db-dd18d1c0f966"
      },
      "outputs": [
        {
          "output_type": "execute_result",
          "data": {
            "text/plain": [
              "'EMNIST Lines dataset: synthetic handwriting lines dataset made from EMNIST characters.'"
            ],
            "application/vnd.google.colaboratory.intrinsic+json": {
              "type": "string"
            }
          },
          "metadata": {},
          "execution_count": 61
        }
      ],
      "source": [
        "emnist_lines = text_recognizer.data.EMNISTLines()  # configure\n",
        "emnist_lines.__doc__"
      ]
    },
    {
      "cell_type": "markdown",
      "metadata": {
        "id": "dik_SyEdb0st"
      },
      "source": [
        "This can take several minutes when first run,\n",
        "but afterwards data is persisted to disk."
      ]
    },
    {
      "cell_type": "code",
      "execution_count": 62,
      "metadata": {
        "id": "SofIYHOUtTFM",
        "colab": {
          "base_uri": "https://localhost:8080/"
        },
        "outputId": "fe5cfca5-ce48-42af-e586-c96c0230a71b"
      },
      "outputs": [
        {
          "output_type": "stream",
          "name": "stdout",
          "text": [
            "EMNISTLinesDataset generating data for train...\n",
            "EMNISTLinesDataset generating data for val...\n",
            "EMNISTLinesDataset generating data for test...\n",
            "EMNISTLinesDataset loading data from HDF5...\n"
          ]
        },
        {
          "output_type": "execute_result",
          "data": {
            "text/plain": [
              "EMNIST Lines Dataset\n",
              "Min overlap: 0\n",
              "Max overlap: 0.33\n",
              "Num classes: 83\n",
              "Dims: (1, 28, 896)\n",
              "Output dims: (32, 1)\n",
              "Train/val/test sizes: 10000, 2000, 2000\n",
              "Batch x stats: (torch.Size([128, 1, 28, 896]), torch.float32, 0.0, 0.07364349812269211, 0.23208004236221313, 1.0)\n",
              "Batch y stats: (torch.Size([128, 32]), torch.int64, 3, 66)"
            ]
          },
          "metadata": {},
          "execution_count": 62
        }
      ],
      "source": [
        "emnist_lines.prepare_data()  # download, save to disk\n",
        "emnist_lines.setup()  # create torch.utils.data.Datasets, do train/val split\n",
        "emnist_lines"
      ]
    },
    {
      "cell_type": "markdown",
      "metadata": {
        "id": "axESuV1SeoM6"
      },
      "source": [
        "Again, we're using the `LightningDataModule` interface\n",
        "to organize our data prep,\n",
        "so we can now fetch a batch and take a look at some data."
      ]
    },
    {
      "cell_type": "code",
      "execution_count": 63,
      "metadata": {
        "id": "1J7f2I9ggBi-",
        "colab": {
          "base_uri": "https://localhost:8080/"
        },
        "outputId": "2c7e9cff-282a-40fc-ecdb-81f77c23b79f"
      },
      "outputs": [
        {
          "output_type": "execute_result",
          "data": {
            "text/plain": [
              "(torch.Size([128, 1, 28, 896]), torch.Size([128, 32]))"
            ]
          },
          "metadata": {},
          "execution_count": 63
        }
      ],
      "source": [
        "line_xs, line_ys = next(iter(emnist_lines.val_dataloader()))\n",
        "line_xs.shape, line_ys.shape"
      ]
    },
    {
      "cell_type": "code",
      "execution_count": 66,
      "metadata": {
        "id": "B0yHgbW2gHgP",
        "colab": {
          "base_uri": "https://localhost:8080/",
          "height": 62
        },
        "outputId": "53746b64-a47a-4595-c543-40721d6a74a1"
      },
      "outputs": [
        {
          "output_type": "stream",
          "name": "stdout",
          "text": [
            "S-h-e- -s-a-i-d- -D-o- -y-o-u- -t-h-i-n-k-<P>-<P>-<P>-<P>-<P>-<P>-<P>-<P>-<P>-<P>-<P>\n"
          ]
        },
        {
          "output_type": "execute_result",
          "data": {
            "text/plain": [
              "<PIL.PngImagePlugin.PngImageFile image mode=RGB size=896x28>"
            ],
            "image/png": "[encoded data removed]"
          },
          "metadata": {},
          "execution_count": 66
        }
      ],
      "source": [
        "def read_line_labels(labels):\n",
        "    return [emnist_lines.mapping[label] for label in labels]\n",
        "\n",
        "idx = random.randint(0, len(line_xs) - 1)\n",
        "\n",
        "print(\"-\".join(read_line_labels(line_ys[idx])))\n",
        "wandb.Image(line_xs[idx]).image"
      ]
    },
    {
      "cell_type": "markdown",
      "metadata": {
        "id": "xirEmNPNtTFM"
      },
      "source": [
        "The result looks\n",
        "[kind of like a ransom note](https://tvtropes.org/pmwiki/pmwiki.php/Main/CutAndPasteNote)\n",
        "and is not yet anywhere near realistic, even for single lines --\n",
        "letters don't overlap, the exact same handwritten letter is repeated\n",
        "if the character appears more than once in the snippet --\n",
        "but it's a start."
      ]
    },
    {
      "cell_type": "markdown",
      "metadata": {
        "id": "eRWbSzkotTFM"
      },
      "source": [
        "# Applying CNNs to handwritten text: `LineCNNSimple`"
      ]
    },
    {
      "cell_type": "markdown",
      "metadata": {
        "id": "pzwYBv82tTFM"
      },
      "source": [
        "The `LineCNNSimple` class builds on the `CNN` class and can be applied to this dataset."
      ]
    },
    {
      "cell_type": "code",
      "execution_count": 67,
      "metadata": {
        "id": "ZqeImjd2lF7p",
        "colab": {
          "base_uri": "https://localhost:8080/"
        },
        "outputId": "067a7ad8-bec1-43dc-bff4-b426455efb88"
      },
      "outputs": [
        {
          "output_type": "execute_result",
          "data": {
            "text/plain": [
              "LineCNNSimple(\n",
              "  (cnn): CNN(\n",
              "    (conv1): ConvBlock(\n",
              "      (conv): Conv2d(1, 64, kernel_size=(3, 3), stride=(1, 1), padding=(1, 1))\n",
              "      (relu): ReLU()\n",
              "    )\n",
              "    (conv2): ConvBlock(\n",
              "      (conv): Conv2d(64, 64, kernel_size=(3, 3), stride=(1, 1), padding=(1, 1))\n",
              "      (relu): ReLU()\n",
              "    )\n",
              "    (dropout): Dropout(p=0.25, inplace=False)\n",
              "    (max_pool): MaxPool2d(kernel_size=2, stride=2, padding=0, dilation=1, ceil_mode=False)\n",
              "    (fc1): Linear(in_features=12544, out_features=128, bias=True)\n",
              "    (fc2): Linear(in_features=128, out_features=83, bias=True)\n",
              "  )\n",
              ")"
            ]
          },
          "metadata": {},
          "execution_count": 67
        }
      ],
      "source": [
        "line_cnn = text_recognizer.models.LineCNNSimple(emnist_lines.config())\n",
        "line_cnn"
      ]
    },
    {
      "cell_type": "markdown",
      "metadata": {
        "id": "Hi6g0acoxJO4"
      },
      "source": [
        "The `nn.Module`s look much the same,\n",
        "but the way they are used is different,\n",
        "which we can see by examining the `.forward` method:"
      ]
    },
    {
      "cell_type": "code",
      "execution_count": 73,
      "metadata": {
        "id": "Qg3UJhibxHfC"
      },
      "outputs": [],
      "source": [
        "line_cnn.forward??"
      ]
    },
    {
      "cell_type": "markdown",
      "metadata": {
        "id": "LAW7EWVlxMhd"
      },
      "source": [
        "The `CNN`, which operates on square images,\n",
        "is applied to our wide image repeatedly,\n",
        "slid over by the `W`indow `S`ize each time.\n",
        "We effectively convolve the network with the input image.\n",
        "\n",
        "Like our synthetic data, it is crude\n",
        "but it's enough to get started."
      ]
    },
    {
      "cell_type": "code",
      "execution_count": 87,
      "metadata": {
        "id": "FU4J13yLisiC",
        "colab": {
          "base_uri": "https://localhost:8080/",
          "height": 409
        },
        "outputId": "fdaf9eb1-47c9-4614-be4d-e342d2c4d7dd"
      },
      "outputs": [
        {
          "output_type": "stream",
          "name": "stdout",
          "text": [
            "torch.Size([1, 1, 28, 896])\n",
            "torch.Size([83, 32])\n",
            "tensor([ 1.2182e-02,  1.2066e-02, -6.7220e-03, -3.0929e-02, -6.0381e-02,\n",
            "         5.7269e-02,  3.8459e-02,  5.2679e-02, -1.2471e-04, -7.3414e-02,\n",
            "        -9.9456e-02, -3.7381e-02, -2.4716e-02, -2.4015e-02,  1.5184e-02,\n",
            "        -2.8671e-02,  7.7904e-02, -3.1033e-02, -1.6294e-02, -1.5367e-02,\n",
            "         9.0932e-02,  1.4200e-01, -5.0033e-02, -3.9609e-02,  8.9198e-02,\n",
            "         5.6672e-02,  7.4239e-02,  1.0920e-01, -4.7957e-02,  1.0006e-01,\n",
            "        -7.0765e-02,  1.3724e-02, -3.3263e-02,  8.6660e-03, -7.4999e-03,\n",
            "        -7.5700e-02, -6.3876e-02, -8.3852e-02,  7.4723e-02, -7.5930e-02,\n",
            "         1.9111e-02,  7.8345e-02,  8.0786e-02, -5.2754e-03, -8.0596e-02,\n",
            "         2.6172e-02, -2.3916e-02,  6.4013e-02,  3.9906e-02,  3.6780e-02,\n",
            "         9.9953e-02, -8.6516e-05, -1.3291e-01,  4.8356e-02, -2.1135e-02,\n",
            "        -6.1352e-02,  7.8420e-02, -1.6640e-02,  5.4122e-02,  6.6207e-02,\n",
            "         2.5646e-02,  3.5862e-02, -6.1282e-02,  7.9418e-02, -1.0006e-01,\n",
            "        -8.8998e-02,  5.5972e-02,  7.9383e-03,  7.3955e-02, -1.5143e-02,\n",
            "         4.9563e-03, -8.5803e-02,  4.1118e-02, -2.3879e-02, -9.9379e-02,\n",
            "        -4.6896e-03, -5.3203e-02, -8.8496e-02, -4.9140e-02, -4.1278e-02,\n",
            "         4.9369e-02,  6.3794e-02, -3.5475e-02], grad_fn=<SelectBackward0>)\n",
            "tensor(21)\n",
            "H-K-N-K-k-q-k-K-H-K-K-q-N-H-H-H-N-H-H-H-q-H-N-H-H-N-H-H-q-H-q-N\n"
          ]
        },
        {
          "output_type": "execute_result",
          "data": {
            "text/plain": [
              "<PIL.PngImagePlugin.PngImageFile image mode=RGB size=896x28>"
            ],
            "image/png": "[encoded data removed]"
          },
          "metadata": {},
          "execution_count": 87
        }
      ],
      "source": [
        "idx = random.randint(0, len(line_xs) - 1)\n",
        "print(line_xs[idx:idx+1].shape)\n",
        "outs, = line_cnn(line_xs[idx:idx+1])\n",
        "print(outs.shape)\n",
        "print(outs[:,0])\n",
        "\n",
        "preds = torch.argmax(outs, 0)\n",
        "print(preds[0])\n",
        "\n",
        "print(\"-\".join(read_line_labels(preds)))\n",
        "wandb.Image(line_xs[idx]).image"
      ]
    },
    {
      "cell_type": "markdown",
      "metadata": {
        "id": "OxHI4Gzndbxg"
      },
      "source": [
        "> <small> You may notice that this randomly-initialized\n",
        "network tends to predict some characters far more often than others,\n",
        "rather than predicting all characters with equal likelihood.\n",
        "This is a commonly-observed phenomenon in deep networks.\n",
        "It is connected to issues with\n",
        "[model calibration](https://arxiv.org/abs/1706.04599)\n",
        "and Bayesian uses of DNNs\n",
        "(see e.g. Figure 7 of\n",
        "[Wenzel et al. 2020](https://arxiv.org/abs/2002.02405)).</small>"
      ]
    },
    {
      "cell_type": "markdown",
      "metadata": {
        "id": "NSonI9KcfJrB"
      },
      "source": [
        "Let's launch a training run with the default parameters.\n",
        "\n",
        "This cell should run in just a few minutes on typical hardware."
      ]
    },
    {
      "cell_type": "code",
      "execution_count": 88,
      "metadata": {
        "id": "rsbJdeRiwSVA",
        "colab": {
          "base_uri": "https://localhost:8080/",
          "height": 633,
          "referenced_widgets": [
            "ac10046ba5ce4d4da9672859594f6432",
            "c6b6ed835fb5415299cc9538b42b0eca",
            "b6047212672946acaa3a5cd60b4c8345",
            "c1929c510ba44aa7b5016445055ef12b",
            "9c5b0a19a6c5482a8e20a1b3ad0a951e",
            "36e1cafcfb194c43a9aa21fd273981e4",
            "4677a19598c045a28372a770343a8488",
            "8c945d06cbb2410ca032cd047e57d1a1",
            "0259b805745042eab0808459d44330f9",
            "777e11bed5a441beab8508371b243a39",
            "dccce61751b94731a9c45ae6f0bd95d1",
            "ac4c472b567b4e72b01d6bfa20b997fd",
            "2adb9d3270dc4a22a6ba4782ce21e396",
            "bc42aacc5f59497caafa667e42d22704",
            "f181b4c10fc84d4693a330c0a3bf4508",
            "1eb8d11afd8847848474cf09e2abcc1f",
            "9687a015caaa44ba8823356388203cd1",
            "df8f54ec38044a609710106fb4982701",
            "abdd07475cdb4a1d97c3f223c16d2b6a",
            "8cb45777160d46569225621b09c64bf0",
            "ef8bcbdf190a4bc299a7ac523dd902e5",
            "f385ad5c9fd642808d4b99181cbffff7",
            "40d9163301034d9bb9ac17f08263d685",
            "c4cbc0c4648049498160bc7724af5db4",
            "bd804f400b304d1b8d9d97f8eea6c252",
            "a44f73b9f814492790010c1b326c2107",
            "d20a17cb75ed43b383bc168928a110e2",
            "083c66e046ea4cb5ab7f9a9023962389",
            "3cc8819c3e1541f29e7c6d8743931838",
            "4ff40d7a758146cb8268528fb2066fb2",
            "3b1cf9d763464d848237e9a1fb459232",
            "476b1652c8e64fd9b1affff7f302b697",
            "1890aafccc044b48b6415c8cc439a2c9",
            "8b23fab377514e7d8e6c53b6c68e9e74",
            "f63ac95bb66a460f8bc7dda8183fbe5a",
            "767d1280fcc4449ca2f80f4012182033",
            "4d25d79b3d6948a78ee9fb345ec8efde",
            "9e4c0c8063eb4e98808fb14e6bebd1ff",
            "f401e8b3773c4cfca3c169ee107de193",
            "8bf0a731ccc3450d94ebc1274be23dc6",
            "23f4a4d3cde74a5c81ea7c9f7b24a074",
            "117a797113bd46d794c18307256ff97c",
            "2d747d87944c44b083d7dd19b03f1ceb",
            "14b27899496f4e9f9855bff8f149d35c",
            "4141a687a21c45f2b110a8f1bb86b5d0",
            "f4c0f45b57cf40c9837a1da2706759c7",
            "117077da140d4930b370fe72e325ffff",
            "1bb18cc435fd43f3ad5365a41d1da44f",
            "b7ee3fffc23c4acc9e27cb33d79badd1",
            "fc70c27d567d45b7a3f81152d7ee276f",
            "f2be171012de4661b33ca8db6baf8247",
            "f3d53388324c494ca9b22aad1701df23",
            "bfb6a291df3b48e7b28294a07fa85048",
            "d84658e66dee45eca9f5d3ad75c8bbf9",
            "177cf9bd750b46db89b34ef5a7e9c1ca"
          ]
        },
        "outputId": "c082a8cd-1e60-44b2-f377-e122d08c5fc9"
      },
      "outputs": [
        {
          "output_type": "stream",
          "name": "stderr",
          "text": [
            "INFO:pytorch_lightning.utilities.rank_zero:Trainer already configured with model summary callbacks: [<class 'pytorch_lightning.callbacks.model_summary.ModelSummary'>]. Skipping setting a default `ModelSummary` callback.\n",
            "INFO:pytorch_lightning.utilities.rank_zero:GPU available: True, used: True\n",
            "INFO:pytorch_lightning.utilities.rank_zero:TPU available: False, using: 0 TPU cores\n",
            "INFO:pytorch_lightning.utilities.rank_zero:IPU available: False, using: 0 IPUs\n",
            "INFO:pytorch_lightning.utilities.rank_zero:HPU available: False, using: 0 HPUs\n"
          ]
        },
        {
          "output_type": "stream",
          "name": "stdout",
          "text": [
            "EMNISTLinesDataset loading data from HDF5...\n"
          ]
        },
        {
          "output_type": "stream",
          "name": "stderr",
          "text": [
            "INFO:pytorch_lightning.accelerators.gpu:LOCAL_RANK: 0 - CUDA_VISIBLE_DEVICES: [0]\n",
            "INFO:pytorch_lightning.callbacks.model_summary:\n",
            "  | Name      | Type          | Params\n",
            "--------------------------------------------\n",
            "0 | model     | LineCNNSimple | 1.7 M \n",
            "1 | model.cnn | CNN           | 1.7 M \n",
            "2 | train_acc | Accuracy      | 0     \n",
            "3 | val_acc   | Accuracy      | 0     \n",
            "4 | test_acc  | Accuracy      | 0     \n",
            "--------------------------------------------\n",
            "1.7 M     Trainable params\n",
            "0         Non-trainable params\n",
            "1.7 M     Total params\n",
            "6.616     Total estimated model params size (MB)\n"
          ]
        },
        {
          "output_type": "display_data",
          "data": {
            "text/plain": [
              "Sanity Checking: 0it [00:00, ?it/s]"
            ],
            "application/vnd.jupyter.widget-view+json": {
              "version_major": 2,
              "version_minor": 0,
              "model_id": "ac10046ba5ce4d4da9672859594f6432"
            }
          },
          "metadata": {}
        },
        {
          "output_type": "display_data",
          "data": {
            "text/plain": [
              "Training: 0it [00:00, ?it/s]"
            ],
            "application/vnd.jupyter.widget-view+json": {
              "version_major": 2,
              "version_minor": 0,
              "model_id": "ac4c472b567b4e72b01d6bfa20b997fd"
            }
          },
          "metadata": {}
        },
        {
          "output_type": "display_data",
          "data": {
            "text/plain": [
              "Validation: 0it [00:00, ?it/s]"
            ],
            "application/vnd.jupyter.widget-view+json": {
              "version_major": 2,
              "version_minor": 0,
              "model_id": "40d9163301034d9bb9ac17f08263d685"
            }
          },
          "metadata": {}
        },
        {
          "output_type": "display_data",
          "data": {
            "text/plain": [
              "Validation: 0it [00:00, ?it/s]"
            ],
            "application/vnd.jupyter.widget-view+json": {
              "version_major": 2,
              "version_minor": 0,
              "model_id": "8b23fab377514e7d8e6c53b6c68e9e74"
            }
          },
          "metadata": {}
        },
        {
          "output_type": "stream",
          "name": "stderr",
          "text": [
            "INFO:pytorch_lightning.utilities.rank_zero:Best model saved at: /content/fsdl-text-recognizer-2022-labs/lab02/training/logs/lightning_logs/version_2/epoch=0001-validation.loss=1.387.ckpt\n",
            "INFO:pytorch_lightning.utilities.rank_zero:Restoring states from the checkpoint path at /content/fsdl-text-recognizer-2022-labs/lab02/training/logs/lightning_logs/version_2/epoch=0001-validation.loss=1.387.ckpt\n",
            "INFO:pytorch_lightning.accelerators.gpu:LOCAL_RANK: 0 - CUDA_VISIBLE_DEVICES: [0]\n",
            "INFO:pytorch_lightning.utilities.rank_zero:Loaded model weights from checkpoint at /content/fsdl-text-recognizer-2022-labs/lab02/training/logs/lightning_logs/version_2/epoch=0001-validation.loss=1.387.ckpt\n"
          ]
        },
        {
          "output_type": "stream",
          "name": "stdout",
          "text": [
            "EMNISTLinesDataset loading data from HDF5...\n"
          ]
        },
        {
          "output_type": "display_data",
          "data": {
            "text/plain": [
              "Testing: 0it [00:00, ?it/s]"
            ],
            "application/vnd.jupyter.widget-view+json": {
              "version_major": 2,
              "version_minor": 0,
              "model_id": "4141a687a21c45f2b110a8f1bb86b5d0"
            }
          },
          "metadata": {}
        },
        {
          "output_type": "display_data",
          "data": {
            "text/plain": [
              "┏━━━━━━━━━━━━━━━━━━━━━━━━━━━┳━━━━━━━━━━━━━━━━━━━━━━━━━━━┓\n",
              "┃\u001b[1m \u001b[0m\u001b[1m       Test metric       \u001b[0m\u001b[1m \u001b[0m┃\u001b[1m \u001b[0m\u001b[1m      DataLoader 0       \u001b[0m\u001b[1m \u001b[0m┃\n",
              "┡━━━━━━━━━━━━━━━━━━━━━━━━━━━╇━━━━━━━━━━━━━━━━━━━━━━━━━━━┩\n",
              "│\u001b[36m \u001b[0m\u001b[36m        test/acc         \u001b[0m\u001b[36m \u001b[0m│\u001b[35m \u001b[0m\u001b[35m   0.6741874814033508    \u001b[0m\u001b[35m \u001b[0m│\n",
              "│\u001b[36m \u001b[0m\u001b[36m        test/loss        \u001b[0m\u001b[36m \u001b[0m│\u001b[35m \u001b[0m\u001b[35m   1.4399787187576294    \u001b[0m\u001b[35m \u001b[0m│\n",
              "└───────────────────────────┴───────────────────────────┘\n"
            ],
            "text/html": [
              "<pre style=\"white-space:pre;overflow-x:auto;line-height:normal;font-family:Menlo,'DejaVu Sans Mono',consolas,'Courier New',monospace\">┏━━━━━━━━━━━━━━━━━━━━━━━━━━━┳━━━━━━━━━━━━━━━━━━━━━━━━━━━┓\n",
              "┃<span style=\"font-weight: bold\">        Test metric        </span>┃<span style=\"font-weight: bold\">       DataLoader 0        </span>┃\n",
              "┡━━━━━━━━━━━━━━━━━━━━━━━━━━━╇━━━━━━━━━━━━━━━━━━━━━━━━━━━┩\n",
              "│<span style=\"color: #008080; text-decoration-color: #008080\">         test/acc          </span>│<span style=\"color: #800080; text-decoration-color: #800080\">    0.6741874814033508     </span>│\n",
              "│<span style=\"color: #008080; text-decoration-color: #008080\">         test/loss         </span>│<span style=\"color: #800080; text-decoration-color: #800080\">    1.4399787187576294     </span>│\n",
              "└───────────────────────────┴───────────────────────────┘\n",
              "</pre>\n"
            ]
          },
          "metadata": {}
        }
      ],
      "source": [
        "%run training/run_experiment.py --model_class LineCNNSimple --data_class EMNISTLines \\\n",
        "  --batch_size 32 --gpus {gpus} --max_epochs 2"
      ]
    },
    {
      "cell_type": "markdown",
      "metadata": {
        "id": "y9e5nTplfoXG"
      },
      "source": [
        "You should see a test accuracy in the 65-70% range.\n",
        "\n",
        "That seems pretty good,\n",
        "especially for a simple model trained in a minute.\n",
        "\n",
        "Let's reload the model and run it on some examples."
      ]
    },
    {
      "cell_type": "code",
      "execution_count": 89,
      "metadata": {
        "id": "0NuXazAvw9NA",
        "colab": {
          "base_uri": "https://localhost:8080/"
        },
        "outputId": "59c14de5-c278-4cea-acca-161f20b8b250"
      },
      "outputs": [
        {
          "output_type": "stream",
          "name": "stdout",
          "text": [
            "training/logs/lightning_logs/version_2/epoch=0001-validation.loss=1.387.ckpt\n"
          ]
        }
      ],
      "source": [
        "# if you change around model/data args in the command above, add them here\n",
        "#  tip: define the arguments as variables, like we've done for gpus\n",
        "#       and then add those variables to this dict so you don't need to\n",
        "#       remember to update/copy+paste\n",
        "\n",
        "args = Namespace(**{\n",
        "    \"model_class\": \"LineCNNSimple\",\n",
        "    \"data_class\": \"EMNISTLines\"})\n",
        "\n",
        "\n",
        "_, line_cnn = training.util.setup_data_and_model_from_args(args)\n",
        "\n",
        "latest_ckpt, = ! {list_all_log_files} | {filter_to_ckpts} | {sort_version_descending} | {take_first}\n",
        "print(latest_ckpt)\n",
        "\n",
        "reloaded_lines_model = text_recognizer.lit_models.BaseLitModel.load_from_checkpoint(\n",
        "   latest_ckpt, args=args, model=line_cnn)"
      ]
    },
    {
      "cell_type": "code",
      "execution_count": 94,
      "metadata": {
        "id": "J8ziVROkxkGC",
        "colab": {
          "base_uri": "https://localhost:8080/",
          "height": 62
        },
        "outputId": "74b5da74-4f75-4678-bd95-e00f16b1d5a8"
      },
      "outputs": [
        {
          "output_type": "stream",
          "name": "stdout",
          "text": [
            " -t-r-a-e-e- -t-w-e- - -<P>-h-e-<P>-<P>-<P>-<P>-<P>-<P>-<P>-<P>-<P>-<P>-<P>-<P>-<P>-<P>-<P>-<P>-<P>\n"
          ]
        },
        {
          "output_type": "execute_result",
          "data": {
            "text/plain": [
              "<PIL.PngImagePlugin.PngImageFile image mode=RGB size=896x28>"
            ],
            "image/png": "[encoded data removed]"
          },
          "metadata": {},
          "execution_count": 94
        }
      ],
      "source": [
        "idx = random.randint(0, len(line_xs) - 1)\n",
        "\n",
        "outs, = reloaded_lines_model(line_xs[idx:idx+1])\n",
        "preds = torch.argmax(outs, 0)\n",
        "\n",
        "print(\"-\".join(read_line_labels(preds)))\n",
        "wandb.Image(line_xs[idx]).image"
      ]
    },
    {
      "cell_type": "markdown",
      "metadata": {
        "id": "N9bQCHtYgA0S"
      },
      "source": [
        "In general,\n",
        "we see predictions that have very low subjective quality:\n",
        "it seems like most of the letters are wrong\n",
        "and the model often prefers to predict the most common letters\n",
        "in the dataset, like `e`.\n",
        "\n",
        "Notice, however, that many of the\n",
        "characters in a given line are padding characters, `<P>`.\n",
        "\n",
        "A model that always predicts `<P>` can achieve around 50% accuracy:"
      ]
    },
    {
      "cell_type": "code",
      "execution_count": 92,
      "metadata": {
        "id": "EE-T7zgDgo7-",
        "colab": {
          "base_uri": "https://localhost:8080/"
        },
        "outputId": "ca799cd3-c33c-4d82-aae8-fc4992c62aa3"
      },
      "outputs": [
        {
          "output_type": "execute_result",
          "data": {
            "text/plain": [
              "tensor(0.5359)"
            ]
          },
          "metadata": {},
          "execution_count": 92
        }
      ],
      "source": [
        "padding_token = emnist_lines.emnist.inverse_mapping[\"<P>\"]\n",
        "torch.sum(line_ys == padding_token) / line_ys.numel()"
      ]
    },
    {
      "cell_type": "markdown",
      "metadata": {
        "id": "rGHWmOyVh5rV"
      },
      "source": [
        "There are ways to adjust your classification metrics to\n",
        "[handle this particular issue](https://developers.google.com/machine-learning/crash-course/classification/precision-and-recall).\n",
        "In general it's good to find a metric\n",
        "that has baseline performance at 0 and perfect performance at 1,\n",
        "so that numbers are clearly interpretable.\n",
        "\n",
        "But it's an important reminder to actually look\n",
        "at your model's behavior from time to time.\n",
        "Metrics are single numbers,\n",
        "so they by necessity throw away a ton of information\n",
        "about your model's behavior,\n",
        "some of which is deeply relevant."
      ]
    },
    {
      "cell_type": "markdown",
      "metadata": {
        "id": "6p--KWZ9YJWQ"
      },
      "source": [
        "# Exercises"
      ]
    },
    {
      "cell_type": "markdown",
      "metadata": {
        "id": "srQnoOK8YLDv"
      },
      "source": [
        "### 🌟 Research a `pl.Trainer` argument and try it out."
      ]
    },
    {
      "cell_type": "markdown",
      "metadata": {
        "id": "7j652MtkYR8n"
      },
      "source": [
        "The Lightning `Trainer` class is highly configurable\n",
        "and has accumulated a number of features as Lightning has matured.\n",
        "\n",
        "Check out the documentation for this class\n",
        "and pick an argument to try out with `training/run_experiment.py`.\n",
        "Look for edge cases in its behavior,\n",
        "especially when combined with other arguments."
      ]
    },
    {
      "cell_type": "code",
      "execution_count": null,
      "metadata": {
        "id": "8UWNicq_jS7k"
      },
      "outputs": [],
      "source": [
        "import pytorch_lightning as pl\n",
        "\n",
        "pl_version = pl.__version__\n",
        "\n",
        "print(\"pl.Trainer guide URL:\", f\"https://pytorch-lightning.readthedocs.io/en/{pl_version}/common/trainer.html\")\n",
        "print(\"pl.Trainer reference docs URL:\", f\"https://pytorch-lightning.readthedocs.io/en/{pl_version}/api/pytorch_lightning.trainer.trainer.Trainer.html\")\n",
        "\n",
        "pl.Trainer??"
      ]
    },
    {
      "cell_type": "code",
      "execution_count": null,
      "metadata": {
        "id": "14AOfjqqYOoT"
      },
      "outputs": [],
      "source": [
        "%run training/run_experiment.py --help"
      ]
    }
  ],
  "metadata": {
    "accelerator": "GPU",
    "colab": {
      "provenance": [],
      "gpuType": "T4"
    },
    "kernelspec": {
      "display_name": "Python 3",
      "name": "python3"
    },
    "language_info": {
      "codemirror_mode": {
        "name": "ipython",
        "version": 3
      },
      "file_extension": ".py",
      "mimetype": "text/x-python",
      "name": "python",
      "nbconvert_exporter": "python",
      "pygments_lexer": "ipython3",
      "version": "3.7.13"
    },
    "vscode": {
      "interpreter": {
        "hash": "0f056848cf5d2396a4970b625f23716aa539c2ff5334414c1b5d98d7daae66f6"
      }
    },
    "widgets": {
      "application/vnd.jupyter.widget-state+json": {
        "3a77eadfa8344ae0a765b6404d2048cb": {
          "model_module": "@jupyter-widgets/controls",
          "model_name": "HBoxModel",
          "model_module_version": "1.5.0",
          "state": {
            "_dom_classes": [],
            "_model_module": "@jupyter-widgets/controls",
            "_model_module_version": "1.5.0",
            "_model_name": "HBoxModel",
            "_view_count": null,
            "_view_module": "@jupyter-widgets/controls",
            "_view_module_version": "1.5.0",
            "_view_name": "HBoxView",
            "box_style": "",
            "children": [
              "IPY_MODEL_36f8261d875a417bbb4962b4d99359a1",
              "IPY_MODEL_788cb6a88e884000a59d2d3d0356ee05",
              "IPY_MODEL_091126ff21174be6aa83b2da6c131bc7"
            ],
            "layout": "IPY_MODEL_150cda4c2ba14216b69db1590c559dd6"
          }
        },
        "36f8261d875a417bbb4962b4d99359a1": {
          "model_module": "@jupyter-widgets/controls",
          "model_name": "HTMLModel",
          "model_module_version": "1.5.0",
          "state": {
            "_dom_classes": [],
            "_model_module": "@jupyter-widgets/controls",
            "_model_module_version": "1.5.0",
            "_model_name": "HTMLModel",
            "_view_count": null,
            "_view_module": "@jupyter-widgets/controls",
            "_view_module_version": "1.5.0",
            "_view_name": "HTMLView",
            "description": "",
            "description_tooltip": null,
            "layout": "IPY_MODEL_7c8ee9bb78a04e34bcb06aff27902539",
            "placeholder": "​",
            "style": "IPY_MODEL_f902a240733f449d872ffd68fb2128a8",
            "value": "Sanity Checking DataLoader 0: 100%"
          }
        },
        "788cb6a88e884000a59d2d3d0356ee05": {
          "model_module": "@jupyter-widgets/controls",
          "model_name": "FloatProgressModel",
          "model_module_version": "1.5.0",
          "state": {
            "_dom_classes": [],
            "_model_module": "@jupyter-widgets/controls",
            "_model_module_version": "1.5.0",
            "_model_name": "FloatProgressModel",
            "_view_count": null,
            "_view_module": "@jupyter-widgets/controls",
            "_view_module_version": "1.5.0",
            "_view_name": "ProgressView",
            "bar_style": "",
            "description": "",
            "description_tooltip": null,
            "layout": "IPY_MODEL_e5f0f19fac774a559da03f9f284ce978",
            "max": 2,
            "min": 0,
            "orientation": "horizontal",
            "style": "IPY_MODEL_83e96590aab545918962e346d26c37ed",
            "value": 2
          }
        },
        "091126ff21174be6aa83b2da6c131bc7": {
          "model_module": "@jupyter-widgets/controls",
          "model_name": "HTMLModel",
          "model_module_version": "1.5.0",
          "state": {
            "_dom_classes": [],
            "_model_module": "@jupyter-widgets/controls",
            "_model_module_version": "1.5.0",
            "_model_name": "HTMLModel",
            "_view_count": null,
            "_view_module": "@jupyter-widgets/controls",
            "_view_module_version": "1.5.0",
            "_view_name": "HTMLView",
            "description": "",
            "description_tooltip": null,
            "layout": "IPY_MODEL_649a92b7b14e4969ad3f2b7580a7ef03",
            "placeholder": "​",
            "style": "IPY_MODEL_d9f437aea0534baab56fcd78be0a444c",
            "value": " 2/2 [00:06&lt;00:00,  3.29s/it]"
          }
        },
        "150cda4c2ba14216b69db1590c559dd6": {
          "model_module": "@jupyter-widgets/base",
          "model_name": "LayoutModel",
          "model_module_version": "1.2.0",
          "state": {
            "_model_module": "@jupyter-widgets/base",
            "_model_module_version": "1.2.0",
            "_model_name": "LayoutModel",
            "_view_count": null,
            "_view_module": "@jupyter-widgets/base",
            "_view_module_version": "1.2.0",
            "_view_name": "LayoutView",
            "align_content": null,
            "align_items": null,
            "align_self": null,
            "border": null,
            "bottom": null,
            "display": "inline-flex",
            "flex": null,
            "flex_flow": "row wrap",
            "grid_area": null,
            "grid_auto_columns": null,
            "grid_auto_flow": null,
            "grid_auto_rows": null,
            "grid_column": null,
            "grid_gap": null,
            "grid_row": null,
            "grid_template_areas": null,
            "grid_template_columns": null,
            "grid_template_rows": null,
            "height": null,
            "justify_content": null,
            "justify_items": null,
            "left": null,
            "margin": null,
            "max_height": null,
            "max_width": null,
            "min_height": null,
            "min_width": null,
            "object_fit": null,
            "object_position": null,
            "order": null,
            "overflow": null,
            "overflow_x": null,
            "overflow_y": null,
            "padding": null,
            "right": null,
            "top": null,
            "visibility": "hidden",
            "width": "100%"
          }
        },
        "7c8ee9bb78a04e34bcb06aff27902539": {
          "model_module": "@jupyter-widgets/base",
          "model_name": "LayoutModel",
          "model_module_version": "1.2.0",
          "state": {
            "_model_module": "@jupyter-widgets/base",
            "_model_module_version": "1.2.0",
            "_model_name": "LayoutModel",
            "_view_count": null,
            "_view_module": "@jupyter-widgets/base",
            "_view_module_version": "1.2.0",
            "_view_name": "LayoutView",
            "align_content": null,
            "align_items": null,
            "align_self": null,
            "border": null,
            "bottom": null,
            "display": null,
            "flex": null,
            "flex_flow": null,
            "grid_area": null,
            "grid_auto_columns": null,
            "grid_auto_flow": null,
            "grid_auto_rows": null,
            "grid_column": null,
            "grid_gap": null,
            "grid_row": null,
            "grid_template_areas": null,
            "grid_template_columns": null,
            "grid_template_rows": null,
            "height": null,
            "justify_content": null,
            "justify_items": null,
            "left": null,
            "margin": null,
            "max_height": null,
            "max_width": null,
            "min_height": null,
            "min_width": null,
            "object_fit": null,
            "object_position": null,
            "order": null,
            "overflow": null,
            "overflow_x": null,
            "overflow_y": null,
            "padding": null,
            "right": null,
            "top": null,
            "visibility": null,
            "width": null
          }
        },
        "f902a240733f449d872ffd68fb2128a8": {
          "model_module": "@jupyter-widgets/controls",
          "model_name": "DescriptionStyleModel",
          "model_module_version": "1.5.0",
          "state": {
            "_model_module": "@jupyter-widgets/controls",
            "_model_module_version": "1.5.0",
            "_model_name": "DescriptionStyleModel",
            "_view_count": null,
            "_view_module": "@jupyter-widgets/base",
            "_view_module_version": "1.2.0",
            "_view_name": "StyleView",
            "description_width": ""
          }
        },
        "e5f0f19fac774a559da03f9f284ce978": {
          "model_module": "@jupyter-widgets/base",
          "model_name": "LayoutModel",
          "model_module_version": "1.2.0",
          "state": {
            "_model_module": "@jupyter-widgets/base",
            "_model_module_version": "1.2.0",
            "_model_name": "LayoutModel",
            "_view_count": null,
            "_view_module": "@jupyter-widgets/base",
            "_view_module_version": "1.2.0",
            "_view_name": "LayoutView",
            "align_content": null,
            "align_items": null,
            "align_self": null,
            "border": null,
            "bottom": null,
            "display": null,
            "flex": "2",
            "flex_flow": null,
            "grid_area": null,
            "grid_auto_columns": null,
            "grid_auto_flow": null,
            "grid_auto_rows": null,
            "grid_column": null,
            "grid_gap": null,
            "grid_row": null,
            "grid_template_areas": null,
            "grid_template_columns": null,
            "grid_template_rows": null,
            "height": null,
            "justify_content": null,
            "justify_items": null,
            "left": null,
            "margin": null,
            "max_height": null,
            "max_width": null,
            "min_height": null,
            "min_width": null,
            "object_fit": null,
            "object_position": null,
            "order": null,
            "overflow": null,
            "overflow_x": null,
            "overflow_y": null,
            "padding": null,
            "right": null,
            "top": null,
            "visibility": null,
            "width": null
          }
        },
        "83e96590aab545918962e346d26c37ed": {
          "model_module": "@jupyter-widgets/controls",
          "model_name": "ProgressStyleModel",
          "model_module_version": "1.5.0",
          "state": {
            "_model_module": "@jupyter-widgets/controls",
            "_model_module_version": "1.5.0",
            "_model_name": "ProgressStyleModel",
            "_view_count": null,
            "_view_module": "@jupyter-widgets/base",
            "_view_module_version": "1.2.0",
            "_view_name": "StyleView",
            "bar_color": null,
            "description_width": ""
          }
        },
        "649a92b7b14e4969ad3f2b7580a7ef03": {
          "model_module": "@jupyter-widgets/base",
          "model_name": "LayoutModel",
          "model_module_version": "1.2.0",
          "state": {
            "_model_module": "@jupyter-widgets/base",
            "_model_module_version": "1.2.0",
            "_model_name": "LayoutModel",
            "_view_count": null,
            "_view_module": "@jupyter-widgets/base",
            "_view_module_version": "1.2.0",
            "_view_name": "LayoutView",
            "align_content": null,
            "align_items": null,
            "align_self": null,
            "border": null,
            "bottom": null,
            "display": null,
            "flex": null,
            "flex_flow": null,
            "grid_area": null,
            "grid_auto_columns": null,
            "grid_auto_flow": null,
            "grid_auto_rows": null,
            "grid_column": null,
            "grid_gap": null,
            "grid_row": null,
            "grid_template_areas": null,
            "grid_template_columns": null,
            "grid_template_rows": null,
            "height": null,
            "justify_content": null,
            "justify_items": null,
            "left": null,
            "margin": null,
            "max_height": null,
            "max_width": null,
            "min_height": null,
            "min_width": null,
            "object_fit": null,
            "object_position": null,
            "order": null,
            "overflow": null,
            "overflow_x": null,
            "overflow_y": null,
            "padding": null,
            "right": null,
            "top": null,
            "visibility": null,
            "width": null
          }
        },
        "d9f437aea0534baab56fcd78be0a444c": {
          "model_module": "@jupyter-widgets/controls",
          "model_name": "DescriptionStyleModel",
          "model_module_version": "1.5.0",
          "state": {
            "_model_module": "@jupyter-widgets/controls",
            "_model_module_version": "1.5.0",
            "_model_name": "DescriptionStyleModel",
            "_view_count": null,
            "_view_module": "@jupyter-widgets/base",
            "_view_module_version": "1.2.0",
            "_view_name": "StyleView",
            "description_width": ""
          }
        },
        "328656a74fcc4d44b4d1a7a43480a695": {
          "model_module": "@jupyter-widgets/controls",
          "model_name": "HBoxModel",
          "model_module_version": "1.5.0",
          "state": {
            "_dom_classes": [],
            "_model_module": "@jupyter-widgets/controls",
            "_model_module_version": "1.5.0",
            "_model_name": "HBoxModel",
            "_view_count": null,
            "_view_module": "@jupyter-widgets/controls",
            "_view_module_version": "1.5.0",
            "_view_name": "HBoxView",
            "box_style": "",
            "children": [
              "IPY_MODEL_43afa1a9559b4dcc8f5eef0fba41bf09",
              "IPY_MODEL_b8bff48b6df841d0b93fdbe10881a70b",
              "IPY_MODEL_56f48211e1e7489fa28ce1eb465b3789"
            ],
            "layout": "IPY_MODEL_0d521a1839c64bcba808ba15db4205e7"
          }
        },
        "43afa1a9559b4dcc8f5eef0fba41bf09": {
          "model_module": "@jupyter-widgets/controls",
          "model_name": "HTMLModel",
          "model_module_version": "1.5.0",
          "state": {
            "_dom_classes": [],
            "_model_module": "@jupyter-widgets/controls",
            "_model_module_version": "1.5.0",
            "_model_name": "HTMLModel",
            "_view_count": null,
            "_view_module": "@jupyter-widgets/controls",
            "_view_module_version": "1.5.0",
            "_view_name": "HTMLView",
            "description": "",
            "description_tooltip": null,
            "layout": "IPY_MODEL_afd482d596b441afa0431c61d3edc219",
            "placeholder": "​",
            "style": "IPY_MODEL_f111605da2964551a12482ad87a93e39",
            "value": "Epoch 0: 100%"
          }
        },
        "b8bff48b6df841d0b93fdbe10881a70b": {
          "model_module": "@jupyter-widgets/controls",
          "model_name": "FloatProgressModel",
          "model_module_version": "1.5.0",
          "state": {
            "_dom_classes": [],
            "_model_module": "@jupyter-widgets/controls",
            "_model_module_version": "1.5.0",
            "_model_name": "FloatProgressModel",
            "_view_count": null,
            "_view_module": "@jupyter-widgets/controls",
            "_view_module_version": "1.5.0",
            "_view_name": "ProgressView",
            "bar_style": "success",
            "description": "",
            "description_tooltip": null,
            "layout": "IPY_MODEL_99381c51f92b4c478cfedcef99bc2d08",
            "max": 2542,
            "min": 0,
            "orientation": "horizontal",
            "style": "IPY_MODEL_ba6e2a779ce44baaaa4b8ee55e2314c4",
            "value": 2542
          }
        },
        "56f48211e1e7489fa28ce1eb465b3789": {
          "model_module": "@jupyter-widgets/controls",
          "model_name": "HTMLModel",
          "model_module_version": "1.5.0",
          "state": {
            "_dom_classes": [],
            "_model_module": "@jupyter-widgets/controls",
            "_model_module_version": "1.5.0",
            "_model_name": "HTMLModel",
            "_view_count": null,
            "_view_module": "@jupyter-widgets/controls",
            "_view_module_version": "1.5.0",
            "_view_name": "HTMLView",
            "description": "",
            "description_tooltip": null,
            "layout": "IPY_MODEL_551dc914042d4a0a8bb75d6ecf0a57c5",
            "placeholder": "​",
            "style": "IPY_MODEL_f86d20a84fe54ae09e059968a4b957e0",
            "value": " 2542/2542 [00:40&lt;00:00, 62.75it/s, loss=0.611, v_num=0, validation/loss=0.573, validation/acc=0.788]"
          }
        },
        "0d521a1839c64bcba808ba15db4205e7": {
          "model_module": "@jupyter-widgets/base",
          "model_name": "LayoutModel",
          "model_module_version": "1.2.0",
          "state": {
            "_model_module": "@jupyter-widgets/base",
            "_model_module_version": "1.2.0",
            "_model_name": "LayoutModel",
            "_view_count": null,
            "_view_module": "@jupyter-widgets/base",
            "_view_module_version": "1.2.0",
            "_view_name": "LayoutView",
            "align_content": null,
            "align_items": null,
            "align_self": null,
            "border": null,
            "bottom": null,
            "display": "inline-flex",
            "flex": null,
            "flex_flow": "row wrap",
            "grid_area": null,
            "grid_auto_columns": null,
            "grid_auto_flow": null,
            "grid_auto_rows": null,
            "grid_column": null,
            "grid_gap": null,
            "grid_row": null,
            "grid_template_areas": null,
            "grid_template_columns": null,
            "grid_template_rows": null,
            "height": null,
            "justify_content": null,
            "justify_items": null,
            "left": null,
            "margin": null,
            "max_height": null,
            "max_width": null,
            "min_height": null,
            "min_width": null,
            "object_fit": null,
            "object_position": null,
            "order": null,
            "overflow": null,
            "overflow_x": null,
            "overflow_y": null,
            "padding": null,
            "right": null,
            "top": null,
            "visibility": null,
            "width": "100%"
          }
        },
        "afd482d596b441afa0431c61d3edc219": {
          "model_module": "@jupyter-widgets/base",
          "model_name": "LayoutModel",
          "model_module_version": "1.2.0",
          "state": {
            "_model_module": "@jupyter-widgets/base",
            "_model_module_version": "1.2.0",
            "_model_name": "LayoutModel",
            "_view_count": null,
            "_view_module": "@jupyter-widgets/base",
            "_view_module_version": "1.2.0",
            "_view_name": "LayoutView",
            "align_content": null,
            "align_items": null,
            "align_self": null,
            "border": null,
            "bottom": null,
            "display": null,
            "flex": null,
            "flex_flow": null,
            "grid_area": null,
            "grid_auto_columns": null,
            "grid_auto_flow": null,
            "grid_auto_rows": null,
            "grid_column": null,
            "grid_gap": null,
            "grid_row": null,
            "grid_template_areas": null,
            "grid_template_columns": null,
            "grid_template_rows": null,
            "height": null,
            "justify_content": null,
            "justify_items": null,
            "left": null,
            "margin": null,
            "max_height": null,
            "max_width": null,
            "min_height": null,
            "min_width": null,
            "object_fit": null,
            "object_position": null,
            "order": null,
            "overflow": null,
            "overflow_x": null,
            "overflow_y": null,
            "padding": null,
            "right": null,
            "top": null,
            "visibility": null,
            "width": null
          }
        },
        "f111605da2964551a12482ad87a93e39": {
          "model_module": "@jupyter-widgets/controls",
          "model_name": "DescriptionStyleModel",
          "model_module_version": "1.5.0",
          "state": {
            "_model_module": "@jupyter-widgets/controls",
            "_model_module_version": "1.5.0",
            "_model_name": "DescriptionStyleModel",
            "_view_count": null,
            "_view_module": "@jupyter-widgets/base",
            "_view_module_version": "1.2.0",
            "_view_name": "StyleView",
            "description_width": ""
          }
        },
        "99381c51f92b4c478cfedcef99bc2d08": {
          "model_module": "@jupyter-widgets/base",
          "model_name": "LayoutModel",
          "model_module_version": "1.2.0",
          "state": {
            "_model_module": "@jupyter-widgets/base",
            "_model_module_version": "1.2.0",
            "_model_name": "LayoutModel",
            "_view_count": null,
            "_view_module": "@jupyter-widgets/base",
            "_view_module_version": "1.2.0",
            "_view_name": "LayoutView",
            "align_content": null,
            "align_items": null,
            "align_self": null,
            "border": null,
            "bottom": null,
            "display": null,
            "flex": "2",
            "flex_flow": null,
            "grid_area": null,
            "grid_auto_columns": null,
            "grid_auto_flow": null,
            "grid_auto_rows": null,
            "grid_column": null,
            "grid_gap": null,
            "grid_row": null,
            "grid_template_areas": null,
            "grid_template_columns": null,
            "grid_template_rows": null,
            "height": null,
            "justify_content": null,
            "justify_items": null,
            "left": null,
            "margin": null,
            "max_height": null,
            "max_width": null,
            "min_height": null,
            "min_width": null,
            "object_fit": null,
            "object_position": null,
            "order": null,
            "overflow": null,
            "overflow_x": null,
            "overflow_y": null,
            "padding": null,
            "right": null,
            "top": null,
            "visibility": null,
            "width": null
          }
        },
        "ba6e2a779ce44baaaa4b8ee55e2314c4": {
          "model_module": "@jupyter-widgets/controls",
          "model_name": "ProgressStyleModel",
          "model_module_version": "1.5.0",
          "state": {
            "_model_module": "@jupyter-widgets/controls",
            "_model_module_version": "1.5.0",
            "_model_name": "ProgressStyleModel",
            "_view_count": null,
            "_view_module": "@jupyter-widgets/base",
            "_view_module_version": "1.2.0",
            "_view_name": "StyleView",
            "bar_color": null,
            "description_width": ""
          }
        },
        "551dc914042d4a0a8bb75d6ecf0a57c5": {
          "model_module": "@jupyter-widgets/base",
          "model_name": "LayoutModel",
          "model_module_version": "1.2.0",
          "state": {
            "_model_module": "@jupyter-widgets/base",
            "_model_module_version": "1.2.0",
            "_model_name": "LayoutModel",
            "_view_count": null,
            "_view_module": "@jupyter-widgets/base",
            "_view_module_version": "1.2.0",
            "_view_name": "LayoutView",
            "align_content": null,
            "align_items": null,
            "align_self": null,
            "border": null,
            "bottom": null,
            "display": null,
            "flex": null,
            "flex_flow": null,
            "grid_area": null,
            "grid_auto_columns": null,
            "grid_auto_flow": null,
            "grid_auto_rows": null,
            "grid_column": null,
            "grid_gap": null,
            "grid_row": null,
            "grid_template_areas": null,
            "grid_template_columns": null,
            "grid_template_rows": null,
            "height": null,
            "justify_content": null,
            "justify_items": null,
            "left": null,
            "margin": null,
            "max_height": null,
            "max_width": null,
            "min_height": null,
            "min_width": null,
            "object_fit": null,
            "object_position": null,
            "order": null,
            "overflow": null,
            "overflow_x": null,
            "overflow_y": null,
            "padding": null,
            "right": null,
            "top": null,
            "visibility": null,
            "width": null
          }
        },
        "f86d20a84fe54ae09e059968a4b957e0": {
          "model_module": "@jupyter-widgets/controls",
          "model_name": "DescriptionStyleModel",
          "model_module_version": "1.5.0",
          "state": {
            "_model_module": "@jupyter-widgets/controls",
            "_model_module_version": "1.5.0",
            "_model_name": "DescriptionStyleModel",
            "_view_count": null,
            "_view_module": "@jupyter-widgets/base",
            "_view_module_version": "1.2.0",
            "_view_name": "StyleView",
            "description_width": ""
          }
        },
        "de93c574e1514e7cae8f9975b85704f9": {
          "model_module": "@jupyter-widgets/controls",
          "model_name": "HBoxModel",
          "model_module_version": "1.5.0",
          "state": {
            "_dom_classes": [],
            "_model_module": "@jupyter-widgets/controls",
            "_model_module_version": "1.5.0",
            "_model_name": "HBoxModel",
            "_view_count": null,
            "_view_module": "@jupyter-widgets/controls",
            "_view_module_version": "1.5.0",
            "_view_name": "HBoxView",
            "box_style": "",
            "children": [
              "IPY_MODEL_7d0d8600680240118905d53b611eacf2",
              "IPY_MODEL_6d47baeb254949c3ae631a99c79c748b",
              "IPY_MODEL_d7927dd1808c4530ad524ba012a00149"
            ],
            "layout": "IPY_MODEL_b63b7c03720d46f6b216c758c8928b35"
          }
        },
        "7d0d8600680240118905d53b611eacf2": {
          "model_module": "@jupyter-widgets/controls",
          "model_name": "HTMLModel",
          "model_module_version": "1.5.0",
          "state": {
            "_dom_classes": [],
            "_model_module": "@jupyter-widgets/controls",
            "_model_module_version": "1.5.0",
            "_model_name": "HTMLModel",
            "_view_count": null,
            "_view_module": "@jupyter-widgets/controls",
            "_view_module_version": "1.5.0",
            "_view_name": "HTMLView",
            "description": "",
            "description_tooltip": null,
            "layout": "IPY_MODEL_3481ebc600f34f36875b45423fe4158a",
            "placeholder": "​",
            "style": "IPY_MODEL_a6ea10ab1d3842f3bbf4ec2afff940ec",
            "value": "Validation DataLoader 0: 100%"
          }
        },
        "6d47baeb254949c3ae631a99c79c748b": {
          "model_module": "@jupyter-widgets/controls",
          "model_name": "FloatProgressModel",
          "model_module_version": "1.5.0",
          "state": {
            "_dom_classes": [],
            "_model_module": "@jupyter-widgets/controls",
            "_model_module_version": "1.5.0",
            "_model_name": "FloatProgressModel",
            "_view_count": null,
            "_view_module": "@jupyter-widgets/controls",
            "_view_module_version": "1.5.0",
            "_view_name": "ProgressView",
            "bar_style": "",
            "description": "",
            "description_tooltip": null,
            "layout": "IPY_MODEL_52f502d762c843b8b2482d9833ff1e1e",
            "max": 509,
            "min": 0,
            "orientation": "horizontal",
            "style": "IPY_MODEL_0bb910364c9540bdad1d79d2e2289abd",
            "value": 509
          }
        },
        "d7927dd1808c4530ad524ba012a00149": {
          "model_module": "@jupyter-widgets/controls",
          "model_name": "HTMLModel",
          "model_module_version": "1.5.0",
          "state": {
            "_dom_classes": [],
            "_model_module": "@jupyter-widgets/controls",
            "_model_module_version": "1.5.0",
            "_model_name": "HTMLModel",
            "_view_count": null,
            "_view_module": "@jupyter-widgets/controls",
            "_view_module_version": "1.5.0",
            "_view_name": "HTMLView",
            "description": "",
            "description_tooltip": null,
            "layout": "IPY_MODEL_01193d7bfce34c39a40067dbd6fc767e",
            "placeholder": "​",
            "style": "IPY_MODEL_503f889eb4634a1d9fd47decd2bdd17e",
            "value": " 509/509 [00:05&lt;00:00, 94.61it/s]"
          }
        },
        "b63b7c03720d46f6b216c758c8928b35": {
          "model_module": "@jupyter-widgets/base",
          "model_name": "LayoutModel",
          "model_module_version": "1.2.0",
          "state": {
            "_model_module": "@jupyter-widgets/base",
            "_model_module_version": "1.2.0",
            "_model_name": "LayoutModel",
            "_view_count": null,
            "_view_module": "@jupyter-widgets/base",
            "_view_module_version": "1.2.0",
            "_view_name": "LayoutView",
            "align_content": null,
            "align_items": null,
            "align_self": null,
            "border": null,
            "bottom": null,
            "display": "inline-flex",
            "flex": null,
            "flex_flow": "row wrap",
            "grid_area": null,
            "grid_auto_columns": null,
            "grid_auto_flow": null,
            "grid_auto_rows": null,
            "grid_column": null,
            "grid_gap": null,
            "grid_row": null,
            "grid_template_areas": null,
            "grid_template_columns": null,
            "grid_template_rows": null,
            "height": null,
            "justify_content": null,
            "justify_items": null,
            "left": null,
            "margin": null,
            "max_height": null,
            "max_width": null,
            "min_height": null,
            "min_width": null,
            "object_fit": null,
            "object_position": null,
            "order": null,
            "overflow": null,
            "overflow_x": null,
            "overflow_y": null,
            "padding": null,
            "right": null,
            "top": null,
            "visibility": "hidden",
            "width": "100%"
          }
        },
        "3481ebc600f34f36875b45423fe4158a": {
          "model_module": "@jupyter-widgets/base",
          "model_name": "LayoutModel",
          "model_module_version": "1.2.0",
          "state": {
            "_model_module": "@jupyter-widgets/base",
            "_model_module_version": "1.2.0",
            "_model_name": "LayoutModel",
            "_view_count": null,
            "_view_module": "@jupyter-widgets/base",
            "_view_module_version": "1.2.0",
            "_view_name": "LayoutView",
            "align_content": null,
            "align_items": null,
            "align_self": null,
            "border": null,
            "bottom": null,
            "display": null,
            "flex": null,
            "flex_flow": null,
            "grid_area": null,
            "grid_auto_columns": null,
            "grid_auto_flow": null,
            "grid_auto_rows": null,
            "grid_column": null,
            "grid_gap": null,
            "grid_row": null,
            "grid_template_areas": null,
            "grid_template_columns": null,
            "grid_template_rows": null,
            "height": null,
            "justify_content": null,
            "justify_items": null,
            "left": null,
            "margin": null,
            "max_height": null,
            "max_width": null,
            "min_height": null,
            "min_width": null,
            "object_fit": null,
            "object_position": null,
            "order": null,
            "overflow": null,
            "overflow_x": null,
            "overflow_y": null,
            "padding": null,
            "right": null,
            "top": null,
            "visibility": null,
            "width": null
          }
        },
        "a6ea10ab1d3842f3bbf4ec2afff940ec": {
          "model_module": "@jupyter-widgets/controls",
          "model_name": "DescriptionStyleModel",
          "model_module_version": "1.5.0",
          "state": {
            "_model_module": "@jupyter-widgets/controls",
            "_model_module_version": "1.5.0",
            "_model_name": "DescriptionStyleModel",
            "_view_count": null,
            "_view_module": "@jupyter-widgets/base",
            "_view_module_version": "1.2.0",
            "_view_name": "StyleView",
            "description_width": ""
          }
        },
        "52f502d762c843b8b2482d9833ff1e1e": {
          "model_module": "@jupyter-widgets/base",
          "model_name": "LayoutModel",
          "model_module_version": "1.2.0",
          "state": {
            "_model_module": "@jupyter-widgets/base",
            "_model_module_version": "1.2.0",
            "_model_name": "LayoutModel",
            "_view_count": null,
            "_view_module": "@jupyter-widgets/base",
            "_view_module_version": "1.2.0",
            "_view_name": "LayoutView",
            "align_content": null,
            "align_items": null,
            "align_self": null,
            "border": null,
            "bottom": null,
            "display": null,
            "flex": "2",
            "flex_flow": null,
            "grid_area": null,
            "grid_auto_columns": null,
            "grid_auto_flow": null,
            "grid_auto_rows": null,
            "grid_column": null,
            "grid_gap": null,
            "grid_row": null,
            "grid_template_areas": null,
            "grid_template_columns": null,
            "grid_template_rows": null,
            "height": null,
            "justify_content": null,
            "justify_items": null,
            "left": null,
            "margin": null,
            "max_height": null,
            "max_width": null,
            "min_height": null,
            "min_width": null,
            "object_fit": null,
            "object_position": null,
            "order": null,
            "overflow": null,
            "overflow_x": null,
            "overflow_y": null,
            "padding": null,
            "right": null,
            "top": null,
            "visibility": null,
            "width": null
          }
        },
        "0bb910364c9540bdad1d79d2e2289abd": {
          "model_module": "@jupyter-widgets/controls",
          "model_name": "ProgressStyleModel",
          "model_module_version": "1.5.0",
          "state": {
            "_model_module": "@jupyter-widgets/controls",
            "_model_module_version": "1.5.0",
            "_model_name": "ProgressStyleModel",
            "_view_count": null,
            "_view_module": "@jupyter-widgets/base",
            "_view_module_version": "1.2.0",
            "_view_name": "StyleView",
            "bar_color": null,
            "description_width": ""
          }
        },
        "01193d7bfce34c39a40067dbd6fc767e": {
          "model_module": "@jupyter-widgets/base",
          "model_name": "LayoutModel",
          "model_module_version": "1.2.0",
          "state": {
            "_model_module": "@jupyter-widgets/base",
            "_model_module_version": "1.2.0",
            "_model_name": "LayoutModel",
            "_view_count": null,
            "_view_module": "@jupyter-widgets/base",
            "_view_module_version": "1.2.0",
            "_view_name": "LayoutView",
            "align_content": null,
            "align_items": null,
            "align_self": null,
            "border": null,
            "bottom": null,
            "display": null,
            "flex": null,
            "flex_flow": null,
            "grid_area": null,
            "grid_auto_columns": null,
            "grid_auto_flow": null,
            "grid_auto_rows": null,
            "grid_column": null,
            "grid_gap": null,
            "grid_row": null,
            "grid_template_areas": null,
            "grid_template_columns": null,
            "grid_template_rows": null,
            "height": null,
            "justify_content": null,
            "justify_items": null,
            "left": null,
            "margin": null,
            "max_height": null,
            "max_width": null,
            "min_height": null,
            "min_width": null,
            "object_fit": null,
            "object_position": null,
            "order": null,
            "overflow": null,
            "overflow_x": null,
            "overflow_y": null,
            "padding": null,
            "right": null,
            "top": null,
            "visibility": null,
            "width": null
          }
        },
        "503f889eb4634a1d9fd47decd2bdd17e": {
          "model_module": "@jupyter-widgets/controls",
          "model_name": "DescriptionStyleModel",
          "model_module_version": "1.5.0",
          "state": {
            "_model_module": "@jupyter-widgets/controls",
            "_model_module_version": "1.5.0",
            "_model_name": "DescriptionStyleModel",
            "_view_count": null,
            "_view_module": "@jupyter-widgets/base",
            "_view_module_version": "1.2.0",
            "_view_name": "StyleView",
            "description_width": ""
          }
        },
        "08fb753af99a4cf2935d67309060d2cb": {
          "model_module": "@jupyter-widgets/controls",
          "model_name": "HBoxModel",
          "model_module_version": "1.5.0",
          "state": {
            "_dom_classes": [],
            "_model_module": "@jupyter-widgets/controls",
            "_model_module_version": "1.5.0",
            "_model_name": "HBoxModel",
            "_view_count": null,
            "_view_module": "@jupyter-widgets/controls",
            "_view_module_version": "1.5.0",
            "_view_name": "HBoxView",
            "box_style": "",
            "children": [
              "IPY_MODEL_3871c6b64f3c48bba2f42904aa8f2334",
              "IPY_MODEL_f18fb5a8ddf1487187f36def48d34b49",
              "IPY_MODEL_7d40f16d0fd448ada83fec5990f668e0"
            ],
            "layout": "IPY_MODEL_3ea2c94737c54f4b8ce847ebed2314ae"
          }
        },
        "3871c6b64f3c48bba2f42904aa8f2334": {
          "model_module": "@jupyter-widgets/controls",
          "model_name": "HTMLModel",
          "model_module_version": "1.5.0",
          "state": {
            "_dom_classes": [],
            "_model_module": "@jupyter-widgets/controls",
            "_model_module_version": "1.5.0",
            "_model_name": "HTMLModel",
            "_view_count": null,
            "_view_module": "@jupyter-widgets/controls",
            "_view_module_version": "1.5.0",
            "_view_name": "HTMLView",
            "description": "",
            "description_tooltip": null,
            "layout": "IPY_MODEL_d0fff21f83614960a40cea1cb924d576",
            "placeholder": "​",
            "style": "IPY_MODEL_68eab8f3fa7a4c42b909472c30f9a110",
            "value": "Testing DataLoader 0: 100%"
          }
        },
        "f18fb5a8ddf1487187f36def48d34b49": {
          "model_module": "@jupyter-widgets/controls",
          "model_name": "FloatProgressModel",
          "model_module_version": "1.5.0",
          "state": {
            "_dom_classes": [],
            "_model_module": "@jupyter-widgets/controls",
            "_model_module_version": "1.5.0",
            "_model_name": "FloatProgressModel",
            "_view_count": null,
            "_view_module": "@jupyter-widgets/controls",
            "_view_module_version": "1.5.0",
            "_view_name": "ProgressView",
            "bar_style": "success",
            "description": "",
            "description_tooltip": null,
            "layout": "IPY_MODEL_a09789040dfe4f4c839b77978364e275",
            "max": 422,
            "min": 0,
            "orientation": "horizontal",
            "style": "IPY_MODEL_2fe554ebadaa48bdaf925d80b1bad156",
            "value": 422
          }
        },
        "7d40f16d0fd448ada83fec5990f668e0": {
          "model_module": "@jupyter-widgets/controls",
          "model_name": "HTMLModel",
          "model_module_version": "1.5.0",
          "state": {
            "_dom_classes": [],
            "_model_module": "@jupyter-widgets/controls",
            "_model_module_version": "1.5.0",
            "_model_name": "HTMLModel",
            "_view_count": null,
            "_view_module": "@jupyter-widgets/controls",
            "_view_module_version": "1.5.0",
            "_view_name": "HTMLView",
            "description": "",
            "description_tooltip": null,
            "layout": "IPY_MODEL_f5836f76cc5f458b91f3c4e6aa8aefe9",
            "placeholder": "​",
            "style": "IPY_MODEL_8742b91518d847b092d142b1d0d41063",
            "value": " 422/422 [00:04&lt;00:00, 69.40it/s]"
          }
        },
        "3ea2c94737c54f4b8ce847ebed2314ae": {
          "model_module": "@jupyter-widgets/base",
          "model_name": "LayoutModel",
          "model_module_version": "1.2.0",
          "state": {
            "_model_module": "@jupyter-widgets/base",
            "_model_module_version": "1.2.0",
            "_model_name": "LayoutModel",
            "_view_count": null,
            "_view_module": "@jupyter-widgets/base",
            "_view_module_version": "1.2.0",
            "_view_name": "LayoutView",
            "align_content": null,
            "align_items": null,
            "align_self": null,
            "border": null,
            "bottom": null,
            "display": "inline-flex",
            "flex": null,
            "flex_flow": "row wrap",
            "grid_area": null,
            "grid_auto_columns": null,
            "grid_auto_flow": null,
            "grid_auto_rows": null,
            "grid_column": null,
            "grid_gap": null,
            "grid_row": null,
            "grid_template_areas": null,
            "grid_template_columns": null,
            "grid_template_rows": null,
            "height": null,
            "justify_content": null,
            "justify_items": null,
            "left": null,
            "margin": null,
            "max_height": null,
            "max_width": null,
            "min_height": null,
            "min_width": null,
            "object_fit": null,
            "object_position": null,
            "order": null,
            "overflow": null,
            "overflow_x": null,
            "overflow_y": null,
            "padding": null,
            "right": null,
            "top": null,
            "visibility": null,
            "width": "100%"
          }
        },
        "d0fff21f83614960a40cea1cb924d576": {
          "model_module": "@jupyter-widgets/base",
          "model_name": "LayoutModel",
          "model_module_version": "1.2.0",
          "state": {
            "_model_module": "@jupyter-widgets/base",
            "_model_module_version": "1.2.0",
            "_model_name": "LayoutModel",
            "_view_count": null,
            "_view_module": "@jupyter-widgets/base",
            "_view_module_version": "1.2.0",
            "_view_name": "LayoutView",
            "align_content": null,
            "align_items": null,
            "align_self": null,
            "border": null,
            "bottom": null,
            "display": null,
            "flex": null,
            "flex_flow": null,
            "grid_area": null,
            "grid_auto_columns": null,
            "grid_auto_flow": null,
            "grid_auto_rows": null,
            "grid_column": null,
            "grid_gap": null,
            "grid_row": null,
            "grid_template_areas": null,
            "grid_template_columns": null,
            "grid_template_rows": null,
            "height": null,
            "justify_content": null,
            "justify_items": null,
            "left": null,
            "margin": null,
            "max_height": null,
            "max_width": null,
            "min_height": null,
            "min_width": null,
            "object_fit": null,
            "object_position": null,
            "order": null,
            "overflow": null,
            "overflow_x": null,
            "overflow_y": null,
            "padding": null,
            "right": null,
            "top": null,
            "visibility": null,
            "width": null
          }
        },
        "68eab8f3fa7a4c42b909472c30f9a110": {
          "model_module": "@jupyter-widgets/controls",
          "model_name": "DescriptionStyleModel",
          "model_module_version": "1.5.0",
          "state": {
            "_model_module": "@jupyter-widgets/controls",
            "_model_module_version": "1.5.0",
            "_model_name": "DescriptionStyleModel",
            "_view_count": null,
            "_view_module": "@jupyter-widgets/base",
            "_view_module_version": "1.2.0",
            "_view_name": "StyleView",
            "description_width": ""
          }
        },
        "a09789040dfe4f4c839b77978364e275": {
          "model_module": "@jupyter-widgets/base",
          "model_name": "LayoutModel",
          "model_module_version": "1.2.0",
          "state": {
            "_model_module": "@jupyter-widgets/base",
            "_model_module_version": "1.2.0",
            "_model_name": "LayoutModel",
            "_view_count": null,
            "_view_module": "@jupyter-widgets/base",
            "_view_module_version": "1.2.0",
            "_view_name": "LayoutView",
            "align_content": null,
            "align_items": null,
            "align_self": null,
            "border": null,
            "bottom": null,
            "display": null,
            "flex": "2",
            "flex_flow": null,
            "grid_area": null,
            "grid_auto_columns": null,
            "grid_auto_flow": null,
            "grid_auto_rows": null,
            "grid_column": null,
            "grid_gap": null,
            "grid_row": null,
            "grid_template_areas": null,
            "grid_template_columns": null,
            "grid_template_rows": null,
            "height": null,
            "justify_content": null,
            "justify_items": null,
            "left": null,
            "margin": null,
            "max_height": null,
            "max_width": null,
            "min_height": null,
            "min_width": null,
            "object_fit": null,
            "object_position": null,
            "order": null,
            "overflow": null,
            "overflow_x": null,
            "overflow_y": null,
            "padding": null,
            "right": null,
            "top": null,
            "visibility": null,
            "width": null
          }
        },
        "2fe554ebadaa48bdaf925d80b1bad156": {
          "model_module": "@jupyter-widgets/controls",
          "model_name": "ProgressStyleModel",
          "model_module_version": "1.5.0",
          "state": {
            "_model_module": "@jupyter-widgets/controls",
            "_model_module_version": "1.5.0",
            "_model_name": "ProgressStyleModel",
            "_view_count": null,
            "_view_module": "@jupyter-widgets/base",
            "_view_module_version": "1.2.0",
            "_view_name": "StyleView",
            "bar_color": null,
            "description_width": ""
          }
        },
        "f5836f76cc5f458b91f3c4e6aa8aefe9": {
          "model_module": "@jupyter-widgets/base",
          "model_name": "LayoutModel",
          "model_module_version": "1.2.0",
          "state": {
            "_model_module": "@jupyter-widgets/base",
            "_model_module_version": "1.2.0",
            "_model_name": "LayoutModel",
            "_view_count": null,
            "_view_module": "@jupyter-widgets/base",
            "_view_module_version": "1.2.0",
            "_view_name": "LayoutView",
            "align_content": null,
            "align_items": null,
            "align_self": null,
            "border": null,
            "bottom": null,
            "display": null,
            "flex": null,
            "flex_flow": null,
            "grid_area": null,
            "grid_auto_columns": null,
            "grid_auto_flow": null,
            "grid_auto_rows": null,
            "grid_column": null,
            "grid_gap": null,
            "grid_row": null,
            "grid_template_areas": null,
            "grid_template_columns": null,
            "grid_template_rows": null,
            "height": null,
            "justify_content": null,
            "justify_items": null,
            "left": null,
            "margin": null,
            "max_height": null,
            "max_width": null,
            "min_height": null,
            "min_width": null,
            "object_fit": null,
            "object_position": null,
            "order": null,
            "overflow": null,
            "overflow_x": null,
            "overflow_y": null,
            "padding": null,
            "right": null,
            "top": null,
            "visibility": null,
            "width": null
          }
        },
        "8742b91518d847b092d142b1d0d41063": {
          "model_module": "@jupyter-widgets/controls",
          "model_name": "DescriptionStyleModel",
          "model_module_version": "1.5.0",
          "state": {
            "_model_module": "@jupyter-widgets/controls",
            "_model_module_version": "1.5.0",
            "_model_name": "DescriptionStyleModel",
            "_view_count": null,
            "_view_module": "@jupyter-widgets/base",
            "_view_module_version": "1.2.0",
            "_view_name": "StyleView",
            "description_width": ""
          }
        },
        "95671cafe60c4cd49059cd99b9147f29": {
          "model_module": "@jupyter-widgets/controls",
          "model_name": "HBoxModel",
          "model_module_version": "1.5.0",
          "state": {
            "_dom_classes": [],
            "_model_module": "@jupyter-widgets/controls",
            "_model_module_version": "1.5.0",
            "_model_name": "HBoxModel",
            "_view_count": null,
            "_view_module": "@jupyter-widgets/controls",
            "_view_module_version": "1.5.0",
            "_view_name": "HBoxView",
            "box_style": "",
            "children": [
              "IPY_MODEL_1635cbe8d9ae41ec9660f62dc3fbbb51",
              "IPY_MODEL_072edc387cbd4f5793c7fd4e77f7296c",
              "IPY_MODEL_0fc8297aa4044759b86fbcea97d9633c"
            ],
            "layout": "IPY_MODEL_4b66cafa0b4a4ed1a645b37650464c22"
          }
        },
        "1635cbe8d9ae41ec9660f62dc3fbbb51": {
          "model_module": "@jupyter-widgets/controls",
          "model_name": "HTMLModel",
          "model_module_version": "1.5.0",
          "state": {
            "_dom_classes": [],
            "_model_module": "@jupyter-widgets/controls",
            "_model_module_version": "1.5.0",
            "_model_name": "HTMLModel",
            "_view_count": null,
            "_view_module": "@jupyter-widgets/controls",
            "_view_module_version": "1.5.0",
            "_view_name": "HTMLView",
            "description": "",
            "description_tooltip": null,
            "layout": "IPY_MODEL_d2152eea1de8411095f9d607c234d21b",
            "placeholder": "​",
            "style": "IPY_MODEL_e0c95077decf4f778d691ca9b68e013d",
            "value": "Sanity Checking DataLoader 0: 100%"
          }
        },
        "072edc387cbd4f5793c7fd4e77f7296c": {
          "model_module": "@jupyter-widgets/controls",
          "model_name": "FloatProgressModel",
          "model_module_version": "1.5.0",
          "state": {
            "_dom_classes": [],
            "_model_module": "@jupyter-widgets/controls",
            "_model_module_version": "1.5.0",
            "_model_name": "FloatProgressModel",
            "_view_count": null,
            "_view_module": "@jupyter-widgets/controls",
            "_view_module_version": "1.5.0",
            "_view_name": "ProgressView",
            "bar_style": "",
            "description": "",
            "description_tooltip": null,
            "layout": "IPY_MODEL_c2d77d53041e48c296b3d1a11ee91d5d",
            "max": 2,
            "min": 0,
            "orientation": "horizontal",
            "style": "IPY_MODEL_d63a6d65e2f34dfc944ca10908a5c56c",
            "value": 2
          }
        },
        "0fc8297aa4044759b86fbcea97d9633c": {
          "model_module": "@jupyter-widgets/controls",
          "model_name": "HTMLModel",
          "model_module_version": "1.5.0",
          "state": {
            "_dom_classes": [],
            "_model_module": "@jupyter-widgets/controls",
            "_model_module_version": "1.5.0",
            "_model_name": "HTMLModel",
            "_view_count": null,
            "_view_module": "@jupyter-widgets/controls",
            "_view_module_version": "1.5.0",
            "_view_name": "HTMLView",
            "description": "",
            "description_tooltip": null,
            "layout": "IPY_MODEL_0d2d0f641e2c46eb8ba94c9e50a7fa9a",
            "placeholder": "​",
            "style": "IPY_MODEL_683ed20ae4e34413bac5148e431c51d0",
            "value": " 2/2 [00:00&lt;00:00, 26.24it/s]"
          }
        },
        "4b66cafa0b4a4ed1a645b37650464c22": {
          "model_module": "@jupyter-widgets/base",
          "model_name": "LayoutModel",
          "model_module_version": "1.2.0",
          "state": {
            "_model_module": "@jupyter-widgets/base",
            "_model_module_version": "1.2.0",
            "_model_name": "LayoutModel",
            "_view_count": null,
            "_view_module": "@jupyter-widgets/base",
            "_view_module_version": "1.2.0",
            "_view_name": "LayoutView",
            "align_content": null,
            "align_items": null,
            "align_self": null,
            "border": null,
            "bottom": null,
            "display": "inline-flex",
            "flex": null,
            "flex_flow": "row wrap",
            "grid_area": null,
            "grid_auto_columns": null,
            "grid_auto_flow": null,
            "grid_auto_rows": null,
            "grid_column": null,
            "grid_gap": null,
            "grid_row": null,
            "grid_template_areas": null,
            "grid_template_columns": null,
            "grid_template_rows": null,
            "height": null,
            "justify_content": null,
            "justify_items": null,
            "left": null,
            "margin": null,
            "max_height": null,
            "max_width": null,
            "min_height": null,
            "min_width": null,
            "object_fit": null,
            "object_position": null,
            "order": null,
            "overflow": null,
            "overflow_x": null,
            "overflow_y": null,
            "padding": null,
            "right": null,
            "top": null,
            "visibility": "hidden",
            "width": "100%"
          }
        },
        "d2152eea1de8411095f9d607c234d21b": {
          "model_module": "@jupyter-widgets/base",
          "model_name": "LayoutModel",
          "model_module_version": "1.2.0",
          "state": {
            "_model_module": "@jupyter-widgets/base",
            "_model_module_version": "1.2.0",
            "_model_name": "LayoutModel",
            "_view_count": null,
            "_view_module": "@jupyter-widgets/base",
            "_view_module_version": "1.2.0",
            "_view_name": "LayoutView",
            "align_content": null,
            "align_items": null,
            "align_self": null,
            "border": null,
            "bottom": null,
            "display": null,
            "flex": null,
            "flex_flow": null,
            "grid_area": null,
            "grid_auto_columns": null,
            "grid_auto_flow": null,
            "grid_auto_rows": null,
            "grid_column": null,
            "grid_gap": null,
            "grid_row": null,
            "grid_template_areas": null,
            "grid_template_columns": null,
            "grid_template_rows": null,
            "height": null,
            "justify_content": null,
            "justify_items": null,
            "left": null,
            "margin": null,
            "max_height": null,
            "max_width": null,
            "min_height": null,
            "min_width": null,
            "object_fit": null,
            "object_position": null,
            "order": null,
            "overflow": null,
            "overflow_x": null,
            "overflow_y": null,
            "padding": null,
            "right": null,
            "top": null,
            "visibility": null,
            "width": null
          }
        },
        "e0c95077decf4f778d691ca9b68e013d": {
          "model_module": "@jupyter-widgets/controls",
          "model_name": "DescriptionStyleModel",
          "model_module_version": "1.5.0",
          "state": {
            "_model_module": "@jupyter-widgets/controls",
            "_model_module_version": "1.5.0",
            "_model_name": "DescriptionStyleModel",
            "_view_count": null,
            "_view_module": "@jupyter-widgets/base",
            "_view_module_version": "1.2.0",
            "_view_name": "StyleView",
            "description_width": ""
          }
        },
        "c2d77d53041e48c296b3d1a11ee91d5d": {
          "model_module": "@jupyter-widgets/base",
          "model_name": "LayoutModel",
          "model_module_version": "1.2.0",
          "state": {
            "_model_module": "@jupyter-widgets/base",
            "_model_module_version": "1.2.0",
            "_model_name": "LayoutModel",
            "_view_count": null,
            "_view_module": "@jupyter-widgets/base",
            "_view_module_version": "1.2.0",
            "_view_name": "LayoutView",
            "align_content": null,
            "align_items": null,
            "align_self": null,
            "border": null,
            "bottom": null,
            "display": null,
            "flex": "2",
            "flex_flow": null,
            "grid_area": null,
            "grid_auto_columns": null,
            "grid_auto_flow": null,
            "grid_auto_rows": null,
            "grid_column": null,
            "grid_gap": null,
            "grid_row": null,
            "grid_template_areas": null,
            "grid_template_columns": null,
            "grid_template_rows": null,
            "height": null,
            "justify_content": null,
            "justify_items": null,
            "left": null,
            "margin": null,
            "max_height": null,
            "max_width": null,
            "min_height": null,
            "min_width": null,
            "object_fit": null,
            "object_position": null,
            "order": null,
            "overflow": null,
            "overflow_x": null,
            "overflow_y": null,
            "padding": null,
            "right": null,
            "top": null,
            "visibility": null,
            "width": null
          }
        },
        "d63a6d65e2f34dfc944ca10908a5c56c": {
          "model_module": "@jupyter-widgets/controls",
          "model_name": "ProgressStyleModel",
          "model_module_version": "1.5.0",
          "state": {
            "_model_module": "@jupyter-widgets/controls",
            "_model_module_version": "1.5.0",
            "_model_name": "ProgressStyleModel",
            "_view_count": null,
            "_view_module": "@jupyter-widgets/base",
            "_view_module_version": "1.2.0",
            "_view_name": "StyleView",
            "bar_color": null,
            "description_width": ""
          }
        },
        "0d2d0f641e2c46eb8ba94c9e50a7fa9a": {
          "model_module": "@jupyter-widgets/base",
          "model_name": "LayoutModel",
          "model_module_version": "1.2.0",
          "state": {
            "_model_module": "@jupyter-widgets/base",
            "_model_module_version": "1.2.0",
            "_model_name": "LayoutModel",
            "_view_count": null,
            "_view_module": "@jupyter-widgets/base",
            "_view_module_version": "1.2.0",
            "_view_name": "LayoutView",
            "align_content": null,
            "align_items": null,
            "align_self": null,
            "border": null,
            "bottom": null,
            "display": null,
            "flex": null,
            "flex_flow": null,
            "grid_area": null,
            "grid_auto_columns": null,
            "grid_auto_flow": null,
            "grid_auto_rows": null,
            "grid_column": null,
            "grid_gap": null,
            "grid_row": null,
            "grid_template_areas": null,
            "grid_template_columns": null,
            "grid_template_rows": null,
            "height": null,
            "justify_content": null,
            "justify_items": null,
            "left": null,
            "margin": null,
            "max_height": null,
            "max_width": null,
            "min_height": null,
            "min_width": null,
            "object_fit": null,
            "object_position": null,
            "order": null,
            "overflow": null,
            "overflow_x": null,
            "overflow_y": null,
            "padding": null,
            "right": null,
            "top": null,
            "visibility": null,
            "width": null
          }
        },
        "683ed20ae4e34413bac5148e431c51d0": {
          "model_module": "@jupyter-widgets/controls",
          "model_name": "DescriptionStyleModel",
          "model_module_version": "1.5.0",
          "state": {
            "_model_module": "@jupyter-widgets/controls",
            "_model_module_version": "1.5.0",
            "_model_name": "DescriptionStyleModel",
            "_view_count": null,
            "_view_module": "@jupyter-widgets/base",
            "_view_module_version": "1.2.0",
            "_view_name": "StyleView",
            "description_width": ""
          }
        },
        "e81ad4ebfb7d49ce820092dd74a950e5": {
          "model_module": "@jupyter-widgets/controls",
          "model_name": "HBoxModel",
          "model_module_version": "1.5.0",
          "state": {
            "_dom_classes": [],
            "_model_module": "@jupyter-widgets/controls",
            "_model_module_version": "1.5.0",
            "_model_name": "HBoxModel",
            "_view_count": null,
            "_view_module": "@jupyter-widgets/controls",
            "_view_module_version": "1.5.0",
            "_view_name": "HBoxView",
            "box_style": "",
            "children": [
              "IPY_MODEL_0c393677c7094cd0819abc21a6b74652",
              "IPY_MODEL_62e245f986d74d73968f4faf852df76d",
              "IPY_MODEL_bc64a022ce1f4eedb7d27bf85574d2cf"
            ],
            "layout": "IPY_MODEL_af38ba9b81994944ba92050ab4e8c1bf"
          }
        },
        "0c393677c7094cd0819abc21a6b74652": {
          "model_module": "@jupyter-widgets/controls",
          "model_name": "HTMLModel",
          "model_module_version": "1.5.0",
          "state": {
            "_dom_classes": [],
            "_model_module": "@jupyter-widgets/controls",
            "_model_module_version": "1.5.0",
            "_model_name": "HTMLModel",
            "_view_count": null,
            "_view_module": "@jupyter-widgets/controls",
            "_view_module_version": "1.5.0",
            "_view_name": "HTMLView",
            "description": "",
            "description_tooltip": null,
            "layout": "IPY_MODEL_c68201ed4a724be2965ec9181550be92",
            "placeholder": "​",
            "style": "IPY_MODEL_d422156e569f45e8abdbb3b8c4d4a7bf",
            "value": "Epoch 0: 100%"
          }
        },
        "62e245f986d74d73968f4faf852df76d": {
          "model_module": "@jupyter-widgets/controls",
          "model_name": "FloatProgressModel",
          "model_module_version": "1.5.0",
          "state": {
            "_dom_classes": [],
            "_model_module": "@jupyter-widgets/controls",
            "_model_module_version": "1.5.0",
            "_model_name": "FloatProgressModel",
            "_view_count": null,
            "_view_module": "@jupyter-widgets/controls",
            "_view_module_version": "1.5.0",
            "_view_name": "ProgressView",
            "bar_style": "success",
            "description": "",
            "description_tooltip": null,
            "layout": "IPY_MODEL_749361fe789048ecb27f4db1de562245",
            "max": 5083,
            "min": 0,
            "orientation": "horizontal",
            "style": "IPY_MODEL_adaee11527c442c4bea9e7f862a9798f",
            "value": 5083
          }
        },
        "bc64a022ce1f4eedb7d27bf85574d2cf": {
          "model_module": "@jupyter-widgets/controls",
          "model_name": "HTMLModel",
          "model_module_version": "1.5.0",
          "state": {
            "_dom_classes": [],
            "_model_module": "@jupyter-widgets/controls",
            "_model_module_version": "1.5.0",
            "_model_name": "HTMLModel",
            "_view_count": null,
            "_view_module": "@jupyter-widgets/controls",
            "_view_module_version": "1.5.0",
            "_view_name": "HTMLView",
            "description": "",
            "description_tooltip": null,
            "layout": "IPY_MODEL_1efc46be21d8444083fc4cf653453a99",
            "placeholder": "​",
            "style": "IPY_MODEL_02352010df194e37a025aa2bba302fbf",
            "value": " 5083/5083 [01:00&lt;00:00, 84.50it/s, loss=0.571, v_num=1, validation/loss=0.543, validation/acc=0.793]"
          }
        },
        "af38ba9b81994944ba92050ab4e8c1bf": {
          "model_module": "@jupyter-widgets/base",
          "model_name": "LayoutModel",
          "model_module_version": "1.2.0",
          "state": {
            "_model_module": "@jupyter-widgets/base",
            "_model_module_version": "1.2.0",
            "_model_name": "LayoutModel",
            "_view_count": null,
            "_view_module": "@jupyter-widgets/base",
            "_view_module_version": "1.2.0",
            "_view_name": "LayoutView",
            "align_content": null,
            "align_items": null,
            "align_self": null,
            "border": null,
            "bottom": null,
            "display": "inline-flex",
            "flex": null,
            "flex_flow": "row wrap",
            "grid_area": null,
            "grid_auto_columns": null,
            "grid_auto_flow": null,
            "grid_auto_rows": null,
            "grid_column": null,
            "grid_gap": null,
            "grid_row": null,
            "grid_template_areas": null,
            "grid_template_columns": null,
            "grid_template_rows": null,
            "height": null,
            "justify_content": null,
            "justify_items": null,
            "left": null,
            "margin": null,
            "max_height": null,
            "max_width": null,
            "min_height": null,
            "min_width": null,
            "object_fit": null,
            "object_position": null,
            "order": null,
            "overflow": null,
            "overflow_x": null,
            "overflow_y": null,
            "padding": null,
            "right": null,
            "top": null,
            "visibility": null,
            "width": "100%"
          }
        },
        "c68201ed4a724be2965ec9181550be92": {
          "model_module": "@jupyter-widgets/base",
          "model_name": "LayoutModel",
          "model_module_version": "1.2.0",
          "state": {
            "_model_module": "@jupyter-widgets/base",
            "_model_module_version": "1.2.0",
            "_model_name": "LayoutModel",
            "_view_count": null,
            "_view_module": "@jupyter-widgets/base",
            "_view_module_version": "1.2.0",
            "_view_name": "LayoutView",
            "align_content": null,
            "align_items": null,
            "align_self": null,
            "border": null,
            "bottom": null,
            "display": null,
            "flex": null,
            "flex_flow": null,
            "grid_area": null,
            "grid_auto_columns": null,
            "grid_auto_flow": null,
            "grid_auto_rows": null,
            "grid_column": null,
            "grid_gap": null,
            "grid_row": null,
            "grid_template_areas": null,
            "grid_template_columns": null,
            "grid_template_rows": null,
            "height": null,
            "justify_content": null,
            "justify_items": null,
            "left": null,
            "margin": null,
            "max_height": null,
            "max_width": null,
            "min_height": null,
            "min_width": null,
            "object_fit": null,
            "object_position": null,
            "order": null,
            "overflow": null,
            "overflow_x": null,
            "overflow_y": null,
            "padding": null,
            "right": null,
            "top": null,
            "visibility": null,
            "width": null
          }
        },
        "d422156e569f45e8abdbb3b8c4d4a7bf": {
          "model_module": "@jupyter-widgets/controls",
          "model_name": "DescriptionStyleModel",
          "model_module_version": "1.5.0",
          "state": {
            "_model_module": "@jupyter-widgets/controls",
            "_model_module_version": "1.5.0",
            "_model_name": "DescriptionStyleModel",
            "_view_count": null,
            "_view_module": "@jupyter-widgets/base",
            "_view_module_version": "1.2.0",
            "_view_name": "StyleView",
            "description_width": ""
          }
        },
        "749361fe789048ecb27f4db1de562245": {
          "model_module": "@jupyter-widgets/base",
          "model_name": "LayoutModel",
          "model_module_version": "1.2.0",
          "state": {
            "_model_module": "@jupyter-widgets/base",
            "_model_module_version": "1.2.0",
            "_model_name": "LayoutModel",
            "_view_count": null,
            "_view_module": "@jupyter-widgets/base",
            "_view_module_version": "1.2.0",
            "_view_name": "LayoutView",
            "align_content": null,
            "align_items": null,
            "align_self": null,
            "border": null,
            "bottom": null,
            "display": null,
            "flex": "2",
            "flex_flow": null,
            "grid_area": null,
            "grid_auto_columns": null,
            "grid_auto_flow": null,
            "grid_auto_rows": null,
            "grid_column": null,
            "grid_gap": null,
            "grid_row": null,
            "grid_template_areas": null,
            "grid_template_columns": null,
            "grid_template_rows": null,
            "height": null,
            "justify_content": null,
            "justify_items": null,
            "left": null,
            "margin": null,
            "max_height": null,
            "max_width": null,
            "min_height": null,
            "min_width": null,
            "object_fit": null,
            "object_position": null,
            "order": null,
            "overflow": null,
            "overflow_x": null,
            "overflow_y": null,
            "padding": null,
            "right": null,
            "top": null,
            "visibility": null,
            "width": null
          }
        },
        "adaee11527c442c4bea9e7f862a9798f": {
          "model_module": "@jupyter-widgets/controls",
          "model_name": "ProgressStyleModel",
          "model_module_version": "1.5.0",
          "state": {
            "_model_module": "@jupyter-widgets/controls",
            "_model_module_version": "1.5.0",
            "_model_name": "ProgressStyleModel",
            "_view_count": null,
            "_view_module": "@jupyter-widgets/base",
            "_view_module_version": "1.2.0",
            "_view_name": "StyleView",
            "bar_color": null,
            "description_width": ""
          }
        },
        "1efc46be21d8444083fc4cf653453a99": {
          "model_module": "@jupyter-widgets/base",
          "model_name": "LayoutModel",
          "model_module_version": "1.2.0",
          "state": {
            "_model_module": "@jupyter-widgets/base",
            "_model_module_version": "1.2.0",
            "_model_name": "LayoutModel",
            "_view_count": null,
            "_view_module": "@jupyter-widgets/base",
            "_view_module_version": "1.2.0",
            "_view_name": "LayoutView",
            "align_content": null,
            "align_items": null,
            "align_self": null,
            "border": null,
            "bottom": null,
            "display": null,
            "flex": null,
            "flex_flow": null,
            "grid_area": null,
            "grid_auto_columns": null,
            "grid_auto_flow": null,
            "grid_auto_rows": null,
            "grid_column": null,
            "grid_gap": null,
            "grid_row": null,
            "grid_template_areas": null,
            "grid_template_columns": null,
            "grid_template_rows": null,
            "height": null,
            "justify_content": null,
            "justify_items": null,
            "left": null,
            "margin": null,
            "max_height": null,
            "max_width": null,
            "min_height": null,
            "min_width": null,
            "object_fit": null,
            "object_position": null,
            "order": null,
            "overflow": null,
            "overflow_x": null,
            "overflow_y": null,
            "padding": null,
            "right": null,
            "top": null,
            "visibility": null,
            "width": null
          }
        },
        "02352010df194e37a025aa2bba302fbf": {
          "model_module": "@jupyter-widgets/controls",
          "model_name": "DescriptionStyleModel",
          "model_module_version": "1.5.0",
          "state": {
            "_model_module": "@jupyter-widgets/controls",
            "_model_module_version": "1.5.0",
            "_model_name": "DescriptionStyleModel",
            "_view_count": null,
            "_view_module": "@jupyter-widgets/base",
            "_view_module_version": "1.2.0",
            "_view_name": "StyleView",
            "description_width": ""
          }
        },
        "c176358b646d4714a48a382e81a9676d": {
          "model_module": "@jupyter-widgets/controls",
          "model_name": "HBoxModel",
          "model_module_version": "1.5.0",
          "state": {
            "_dom_classes": [],
            "_model_module": "@jupyter-widgets/controls",
            "_model_module_version": "1.5.0",
            "_model_name": "HBoxModel",
            "_view_count": null,
            "_view_module": "@jupyter-widgets/controls",
            "_view_module_version": "1.5.0",
            "_view_name": "HBoxView",
            "box_style": "",
            "children": [
              "IPY_MODEL_63d75a91d18946888dd42d3e48775811",
              "IPY_MODEL_9b89225423f04a53aa695c22cdb505c9",
              "IPY_MODEL_a3769ebd5b3d4412981915d2e19e4cef"
            ],
            "layout": "IPY_MODEL_88df1dee804740e5bec4627795c06a55"
          }
        },
        "63d75a91d18946888dd42d3e48775811": {
          "model_module": "@jupyter-widgets/controls",
          "model_name": "HTMLModel",
          "model_module_version": "1.5.0",
          "state": {
            "_dom_classes": [],
            "_model_module": "@jupyter-widgets/controls",
            "_model_module_version": "1.5.0",
            "_model_name": "HTMLModel",
            "_view_count": null,
            "_view_module": "@jupyter-widgets/controls",
            "_view_module_version": "1.5.0",
            "_view_name": "HTMLView",
            "description": "",
            "description_tooltip": null,
            "layout": "IPY_MODEL_a35d82b0e24b43d68e56ad089499a9fd",
            "placeholder": "​",
            "style": "IPY_MODEL_1139d7a8b3a94e5fb716dbc85703df07",
            "value": "Validation DataLoader 0: 100%"
          }
        },
        "9b89225423f04a53aa695c22cdb505c9": {
          "model_module": "@jupyter-widgets/controls",
          "model_name": "FloatProgressModel",
          "model_module_version": "1.5.0",
          "state": {
            "_dom_classes": [],
            "_model_module": "@jupyter-widgets/controls",
            "_model_module_version": "1.5.0",
            "_model_name": "FloatProgressModel",
            "_view_count": null,
            "_view_module": "@jupyter-widgets/controls",
            "_view_module_version": "1.5.0",
            "_view_name": "ProgressView",
            "bar_style": "",
            "description": "",
            "description_tooltip": null,
            "layout": "IPY_MODEL_fc1df21577d04e74b0651e8511431729",
            "max": 1017,
            "min": 0,
            "orientation": "horizontal",
            "style": "IPY_MODEL_a83a844be8244cfcb42a741e89292767",
            "value": 1017
          }
        },
        "a3769ebd5b3d4412981915d2e19e4cef": {
          "model_module": "@jupyter-widgets/controls",
          "model_name": "HTMLModel",
          "model_module_version": "1.5.0",
          "state": {
            "_dom_classes": [],
            "_model_module": "@jupyter-widgets/controls",
            "_model_module_version": "1.5.0",
            "_model_name": "HTMLModel",
            "_view_count": null,
            "_view_module": "@jupyter-widgets/controls",
            "_view_module_version": "1.5.0",
            "_view_name": "HTMLView",
            "description": "",
            "description_tooltip": null,
            "layout": "IPY_MODEL_bb56acc8799b4aa098d1ceab39cead7a",
            "placeholder": "​",
            "style": "IPY_MODEL_a3ffe0fd0cb848458d958b28eae36008",
            "value": " 1017/1017 [00:09&lt;00:00, 88.42it/s]"
          }
        },
        "88df1dee804740e5bec4627795c06a55": {
          "model_module": "@jupyter-widgets/base",
          "model_name": "LayoutModel",
          "model_module_version": "1.2.0",
          "state": {
            "_model_module": "@jupyter-widgets/base",
            "_model_module_version": "1.2.0",
            "_model_name": "LayoutModel",
            "_view_count": null,
            "_view_module": "@jupyter-widgets/base",
            "_view_module_version": "1.2.0",
            "_view_name": "LayoutView",
            "align_content": null,
            "align_items": null,
            "align_self": null,
            "border": null,
            "bottom": null,
            "display": "inline-flex",
            "flex": null,
            "flex_flow": "row wrap",
            "grid_area": null,
            "grid_auto_columns": null,
            "grid_auto_flow": null,
            "grid_auto_rows": null,
            "grid_column": null,
            "grid_gap": null,
            "grid_row": null,
            "grid_template_areas": null,
            "grid_template_columns": null,
            "grid_template_rows": null,
            "height": null,
            "justify_content": null,
            "justify_items": null,
            "left": null,
            "margin": null,
            "max_height": null,
            "max_width": null,
            "min_height": null,
            "min_width": null,
            "object_fit": null,
            "object_position": null,
            "order": null,
            "overflow": null,
            "overflow_x": null,
            "overflow_y": null,
            "padding": null,
            "right": null,
            "top": null,
            "visibility": "hidden",
            "width": "100%"
          }
        },
        "a35d82b0e24b43d68e56ad089499a9fd": {
          "model_module": "@jupyter-widgets/base",
          "model_name": "LayoutModel",
          "model_module_version": "1.2.0",
          "state": {
            "_model_module": "@jupyter-widgets/base",
            "_model_module_version": "1.2.0",
            "_model_name": "LayoutModel",
            "_view_count": null,
            "_view_module": "@jupyter-widgets/base",
            "_view_module_version": "1.2.0",
            "_view_name": "LayoutView",
            "align_content": null,
            "align_items": null,
            "align_self": null,
            "border": null,
            "bottom": null,
            "display": null,
            "flex": null,
            "flex_flow": null,
            "grid_area": null,
            "grid_auto_columns": null,
            "grid_auto_flow": null,
            "grid_auto_rows": null,
            "grid_column": null,
            "grid_gap": null,
            "grid_row": null,
            "grid_template_areas": null,
            "grid_template_columns": null,
            "grid_template_rows": null,
            "height": null,
            "justify_content": null,
            "justify_items": null,
            "left": null,
            "margin": null,
            "max_height": null,
            "max_width": null,
            "min_height": null,
            "min_width": null,
            "object_fit": null,
            "object_position": null,
            "order": null,
            "overflow": null,
            "overflow_x": null,
            "overflow_y": null,
            "padding": null,
            "right": null,
            "top": null,
            "visibility": null,
            "width": null
          }
        },
        "1139d7a8b3a94e5fb716dbc85703df07": {
          "model_module": "@jupyter-widgets/controls",
          "model_name": "DescriptionStyleModel",
          "model_module_version": "1.5.0",
          "state": {
            "_model_module": "@jupyter-widgets/controls",
            "_model_module_version": "1.5.0",
            "_model_name": "DescriptionStyleModel",
            "_view_count": null,
            "_view_module": "@jupyter-widgets/base",
            "_view_module_version": "1.2.0",
            "_view_name": "StyleView",
            "description_width": ""
          }
        },
        "fc1df21577d04e74b0651e8511431729": {
          "model_module": "@jupyter-widgets/base",
          "model_name": "LayoutModel",
          "model_module_version": "1.2.0",
          "state": {
            "_model_module": "@jupyter-widgets/base",
            "_model_module_version": "1.2.0",
            "_model_name": "LayoutModel",
            "_view_count": null,
            "_view_module": "@jupyter-widgets/base",
            "_view_module_version": "1.2.0",
            "_view_name": "LayoutView",
            "align_content": null,
            "align_items": null,
            "align_self": null,
            "border": null,
            "bottom": null,
            "display": null,
            "flex": "2",
            "flex_flow": null,
            "grid_area": null,
            "grid_auto_columns": null,
            "grid_auto_flow": null,
            "grid_auto_rows": null,
            "grid_column": null,
            "grid_gap": null,
            "grid_row": null,
            "grid_template_areas": null,
            "grid_template_columns": null,
            "grid_template_rows": null,
            "height": null,
            "justify_content": null,
            "justify_items": null,
            "left": null,
            "margin": null,
            "max_height": null,
            "max_width": null,
            "min_height": null,
            "min_width": null,
            "object_fit": null,
            "object_position": null,
            "order": null,
            "overflow": null,
            "overflow_x": null,
            "overflow_y": null,
            "padding": null,
            "right": null,
            "top": null,
            "visibility": null,
            "width": null
          }
        },
        "a83a844be8244cfcb42a741e89292767": {
          "model_module": "@jupyter-widgets/controls",
          "model_name": "ProgressStyleModel",
          "model_module_version": "1.5.0",
          "state": {
            "_model_module": "@jupyter-widgets/controls",
            "_model_module_version": "1.5.0",
            "_model_name": "ProgressStyleModel",
            "_view_count": null,
            "_view_module": "@jupyter-widgets/base",
            "_view_module_version": "1.2.0",
            "_view_name": "StyleView",
            "bar_color": null,
            "description_width": ""
          }
        },
        "bb56acc8799b4aa098d1ceab39cead7a": {
          "model_module": "@jupyter-widgets/base",
          "model_name": "LayoutModel",
          "model_module_version": "1.2.0",
          "state": {
            "_model_module": "@jupyter-widgets/base",
            "_model_module_version": "1.2.0",
            "_model_name": "LayoutModel",
            "_view_count": null,
            "_view_module": "@jupyter-widgets/base",
            "_view_module_version": "1.2.0",
            "_view_name": "LayoutView",
            "align_content": null,
            "align_items": null,
            "align_self": null,
            "border": null,
            "bottom": null,
            "display": null,
            "flex": null,
            "flex_flow": null,
            "grid_area": null,
            "grid_auto_columns": null,
            "grid_auto_flow": null,
            "grid_auto_rows": null,
            "grid_column": null,
            "grid_gap": null,
            "grid_row": null,
            "grid_template_areas": null,
            "grid_template_columns": null,
            "grid_template_rows": null,
            "height": null,
            "justify_content": null,
            "justify_items": null,
            "left": null,
            "margin": null,
            "max_height": null,
            "max_width": null,
            "min_height": null,
            "min_width": null,
            "object_fit": null,
            "object_position": null,
            "order": null,
            "overflow": null,
            "overflow_x": null,
            "overflow_y": null,
            "padding": null,
            "right": null,
            "top": null,
            "visibility": null,
            "width": null
          }
        },
        "a3ffe0fd0cb848458d958b28eae36008": {
          "model_module": "@jupyter-widgets/controls",
          "model_name": "DescriptionStyleModel",
          "model_module_version": "1.5.0",
          "state": {
            "_model_module": "@jupyter-widgets/controls",
            "_model_module_version": "1.5.0",
            "_model_name": "DescriptionStyleModel",
            "_view_count": null,
            "_view_module": "@jupyter-widgets/base",
            "_view_module_version": "1.2.0",
            "_view_name": "StyleView",
            "description_width": ""
          }
        },
        "a8c8de64d3c44db886403ce6b04cc8bb": {
          "model_module": "@jupyter-widgets/controls",
          "model_name": "HBoxModel",
          "model_module_version": "1.5.0",
          "state": {
            "_dom_classes": [],
            "_model_module": "@jupyter-widgets/controls",
            "_model_module_version": "1.5.0",
            "_model_name": "HBoxModel",
            "_view_count": null,
            "_view_module": "@jupyter-widgets/controls",
            "_view_module_version": "1.5.0",
            "_view_name": "HBoxView",
            "box_style": "",
            "children": [
              "IPY_MODEL_d367b5bac7df4f89a4b0b9d3e7969cc3",
              "IPY_MODEL_9fa509cd77dc44a68636d3a1ab514dd4",
              "IPY_MODEL_914fda701ca7443795c6f35a1fe7ba84"
            ],
            "layout": "IPY_MODEL_ddf13ee4729e43e682ccaa57fca4dc3d"
          }
        },
        "d367b5bac7df4f89a4b0b9d3e7969cc3": {
          "model_module": "@jupyter-widgets/controls",
          "model_name": "HTMLModel",
          "model_module_version": "1.5.0",
          "state": {
            "_dom_classes": [],
            "_model_module": "@jupyter-widgets/controls",
            "_model_module_version": "1.5.0",
            "_model_name": "HTMLModel",
            "_view_count": null,
            "_view_module": "@jupyter-widgets/controls",
            "_view_module_version": "1.5.0",
            "_view_name": "HTMLView",
            "description": "",
            "description_tooltip": null,
            "layout": "IPY_MODEL_f7cdcf2a13a0423abc1378d5b4465ba0",
            "placeholder": "​",
            "style": "IPY_MODEL_f15a6aca26fc4bc3bf558030820d949b",
            "value": "Testing DataLoader 0: 100%"
          }
        },
        "9fa509cd77dc44a68636d3a1ab514dd4": {
          "model_module": "@jupyter-widgets/controls",
          "model_name": "FloatProgressModel",
          "model_module_version": "1.5.0",
          "state": {
            "_dom_classes": [],
            "_model_module": "@jupyter-widgets/controls",
            "_model_module_version": "1.5.0",
            "_model_name": "FloatProgressModel",
            "_view_count": null,
            "_view_module": "@jupyter-widgets/controls",
            "_view_module_version": "1.5.0",
            "_view_name": "ProgressView",
            "bar_style": "success",
            "description": "",
            "description_tooltip": null,
            "layout": "IPY_MODEL_c10a632310b84c1998d4ee22a0b241f2",
            "max": 844,
            "min": 0,
            "orientation": "horizontal",
            "style": "IPY_MODEL_666a93f17ed445c1b7423e555990ba3f",
            "value": 844
          }
        },
        "914fda701ca7443795c6f35a1fe7ba84": {
          "model_module": "@jupyter-widgets/controls",
          "model_name": "HTMLModel",
          "model_module_version": "1.5.0",
          "state": {
            "_dom_classes": [],
            "_model_module": "@jupyter-widgets/controls",
            "_model_module_version": "1.5.0",
            "_model_name": "HTMLModel",
            "_view_count": null,
            "_view_module": "@jupyter-widgets/controls",
            "_view_module_version": "1.5.0",
            "_view_name": "HTMLView",
            "description": "",
            "description_tooltip": null,
            "layout": "IPY_MODEL_b25d57f9ce96416fafa3da9db433e3c6",
            "placeholder": "​",
            "style": "IPY_MODEL_74f84391cacb451ea4eee79fd25cf449",
            "value": " 844/844 [00:07&lt;00:00, 123.08it/s]"
          }
        },
        "ddf13ee4729e43e682ccaa57fca4dc3d": {
          "model_module": "@jupyter-widgets/base",
          "model_name": "LayoutModel",
          "model_module_version": "1.2.0",
          "state": {
            "_model_module": "@jupyter-widgets/base",
            "_model_module_version": "1.2.0",
            "_model_name": "LayoutModel",
            "_view_count": null,
            "_view_module": "@jupyter-widgets/base",
            "_view_module_version": "1.2.0",
            "_view_name": "LayoutView",
            "align_content": null,
            "align_items": null,
            "align_self": null,
            "border": null,
            "bottom": null,
            "display": "inline-flex",
            "flex": null,
            "flex_flow": "row wrap",
            "grid_area": null,
            "grid_auto_columns": null,
            "grid_auto_flow": null,
            "grid_auto_rows": null,
            "grid_column": null,
            "grid_gap": null,
            "grid_row": null,
            "grid_template_areas": null,
            "grid_template_columns": null,
            "grid_template_rows": null,
            "height": null,
            "justify_content": null,
            "justify_items": null,
            "left": null,
            "margin": null,
            "max_height": null,
            "max_width": null,
            "min_height": null,
            "min_width": null,
            "object_fit": null,
            "object_position": null,
            "order": null,
            "overflow": null,
            "overflow_x": null,
            "overflow_y": null,
            "padding": null,
            "right": null,
            "top": null,
            "visibility": null,
            "width": "100%"
          }
        },
        "f7cdcf2a13a0423abc1378d5b4465ba0": {
          "model_module": "@jupyter-widgets/base",
          "model_name": "LayoutModel",
          "model_module_version": "1.2.0",
          "state": {
            "_model_module": "@jupyter-widgets/base",
            "_model_module_version": "1.2.0",
            "_model_name": "LayoutModel",
            "_view_count": null,
            "_view_module": "@jupyter-widgets/base",
            "_view_module_version": "1.2.0",
            "_view_name": "LayoutView",
            "align_content": null,
            "align_items": null,
            "align_self": null,
            "border": null,
            "bottom": null,
            "display": null,
            "flex": null,
            "flex_flow": null,
            "grid_area": null,
            "grid_auto_columns": null,
            "grid_auto_flow": null,
            "grid_auto_rows": null,
            "grid_column": null,
            "grid_gap": null,
            "grid_row": null,
            "grid_template_areas": null,
            "grid_template_columns": null,
            "grid_template_rows": null,
            "height": null,
            "justify_content": null,
            "justify_items": null,
            "left": null,
            "margin": null,
            "max_height": null,
            "max_width": null,
            "min_height": null,
            "min_width": null,
            "object_fit": null,
            "object_position": null,
            "order": null,
            "overflow": null,
            "overflow_x": null,
            "overflow_y": null,
            "padding": null,
            "right": null,
            "top": null,
            "visibility": null,
            "width": null
          }
        },
        "f15a6aca26fc4bc3bf558030820d949b": {
          "model_module": "@jupyter-widgets/controls",
          "model_name": "DescriptionStyleModel",
          "model_module_version": "1.5.0",
          "state": {
            "_model_module": "@jupyter-widgets/controls",
            "_model_module_version": "1.5.0",
            "_model_name": "DescriptionStyleModel",
            "_view_count": null,
            "_view_module": "@jupyter-widgets/base",
            "_view_module_version": "1.2.0",
            "_view_name": "StyleView",
            "description_width": ""
          }
        },
        "c10a632310b84c1998d4ee22a0b241f2": {
          "model_module": "@jupyter-widgets/base",
          "model_name": "LayoutModel",
          "model_module_version": "1.2.0",
          "state": {
            "_model_module": "@jupyter-widgets/base",
            "_model_module_version": "1.2.0",
            "_model_name": "LayoutModel",
            "_view_count": null,
            "_view_module": "@jupyter-widgets/base",
            "_view_module_version": "1.2.0",
            "_view_name": "LayoutView",
            "align_content": null,
            "align_items": null,
            "align_self": null,
            "border": null,
            "bottom": null,
            "display": null,
            "flex": "2",
            "flex_flow": null,
            "grid_area": null,
            "grid_auto_columns": null,
            "grid_auto_flow": null,
            "grid_auto_rows": null,
            "grid_column": null,
            "grid_gap": null,
            "grid_row": null,
            "grid_template_areas": null,
            "grid_template_columns": null,
            "grid_template_rows": null,
            "height": null,
            "justify_content": null,
            "justify_items": null,
            "left": null,
            "margin": null,
            "max_height": null,
            "max_width": null,
            "min_height": null,
            "min_width": null,
            "object_fit": null,
            "object_position": null,
            "order": null,
            "overflow": null,
            "overflow_x": null,
            "overflow_y": null,
            "padding": null,
            "right": null,
            "top": null,
            "visibility": null,
            "width": null
          }
        },
        "666a93f17ed445c1b7423e555990ba3f": {
          "model_module": "@jupyter-widgets/controls",
          "model_name": "ProgressStyleModel",
          "model_module_version": "1.5.0",
          "state": {
            "_model_module": "@jupyter-widgets/controls",
            "_model_module_version": "1.5.0",
            "_model_name": "ProgressStyleModel",
            "_view_count": null,
            "_view_module": "@jupyter-widgets/base",
            "_view_module_version": "1.2.0",
            "_view_name": "StyleView",
            "bar_color": null,
            "description_width": ""
          }
        },
        "b25d57f9ce96416fafa3da9db433e3c6": {
          "model_module": "@jupyter-widgets/base",
          "model_name": "LayoutModel",
          "model_module_version": "1.2.0",
          "state": {
            "_model_module": "@jupyter-widgets/base",
            "_model_module_version": "1.2.0",
            "_model_name": "LayoutModel",
            "_view_count": null,
            "_view_module": "@jupyter-widgets/base",
            "_view_module_version": "1.2.0",
            "_view_name": "LayoutView",
            "align_content": null,
            "align_items": null,
            "align_self": null,
            "border": null,
            "bottom": null,
            "display": null,
            "flex": null,
            "flex_flow": null,
            "grid_area": null,
            "grid_auto_columns": null,
            "grid_auto_flow": null,
            "grid_auto_rows": null,
            "grid_column": null,
            "grid_gap": null,
            "grid_row": null,
            "grid_template_areas": null,
            "grid_template_columns": null,
            "grid_template_rows": null,
            "height": null,
            "justify_content": null,
            "justify_items": null,
            "left": null,
            "margin": null,
            "max_height": null,
            "max_width": null,
            "min_height": null,
            "min_width": null,
            "object_fit": null,
            "object_position": null,
            "order": null,
            "overflow": null,
            "overflow_x": null,
            "overflow_y": null,
            "padding": null,
            "right": null,
            "top": null,
            "visibility": null,
            "width": null
          }
        },
        "74f84391cacb451ea4eee79fd25cf449": {
          "model_module": "@jupyter-widgets/controls",
          "model_name": "DescriptionStyleModel",
          "model_module_version": "1.5.0",
          "state": {
            "_model_module": "@jupyter-widgets/controls",
            "_model_module_version": "1.5.0",
            "_model_name": "DescriptionStyleModel",
            "_view_count": null,
            "_view_module": "@jupyter-widgets/base",
            "_view_module_version": "1.2.0",
            "_view_name": "StyleView",
            "description_width": ""
          }
        },
        "ac10046ba5ce4d4da9672859594f6432": {
          "model_module": "@jupyter-widgets/controls",
          "model_name": "HBoxModel",
          "model_module_version": "1.5.0",
          "state": {
            "_dom_classes": [],
            "_model_module": "@jupyter-widgets/controls",
            "_model_module_version": "1.5.0",
            "_model_name": "HBoxModel",
            "_view_count": null,
            "_view_module": "@jupyter-widgets/controls",
            "_view_module_version": "1.5.0",
            "_view_name": "HBoxView",
            "box_style": "",
            "children": [
              "IPY_MODEL_c6b6ed835fb5415299cc9538b42b0eca",
              "IPY_MODEL_b6047212672946acaa3a5cd60b4c8345",
              "IPY_MODEL_c1929c510ba44aa7b5016445055ef12b"
            ],
            "layout": "IPY_MODEL_9c5b0a19a6c5482a8e20a1b3ad0a951e"
          }
        },
        "c6b6ed835fb5415299cc9538b42b0eca": {
          "model_module": "@jupyter-widgets/controls",
          "model_name": "HTMLModel",
          "model_module_version": "1.5.0",
          "state": {
            "_dom_classes": [],
            "_model_module": "@jupyter-widgets/controls",
            "_model_module_version": "1.5.0",
            "_model_name": "HTMLModel",
            "_view_count": null,
            "_view_module": "@jupyter-widgets/controls",
            "_view_module_version": "1.5.0",
            "_view_name": "HTMLView",
            "description": "",
            "description_tooltip": null,
            "layout": "IPY_MODEL_36e1cafcfb194c43a9aa21fd273981e4",
            "placeholder": "​",
            "style": "IPY_MODEL_4677a19598c045a28372a770343a8488",
            "value": "Sanity Checking DataLoader 0: 100%"
          }
        },
        "b6047212672946acaa3a5cd60b4c8345": {
          "model_module": "@jupyter-widgets/controls",
          "model_name": "FloatProgressModel",
          "model_module_version": "1.5.0",
          "state": {
            "_dom_classes": [],
            "_model_module": "@jupyter-widgets/controls",
            "_model_module_version": "1.5.0",
            "_model_name": "FloatProgressModel",
            "_view_count": null,
            "_view_module": "@jupyter-widgets/controls",
            "_view_module_version": "1.5.0",
            "_view_name": "ProgressView",
            "bar_style": "",
            "description": "",
            "description_tooltip": null,
            "layout": "IPY_MODEL_8c945d06cbb2410ca032cd047e57d1a1",
            "max": 2,
            "min": 0,
            "orientation": "horizontal",
            "style": "IPY_MODEL_0259b805745042eab0808459d44330f9",
            "value": 2
          }
        },
        "c1929c510ba44aa7b5016445055ef12b": {
          "model_module": "@jupyter-widgets/controls",
          "model_name": "HTMLModel",
          "model_module_version": "1.5.0",
          "state": {
            "_dom_classes": [],
            "_model_module": "@jupyter-widgets/controls",
            "_model_module_version": "1.5.0",
            "_model_name": "HTMLModel",
            "_view_count": null,
            "_view_module": "@jupyter-widgets/controls",
            "_view_module_version": "1.5.0",
            "_view_name": "HTMLView",
            "description": "",
            "description_tooltip": null,
            "layout": "IPY_MODEL_777e11bed5a441beab8508371b243a39",
            "placeholder": "​",
            "style": "IPY_MODEL_dccce61751b94731a9c45ae6f0bd95d1",
            "value": " 2/2 [00:00&lt;00:00, 10.17it/s]"
          }
        },
        "9c5b0a19a6c5482a8e20a1b3ad0a951e": {
          "model_module": "@jupyter-widgets/base",
          "model_name": "LayoutModel",
          "model_module_version": "1.2.0",
          "state": {
            "_model_module": "@jupyter-widgets/base",
            "_model_module_version": "1.2.0",
            "_model_name": "LayoutModel",
            "_view_count": null,
            "_view_module": "@jupyter-widgets/base",
            "_view_module_version": "1.2.0",
            "_view_name": "LayoutView",
            "align_content": null,
            "align_items": null,
            "align_self": null,
            "border": null,
            "bottom": null,
            "display": "inline-flex",
            "flex": null,
            "flex_flow": "row wrap",
            "grid_area": null,
            "grid_auto_columns": null,
            "grid_auto_flow": null,
            "grid_auto_rows": null,
            "grid_column": null,
            "grid_gap": null,
            "grid_row": null,
            "grid_template_areas": null,
            "grid_template_columns": null,
            "grid_template_rows": null,
            "height": null,
            "justify_content": null,
            "justify_items": null,
            "left": null,
            "margin": null,
            "max_height": null,
            "max_width": null,
            "min_height": null,
            "min_width": null,
            "object_fit": null,
            "object_position": null,
            "order": null,
            "overflow": null,
            "overflow_x": null,
            "overflow_y": null,
            "padding": null,
            "right": null,
            "top": null,
            "visibility": "hidden",
            "width": "100%"
          }
        },
        "36e1cafcfb194c43a9aa21fd273981e4": {
          "model_module": "@jupyter-widgets/base",
          "model_name": "LayoutModel",
          "model_module_version": "1.2.0",
          "state": {
            "_model_module": "@jupyter-widgets/base",
            "_model_module_version": "1.2.0",
            "_model_name": "LayoutModel",
            "_view_count": null,
            "_view_module": "@jupyter-widgets/base",
            "_view_module_version": "1.2.0",
            "_view_name": "LayoutView",
            "align_content": null,
            "align_items": null,
            "align_self": null,
            "border": null,
            "bottom": null,
            "display": null,
            "flex": null,
            "flex_flow": null,
            "grid_area": null,
            "grid_auto_columns": null,
            "grid_auto_flow": null,
            "grid_auto_rows": null,
            "grid_column": null,
            "grid_gap": null,
            "grid_row": null,
            "grid_template_areas": null,
            "grid_template_columns": null,
            "grid_template_rows": null,
            "height": null,
            "justify_content": null,
            "justify_items": null,
            "left": null,
            "margin": null,
            "max_height": null,
            "max_width": null,
            "min_height": null,
            "min_width": null,
            "object_fit": null,
            "object_position": null,
            "order": null,
            "overflow": null,
            "overflow_x": null,
            "overflow_y": null,
            "padding": null,
            "right": null,
            "top": null,
            "visibility": null,
            "width": null
          }
        },
        "4677a19598c045a28372a770343a8488": {
          "model_module": "@jupyter-widgets/controls",
          "model_name": "DescriptionStyleModel",
          "model_module_version": "1.5.0",
          "state": {
            "_model_module": "@jupyter-widgets/controls",
            "_model_module_version": "1.5.0",
            "_model_name": "DescriptionStyleModel",
            "_view_count": null,
            "_view_module": "@jupyter-widgets/base",
            "_view_module_version": "1.2.0",
            "_view_name": "StyleView",
            "description_width": ""
          }
        },
        "8c945d06cbb2410ca032cd047e57d1a1": {
          "model_module": "@jupyter-widgets/base",
          "model_name": "LayoutModel",
          "model_module_version": "1.2.0",
          "state": {
            "_model_module": "@jupyter-widgets/base",
            "_model_module_version": "1.2.0",
            "_model_name": "LayoutModel",
            "_view_count": null,
            "_view_module": "@jupyter-widgets/base",
            "_view_module_version": "1.2.0",
            "_view_name": "LayoutView",
            "align_content": null,
            "align_items": null,
            "align_self": null,
            "border": null,
            "bottom": null,
            "display": null,
            "flex": "2",
            "flex_flow": null,
            "grid_area": null,
            "grid_auto_columns": null,
            "grid_auto_flow": null,
            "grid_auto_rows": null,
            "grid_column": null,
            "grid_gap": null,
            "grid_row": null,
            "grid_template_areas": null,
            "grid_template_columns": null,
            "grid_template_rows": null,
            "height": null,
            "justify_content": null,
            "justify_items": null,
            "left": null,
            "margin": null,
            "max_height": null,
            "max_width": null,
            "min_height": null,
            "min_width": null,
            "object_fit": null,
            "object_position": null,
            "order": null,
            "overflow": null,
            "overflow_x": null,
            "overflow_y": null,
            "padding": null,
            "right": null,
            "top": null,
            "visibility": null,
            "width": null
          }
        },
        "0259b805745042eab0808459d44330f9": {
          "model_module": "@jupyter-widgets/controls",
          "model_name": "ProgressStyleModel",
          "model_module_version": "1.5.0",
          "state": {
            "_model_module": "@jupyter-widgets/controls",
            "_model_module_version": "1.5.0",
            "_model_name": "ProgressStyleModel",
            "_view_count": null,
            "_view_module": "@jupyter-widgets/base",
            "_view_module_version": "1.2.0",
            "_view_name": "StyleView",
            "bar_color": null,
            "description_width": ""
          }
        },
        "777e11bed5a441beab8508371b243a39": {
          "model_module": "@jupyter-widgets/base",
          "model_name": "LayoutModel",
          "model_module_version": "1.2.0",
          "state": {
            "_model_module": "@jupyter-widgets/base",
            "_model_module_version": "1.2.0",
            "_model_name": "LayoutModel",
            "_view_count": null,
            "_view_module": "@jupyter-widgets/base",
            "_view_module_version": "1.2.0",
            "_view_name": "LayoutView",
            "align_content": null,
            "align_items": null,
            "align_self": null,
            "border": null,
            "bottom": null,
            "display": null,
            "flex": null,
            "flex_flow": null,
            "grid_area": null,
            "grid_auto_columns": null,
            "grid_auto_flow": null,
            "grid_auto_rows": null,
            "grid_column": null,
            "grid_gap": null,
            "grid_row": null,
            "grid_template_areas": null,
            "grid_template_columns": null,
            "grid_template_rows": null,
            "height": null,
            "justify_content": null,
            "justify_items": null,
            "left": null,
            "margin": null,
            "max_height": null,
            "max_width": null,
            "min_height": null,
            "min_width": null,
            "object_fit": null,
            "object_position": null,
            "order": null,
            "overflow": null,
            "overflow_x": null,
            "overflow_y": null,
            "padding": null,
            "right": null,
            "top": null,
            "visibility": null,
            "width": null
          }
        },
        "dccce61751b94731a9c45ae6f0bd95d1": {
          "model_module": "@jupyter-widgets/controls",
          "model_name": "DescriptionStyleModel",
          "model_module_version": "1.5.0",
          "state": {
            "_model_module": "@jupyter-widgets/controls",
            "_model_module_version": "1.5.0",
            "_model_name": "DescriptionStyleModel",
            "_view_count": null,
            "_view_module": "@jupyter-widgets/base",
            "_view_module_version": "1.2.0",
            "_view_name": "StyleView",
            "description_width": ""
          }
        },
        "ac4c472b567b4e72b01d6bfa20b997fd": {
          "model_module": "@jupyter-widgets/controls",
          "model_name": "HBoxModel",
          "model_module_version": "1.5.0",
          "state": {
            "_dom_classes": [],
            "_model_module": "@jupyter-widgets/controls",
            "_model_module_version": "1.5.0",
            "_model_name": "HBoxModel",
            "_view_count": null,
            "_view_module": "@jupyter-widgets/controls",
            "_view_module_version": "1.5.0",
            "_view_name": "HBoxView",
            "box_style": "",
            "children": [
              "IPY_MODEL_2adb9d3270dc4a22a6ba4782ce21e396",
              "IPY_MODEL_bc42aacc5f59497caafa667e42d22704",
              "IPY_MODEL_f181b4c10fc84d4693a330c0a3bf4508"
            ],
            "layout": "IPY_MODEL_1eb8d11afd8847848474cf09e2abcc1f"
          }
        },
        "2adb9d3270dc4a22a6ba4782ce21e396": {
          "model_module": "@jupyter-widgets/controls",
          "model_name": "HTMLModel",
          "model_module_version": "1.5.0",
          "state": {
            "_dom_classes": [],
            "_model_module": "@jupyter-widgets/controls",
            "_model_module_version": "1.5.0",
            "_model_name": "HTMLModel",
            "_view_count": null,
            "_view_module": "@jupyter-widgets/controls",
            "_view_module_version": "1.5.0",
            "_view_name": "HTMLView",
            "description": "",
            "description_tooltip": null,
            "layout": "IPY_MODEL_9687a015caaa44ba8823356388203cd1",
            "placeholder": "​",
            "style": "IPY_MODEL_df8f54ec38044a609710106fb4982701",
            "value": "Epoch 1: 100%"
          }
        },
        "bc42aacc5f59497caafa667e42d22704": {
          "model_module": "@jupyter-widgets/controls",
          "model_name": "FloatProgressModel",
          "model_module_version": "1.5.0",
          "state": {
            "_dom_classes": [],
            "_model_module": "@jupyter-widgets/controls",
            "_model_module_version": "1.5.0",
            "_model_name": "FloatProgressModel",
            "_view_count": null,
            "_view_module": "@jupyter-widgets/controls",
            "_view_module_version": "1.5.0",
            "_view_name": "ProgressView",
            "bar_style": "success",
            "description": "",
            "description_tooltip": null,
            "layout": "IPY_MODEL_abdd07475cdb4a1d97c3f223c16d2b6a",
            "max": 376,
            "min": 0,
            "orientation": "horizontal",
            "style": "IPY_MODEL_8cb45777160d46569225621b09c64bf0",
            "value": 376
          }
        },
        "f181b4c10fc84d4693a330c0a3bf4508": {
          "model_module": "@jupyter-widgets/controls",
          "model_name": "HTMLModel",
          "model_module_version": "1.5.0",
          "state": {
            "_dom_classes": [],
            "_model_module": "@jupyter-widgets/controls",
            "_model_module_version": "1.5.0",
            "_model_name": "HTMLModel",
            "_view_count": null,
            "_view_module": "@jupyter-widgets/controls",
            "_view_module_version": "1.5.0",
            "_view_name": "HTMLView",
            "description": "",
            "description_tooltip": null,
            "layout": "IPY_MODEL_ef8bcbdf190a4bc299a7ac523dd902e5",
            "placeholder": "​",
            "style": "IPY_MODEL_f385ad5c9fd642808d4b99181cbffff7",
            "value": " 376/376 [00:28&lt;00:00, 13.25it/s, loss=1.46, v_num=2, validation/loss=1.390, validation/acc=0.689]"
          }
        },
        "1eb8d11afd8847848474cf09e2abcc1f": {
          "model_module": "@jupyter-widgets/base",
          "model_name": "LayoutModel",
          "model_module_version": "1.2.0",
          "state": {
            "_model_module": "@jupyter-widgets/base",
            "_model_module_version": "1.2.0",
            "_model_name": "LayoutModel",
            "_view_count": null,
            "_view_module": "@jupyter-widgets/base",
            "_view_module_version": "1.2.0",
            "_view_name": "LayoutView",
            "align_content": null,
            "align_items": null,
            "align_self": null,
            "border": null,
            "bottom": null,
            "display": "inline-flex",
            "flex": null,
            "flex_flow": "row wrap",
            "grid_area": null,
            "grid_auto_columns": null,
            "grid_auto_flow": null,
            "grid_auto_rows": null,
            "grid_column": null,
            "grid_gap": null,
            "grid_row": null,
            "grid_template_areas": null,
            "grid_template_columns": null,
            "grid_template_rows": null,
            "height": null,
            "justify_content": null,
            "justify_items": null,
            "left": null,
            "margin": null,
            "max_height": null,
            "max_width": null,
            "min_height": null,
            "min_width": null,
            "object_fit": null,
            "object_position": null,
            "order": null,
            "overflow": null,
            "overflow_x": null,
            "overflow_y": null,
            "padding": null,
            "right": null,
            "top": null,
            "visibility": null,
            "width": "100%"
          }
        },
        "9687a015caaa44ba8823356388203cd1": {
          "model_module": "@jupyter-widgets/base",
          "model_name": "LayoutModel",
          "model_module_version": "1.2.0",
          "state": {
            "_model_module": "@jupyter-widgets/base",
            "_model_module_version": "1.2.0",
            "_model_name": "LayoutModel",
            "_view_count": null,
            "_view_module": "@jupyter-widgets/base",
            "_view_module_version": "1.2.0",
            "_view_name": "LayoutView",
            "align_content": null,
            "align_items": null,
            "align_self": null,
            "border": null,
            "bottom": null,
            "display": null,
            "flex": null,
            "flex_flow": null,
            "grid_area": null,
            "grid_auto_columns": null,
            "grid_auto_flow": null,
            "grid_auto_rows": null,
            "grid_column": null,
            "grid_gap": null,
            "grid_row": null,
            "grid_template_areas": null,
            "grid_template_columns": null,
            "grid_template_rows": null,
            "height": null,
            "justify_content": null,
            "justify_items": null,
            "left": null,
            "margin": null,
            "max_height": null,
            "max_width": null,
            "min_height": null,
            "min_width": null,
            "object_fit": null,
            "object_position": null,
            "order": null,
            "overflow": null,
            "overflow_x": null,
            "overflow_y": null,
            "padding": null,
            "right": null,
            "top": null,
            "visibility": null,
            "width": null
          }
        },
        "df8f54ec38044a609710106fb4982701": {
          "model_module": "@jupyter-widgets/controls",
          "model_name": "DescriptionStyleModel",
          "model_module_version": "1.5.0",
          "state": {
            "_model_module": "@jupyter-widgets/controls",
            "_model_module_version": "1.5.0",
            "_model_name": "DescriptionStyleModel",
            "_view_count": null,
            "_view_module": "@jupyter-widgets/base",
            "_view_module_version": "1.2.0",
            "_view_name": "StyleView",
            "description_width": ""
          }
        },
        "abdd07475cdb4a1d97c3f223c16d2b6a": {
          "model_module": "@jupyter-widgets/base",
          "model_name": "LayoutModel",
          "model_module_version": "1.2.0",
          "state": {
            "_model_module": "@jupyter-widgets/base",
            "_model_module_version": "1.2.0",
            "_model_name": "LayoutModel",
            "_view_count": null,
            "_view_module": "@jupyter-widgets/base",
            "_view_module_version": "1.2.0",
            "_view_name": "LayoutView",
            "align_content": null,
            "align_items": null,
            "align_self": null,
            "border": null,
            "bottom": null,
            "display": null,
            "flex": "2",
            "flex_flow": null,
            "grid_area": null,
            "grid_auto_columns": null,
            "grid_auto_flow": null,
            "grid_auto_rows": null,
            "grid_column": null,
            "grid_gap": null,
            "grid_row": null,
            "grid_template_areas": null,
            "grid_template_columns": null,
            "grid_template_rows": null,
            "height": null,
            "justify_content": null,
            "justify_items": null,
            "left": null,
            "margin": null,
            "max_height": null,
            "max_width": null,
            "min_height": null,
            "min_width": null,
            "object_fit": null,
            "object_position": null,
            "order": null,
            "overflow": null,
            "overflow_x": null,
            "overflow_y": null,
            "padding": null,
            "right": null,
            "top": null,
            "visibility": null,
            "width": null
          }
        },
        "8cb45777160d46569225621b09c64bf0": {
          "model_module": "@jupyter-widgets/controls",
          "model_name": "ProgressStyleModel",
          "model_module_version": "1.5.0",
          "state": {
            "_model_module": "@jupyter-widgets/controls",
            "_model_module_version": "1.5.0",
            "_model_name": "ProgressStyleModel",
            "_view_count": null,
            "_view_module": "@jupyter-widgets/base",
            "_view_module_version": "1.2.0",
            "_view_name": "StyleView",
            "bar_color": null,
            "description_width": ""
          }
        },
        "ef8bcbdf190a4bc299a7ac523dd902e5": {
          "model_module": "@jupyter-widgets/base",
          "model_name": "LayoutModel",
          "model_module_version": "1.2.0",
          "state": {
            "_model_module": "@jupyter-widgets/base",
            "_model_module_version": "1.2.0",
            "_model_name": "LayoutModel",
            "_view_count": null,
            "_view_module": "@jupyter-widgets/base",
            "_view_module_version": "1.2.0",
            "_view_name": "LayoutView",
            "align_content": null,
            "align_items": null,
            "align_self": null,
            "border": null,
            "bottom": null,
            "display": null,
            "flex": null,
            "flex_flow": null,
            "grid_area": null,
            "grid_auto_columns": null,
            "grid_auto_flow": null,
            "grid_auto_rows": null,
            "grid_column": null,
            "grid_gap": null,
            "grid_row": null,
            "grid_template_areas": null,
            "grid_template_columns": null,
            "grid_template_rows": null,
            "height": null,
            "justify_content": null,
            "justify_items": null,
            "left": null,
            "margin": null,
            "max_height": null,
            "max_width": null,
            "min_height": null,
            "min_width": null,
            "object_fit": null,
            "object_position": null,
            "order": null,
            "overflow": null,
            "overflow_x": null,
            "overflow_y": null,
            "padding": null,
            "right": null,
            "top": null,
            "visibility": null,
            "width": null
          }
        },
        "f385ad5c9fd642808d4b99181cbffff7": {
          "model_module": "@jupyter-widgets/controls",
          "model_name": "DescriptionStyleModel",
          "model_module_version": "1.5.0",
          "state": {
            "_model_module": "@jupyter-widgets/controls",
            "_model_module_version": "1.5.0",
            "_model_name": "DescriptionStyleModel",
            "_view_count": null,
            "_view_module": "@jupyter-widgets/base",
            "_view_module_version": "1.2.0",
            "_view_name": "StyleView",
            "description_width": ""
          }
        },
        "40d9163301034d9bb9ac17f08263d685": {
          "model_module": "@jupyter-widgets/controls",
          "model_name": "HBoxModel",
          "model_module_version": "1.5.0",
          "state": {
            "_dom_classes": [],
            "_model_module": "@jupyter-widgets/controls",
            "_model_module_version": "1.5.0",
            "_model_name": "HBoxModel",
            "_view_count": null,
            "_view_module": "@jupyter-widgets/controls",
            "_view_module_version": "1.5.0",
            "_view_name": "HBoxView",
            "box_style": "",
            "children": [
              "IPY_MODEL_c4cbc0c4648049498160bc7724af5db4",
              "IPY_MODEL_bd804f400b304d1b8d9d97f8eea6c252",
              "IPY_MODEL_a44f73b9f814492790010c1b326c2107"
            ],
            "layout": "IPY_MODEL_d20a17cb75ed43b383bc168928a110e2"
          }
        },
        "c4cbc0c4648049498160bc7724af5db4": {
          "model_module": "@jupyter-widgets/controls",
          "model_name": "HTMLModel",
          "model_module_version": "1.5.0",
          "state": {
            "_dom_classes": [],
            "_model_module": "@jupyter-widgets/controls",
            "_model_module_version": "1.5.0",
            "_model_name": "HTMLModel",
            "_view_count": null,
            "_view_module": "@jupyter-widgets/controls",
            "_view_module_version": "1.5.0",
            "_view_name": "HTMLView",
            "description": "",
            "description_tooltip": null,
            "layout": "IPY_MODEL_083c66e046ea4cb5ab7f9a9023962389",
            "placeholder": "​",
            "style": "IPY_MODEL_3cc8819c3e1541f29e7c6d8743931838",
            "value": "Validation DataLoader 0: 100%"
          }
        },
        "bd804f400b304d1b8d9d97f8eea6c252": {
          "model_module": "@jupyter-widgets/controls",
          "model_name": "FloatProgressModel",
          "model_module_version": "1.5.0",
          "state": {
            "_dom_classes": [],
            "_model_module": "@jupyter-widgets/controls",
            "_model_module_version": "1.5.0",
            "_model_name": "FloatProgressModel",
            "_view_count": null,
            "_view_module": "@jupyter-widgets/controls",
            "_view_module_version": "1.5.0",
            "_view_name": "ProgressView",
            "bar_style": "",
            "description": "",
            "description_tooltip": null,
            "layout": "IPY_MODEL_4ff40d7a758146cb8268528fb2066fb2",
            "max": 63,
            "min": 0,
            "orientation": "horizontal",
            "style": "IPY_MODEL_3b1cf9d763464d848237e9a1fb459232",
            "value": 63
          }
        },
        "a44f73b9f814492790010c1b326c2107": {
          "model_module": "@jupyter-widgets/controls",
          "model_name": "HTMLModel",
          "model_module_version": "1.5.0",
          "state": {
            "_dom_classes": [],
            "_model_module": "@jupyter-widgets/controls",
            "_model_module_version": "1.5.0",
            "_model_name": "HTMLModel",
            "_view_count": null,
            "_view_module": "@jupyter-widgets/controls",
            "_view_module_version": "1.5.0",
            "_view_name": "HTMLView",
            "description": "",
            "description_tooltip": null,
            "layout": "IPY_MODEL_476b1652c8e64fd9b1affff7f302b697",
            "placeholder": "​",
            "style": "IPY_MODEL_1890aafccc044b48b6415c8cc439a2c9",
            "value": " 63/63 [00:02&lt;00:00, 26.29it/s]"
          }
        },
        "d20a17cb75ed43b383bc168928a110e2": {
          "model_module": "@jupyter-widgets/base",
          "model_name": "LayoutModel",
          "model_module_version": "1.2.0",
          "state": {
            "_model_module": "@jupyter-widgets/base",
            "_model_module_version": "1.2.0",
            "_model_name": "LayoutModel",
            "_view_count": null,
            "_view_module": "@jupyter-widgets/base",
            "_view_module_version": "1.2.0",
            "_view_name": "LayoutView",
            "align_content": null,
            "align_items": null,
            "align_self": null,
            "border": null,
            "bottom": null,
            "display": "inline-flex",
            "flex": null,
            "flex_flow": "row wrap",
            "grid_area": null,
            "grid_auto_columns": null,
            "grid_auto_flow": null,
            "grid_auto_rows": null,
            "grid_column": null,
            "grid_gap": null,
            "grid_row": null,
            "grid_template_areas": null,
            "grid_template_columns": null,
            "grid_template_rows": null,
            "height": null,
            "justify_content": null,
            "justify_items": null,
            "left": null,
            "margin": null,
            "max_height": null,
            "max_width": null,
            "min_height": null,
            "min_width": null,
            "object_fit": null,
            "object_position": null,
            "order": null,
            "overflow": null,
            "overflow_x": null,
            "overflow_y": null,
            "padding": null,
            "right": null,
            "top": null,
            "visibility": "hidden",
            "width": "100%"
          }
        },
        "083c66e046ea4cb5ab7f9a9023962389": {
          "model_module": "@jupyter-widgets/base",
          "model_name": "LayoutModel",
          "model_module_version": "1.2.0",
          "state": {
            "_model_module": "@jupyter-widgets/base",
            "_model_module_version": "1.2.0",
            "_model_name": "LayoutModel",
            "_view_count": null,
            "_view_module": "@jupyter-widgets/base",
            "_view_module_version": "1.2.0",
            "_view_name": "LayoutView",
            "align_content": null,
            "align_items": null,
            "align_self": null,
            "border": null,
            "bottom": null,
            "display": null,
            "flex": null,
            "flex_flow": null,
            "grid_area": null,
            "grid_auto_columns": null,
            "grid_auto_flow": null,
            "grid_auto_rows": null,
            "grid_column": null,
            "grid_gap": null,
            "grid_row": null,
            "grid_template_areas": null,
            "grid_template_columns": null,
            "grid_template_rows": null,
            "height": null,
            "justify_content": null,
            "justify_items": null,
            "left": null,
            "margin": null,
            "max_height": null,
            "max_width": null,
            "min_height": null,
            "min_width": null,
            "object_fit": null,
            "object_position": null,
            "order": null,
            "overflow": null,
            "overflow_x": null,
            "overflow_y": null,
            "padding": null,
            "right": null,
            "top": null,
            "visibility": null,
            "width": null
          }
        },
        "3cc8819c3e1541f29e7c6d8743931838": {
          "model_module": "@jupyter-widgets/controls",
          "model_name": "DescriptionStyleModel",
          "model_module_version": "1.5.0",
          "state": {
            "_model_module": "@jupyter-widgets/controls",
            "_model_module_version": "1.5.0",
            "_model_name": "DescriptionStyleModel",
            "_view_count": null,
            "_view_module": "@jupyter-widgets/base",
            "_view_module_version": "1.2.0",
            "_view_name": "StyleView",
            "description_width": ""
          }
        },
        "4ff40d7a758146cb8268528fb2066fb2": {
          "model_module": "@jupyter-widgets/base",
          "model_name": "LayoutModel",
          "model_module_version": "1.2.0",
          "state": {
            "_model_module": "@jupyter-widgets/base",
            "_model_module_version": "1.2.0",
            "_model_name": "LayoutModel",
            "_view_count": null,
            "_view_module": "@jupyter-widgets/base",
            "_view_module_version": "1.2.0",
            "_view_name": "LayoutView",
            "align_content": null,
            "align_items": null,
            "align_self": null,
            "border": null,
            "bottom": null,
            "display": null,
            "flex": "2",
            "flex_flow": null,
            "grid_area": null,
            "grid_auto_columns": null,
            "grid_auto_flow": null,
            "grid_auto_rows": null,
            "grid_column": null,
            "grid_gap": null,
            "grid_row": null,
            "grid_template_areas": null,
            "grid_template_columns": null,
            "grid_template_rows": null,
            "height": null,
            "justify_content": null,
            "justify_items": null,
            "left": null,
            "margin": null,
            "max_height": null,
            "max_width": null,
            "min_height": null,
            "min_width": null,
            "object_fit": null,
            "object_position": null,
            "order": null,
            "overflow": null,
            "overflow_x": null,
            "overflow_y": null,
            "padding": null,
            "right": null,
            "top": null,
            "visibility": null,
            "width": null
          }
        },
        "3b1cf9d763464d848237e9a1fb459232": {
          "model_module": "@jupyter-widgets/controls",
          "model_name": "ProgressStyleModel",
          "model_module_version": "1.5.0",
          "state": {
            "_model_module": "@jupyter-widgets/controls",
            "_model_module_version": "1.5.0",
            "_model_name": "ProgressStyleModel",
            "_view_count": null,
            "_view_module": "@jupyter-widgets/base",
            "_view_module_version": "1.2.0",
            "_view_name": "StyleView",
            "bar_color": null,
            "description_width": ""
          }
        },
        "476b1652c8e64fd9b1affff7f302b697": {
          "model_module": "@jupyter-widgets/base",
          "model_name": "LayoutModel",
          "model_module_version": "1.2.0",
          "state": {
            "_model_module": "@jupyter-widgets/base",
            "_model_module_version": "1.2.0",
            "_model_name": "LayoutModel",
            "_view_count": null,
            "_view_module": "@jupyter-widgets/base",
            "_view_module_version": "1.2.0",
            "_view_name": "LayoutView",
            "align_content": null,
            "align_items": null,
            "align_self": null,
            "border": null,
            "bottom": null,
            "display": null,
            "flex": null,
            "flex_flow": null,
            "grid_area": null,
            "grid_auto_columns": null,
            "grid_auto_flow": null,
            "grid_auto_rows": null,
            "grid_column": null,
            "grid_gap": null,
            "grid_row": null,
            "grid_template_areas": null,
            "grid_template_columns": null,
            "grid_template_rows": null,
            "height": null,
            "justify_content": null,
            "justify_items": null,
            "left": null,
            "margin": null,
            "max_height": null,
            "max_width": null,
            "min_height": null,
            "min_width": null,
            "object_fit": null,
            "object_position": null,
            "order": null,
            "overflow": null,
            "overflow_x": null,
            "overflow_y": null,
            "padding": null,
            "right": null,
            "top": null,
            "visibility": null,
            "width": null
          }
        },
        "1890aafccc044b48b6415c8cc439a2c9": {
          "model_module": "@jupyter-widgets/controls",
          "model_name": "DescriptionStyleModel",
          "model_module_version": "1.5.0",
          "state": {
            "_model_module": "@jupyter-widgets/controls",
            "_model_module_version": "1.5.0",
            "_model_name": "DescriptionStyleModel",
            "_view_count": null,
            "_view_module": "@jupyter-widgets/base",
            "_view_module_version": "1.2.0",
            "_view_name": "StyleView",
            "description_width": ""
          }
        },
        "8b23fab377514e7d8e6c53b6c68e9e74": {
          "model_module": "@jupyter-widgets/controls",
          "model_name": "HBoxModel",
          "model_module_version": "1.5.0",
          "state": {
            "_dom_classes": [],
            "_model_module": "@jupyter-widgets/controls",
            "_model_module_version": "1.5.0",
            "_model_name": "HBoxModel",
            "_view_count": null,
            "_view_module": "@jupyter-widgets/controls",
            "_view_module_version": "1.5.0",
            "_view_name": "HBoxView",
            "box_style": "",
            "children": [
              "IPY_MODEL_f63ac95bb66a460f8bc7dda8183fbe5a",
              "IPY_MODEL_767d1280fcc4449ca2f80f4012182033",
              "IPY_MODEL_4d25d79b3d6948a78ee9fb345ec8efde"
            ],
            "layout": "IPY_MODEL_9e4c0c8063eb4e98808fb14e6bebd1ff"
          }
        },
        "f63ac95bb66a460f8bc7dda8183fbe5a": {
          "model_module": "@jupyter-widgets/controls",
          "model_name": "HTMLModel",
          "model_module_version": "1.5.0",
          "state": {
            "_dom_classes": [],
            "_model_module": "@jupyter-widgets/controls",
            "_model_module_version": "1.5.0",
            "_model_name": "HTMLModel",
            "_view_count": null,
            "_view_module": "@jupyter-widgets/controls",
            "_view_module_version": "1.5.0",
            "_view_name": "HTMLView",
            "description": "",
            "description_tooltip": null,
            "layout": "IPY_MODEL_f401e8b3773c4cfca3c169ee107de193",
            "placeholder": "​",
            "style": "IPY_MODEL_8bf0a731ccc3450d94ebc1274be23dc6",
            "value": "Validation DataLoader 0: 100%"
          }
        },
        "767d1280fcc4449ca2f80f4012182033": {
          "model_module": "@jupyter-widgets/controls",
          "model_name": "FloatProgressModel",
          "model_module_version": "1.5.0",
          "state": {
            "_dom_classes": [],
            "_model_module": "@jupyter-widgets/controls",
            "_model_module_version": "1.5.0",
            "_model_name": "FloatProgressModel",
            "_view_count": null,
            "_view_module": "@jupyter-widgets/controls",
            "_view_module_version": "1.5.0",
            "_view_name": "ProgressView",
            "bar_style": "",
            "description": "",
            "description_tooltip": null,
            "layout": "IPY_MODEL_23f4a4d3cde74a5c81ea7c9f7b24a074",
            "max": 63,
            "min": 0,
            "orientation": "horizontal",
            "style": "IPY_MODEL_117a797113bd46d794c18307256ff97c",
            "value": 63
          }
        },
        "4d25d79b3d6948a78ee9fb345ec8efde": {
          "model_module": "@jupyter-widgets/controls",
          "model_name": "HTMLModel",
          "model_module_version": "1.5.0",
          "state": {
            "_dom_classes": [],
            "_model_module": "@jupyter-widgets/controls",
            "_model_module_version": "1.5.0",
            "_model_name": "HTMLModel",
            "_view_count": null,
            "_view_module": "@jupyter-widgets/controls",
            "_view_module_version": "1.5.0",
            "_view_name": "HTMLView",
            "description": "",
            "description_tooltip": null,
            "layout": "IPY_MODEL_2d747d87944c44b083d7dd19b03f1ceb",
            "placeholder": "​",
            "style": "IPY_MODEL_14b27899496f4e9f9855bff8f149d35c",
            "value": " 63/63 [00:01&lt;00:00, 32.13it/s]"
          }
        },
        "9e4c0c8063eb4e98808fb14e6bebd1ff": {
          "model_module": "@jupyter-widgets/base",
          "model_name": "LayoutModel",
          "model_module_version": "1.2.0",
          "state": {
            "_model_module": "@jupyter-widgets/base",
            "_model_module_version": "1.2.0",
            "_model_name": "LayoutModel",
            "_view_count": null,
            "_view_module": "@jupyter-widgets/base",
            "_view_module_version": "1.2.0",
            "_view_name": "LayoutView",
            "align_content": null,
            "align_items": null,
            "align_self": null,
            "border": null,
            "bottom": null,
            "display": "inline-flex",
            "flex": null,
            "flex_flow": "row wrap",
            "grid_area": null,
            "grid_auto_columns": null,
            "grid_auto_flow": null,
            "grid_auto_rows": null,
            "grid_column": null,
            "grid_gap": null,
            "grid_row": null,
            "grid_template_areas": null,
            "grid_template_columns": null,
            "grid_template_rows": null,
            "height": null,
            "justify_content": null,
            "justify_items": null,
            "left": null,
            "margin": null,
            "max_height": null,
            "max_width": null,
            "min_height": null,
            "min_width": null,
            "object_fit": null,
            "object_position": null,
            "order": null,
            "overflow": null,
            "overflow_x": null,
            "overflow_y": null,
            "padding": null,
            "right": null,
            "top": null,
            "visibility": "hidden",
            "width": "100%"
          }
        },
        "f401e8b3773c4cfca3c169ee107de193": {
          "model_module": "@jupyter-widgets/base",
          "model_name": "LayoutModel",
          "model_module_version": "1.2.0",
          "state": {
            "_model_module": "@jupyter-widgets/base",
            "_model_module_version": "1.2.0",
            "_model_name": "LayoutModel",
            "_view_count": null,
            "_view_module": "@jupyter-widgets/base",
            "_view_module_version": "1.2.0",
            "_view_name": "LayoutView",
            "align_content": null,
            "align_items": null,
            "align_self": null,
            "border": null,
            "bottom": null,
            "display": null,
            "flex": null,
            "flex_flow": null,
            "grid_area": null,
            "grid_auto_columns": null,
            "grid_auto_flow": null,
            "grid_auto_rows": null,
            "grid_column": null,
            "grid_gap": null,
            "grid_row": null,
            "grid_template_areas": null,
            "grid_template_columns": null,
            "grid_template_rows": null,
            "height": null,
            "justify_content": null,
            "justify_items": null,
            "left": null,
            "margin": null,
            "max_height": null,
            "max_width": null,
            "min_height": null,
            "min_width": null,
            "object_fit": null,
            "object_position": null,
            "order": null,
            "overflow": null,
            "overflow_x": null,
            "overflow_y": null,
            "padding": null,
            "right": null,
            "top": null,
            "visibility": null,
            "width": null
          }
        },
        "8bf0a731ccc3450d94ebc1274be23dc6": {
          "model_module": "@jupyter-widgets/controls",
          "model_name": "DescriptionStyleModel",
          "model_module_version": "1.5.0",
          "state": {
            "_model_module": "@jupyter-widgets/controls",
            "_model_module_version": "1.5.0",
            "_model_name": "DescriptionStyleModel",
            "_view_count": null,
            "_view_module": "@jupyter-widgets/base",
            "_view_module_version": "1.2.0",
            "_view_name": "StyleView",
            "description_width": ""
          }
        },
        "23f4a4d3cde74a5c81ea7c9f7b24a074": {
          "model_module": "@jupyter-widgets/base",
          "model_name": "LayoutModel",
          "model_module_version": "1.2.0",
          "state": {
            "_model_module": "@jupyter-widgets/base",
            "_model_module_version": "1.2.0",
            "_model_name": "LayoutModel",
            "_view_count": null,
            "_view_module": "@jupyter-widgets/base",
            "_view_module_version": "1.2.0",
            "_view_name": "LayoutView",
            "align_content": null,
            "align_items": null,
            "align_self": null,
            "border": null,
            "bottom": null,
            "display": null,
            "flex": "2",
            "flex_flow": null,
            "grid_area": null,
            "grid_auto_columns": null,
            "grid_auto_flow": null,
            "grid_auto_rows": null,
            "grid_column": null,
            "grid_gap": null,
            "grid_row": null,
            "grid_template_areas": null,
            "grid_template_columns": null,
            "grid_template_rows": null,
            "height": null,
            "justify_content": null,
            "justify_items": null,
            "left": null,
            "margin": null,
            "max_height": null,
            "max_width": null,
            "min_height": null,
            "min_width": null,
            "object_fit": null,
            "object_position": null,
            "order": null,
            "overflow": null,
            "overflow_x": null,
            "overflow_y": null,
            "padding": null,
            "right": null,
            "top": null,
            "visibility": null,
            "width": null
          }
        },
        "117a797113bd46d794c18307256ff97c": {
          "model_module": "@jupyter-widgets/controls",
          "model_name": "ProgressStyleModel",
          "model_module_version": "1.5.0",
          "state": {
            "_model_module": "@jupyter-widgets/controls",
            "_model_module_version": "1.5.0",
            "_model_name": "ProgressStyleModel",
            "_view_count": null,
            "_view_module": "@jupyter-widgets/base",
            "_view_module_version": "1.2.0",
            "_view_name": "StyleView",
            "bar_color": null,
            "description_width": ""
          }
        },
        "2d747d87944c44b083d7dd19b03f1ceb": {
          "model_module": "@jupyter-widgets/base",
          "model_name": "LayoutModel",
          "model_module_version": "1.2.0",
          "state": {
            "_model_module": "@jupyter-widgets/base",
            "_model_module_version": "1.2.0",
            "_model_name": "LayoutModel",
            "_view_count": null,
            "_view_module": "@jupyter-widgets/base",
            "_view_module_version": "1.2.0",
            "_view_name": "LayoutView",
            "align_content": null,
            "align_items": null,
            "align_self": null,
            "border": null,
            "bottom": null,
            "display": null,
            "flex": null,
            "flex_flow": null,
            "grid_area": null,
            "grid_auto_columns": null,
            "grid_auto_flow": null,
            "grid_auto_rows": null,
            "grid_column": null,
            "grid_gap": null,
            "grid_row": null,
            "grid_template_areas": null,
            "grid_template_columns": null,
            "grid_template_rows": null,
            "height": null,
            "justify_content": null,
            "justify_items": null,
            "left": null,
            "margin": null,
            "max_height": null,
            "max_width": null,
            "min_height": null,
            "min_width": null,
            "object_fit": null,
            "object_position": null,
            "order": null,
            "overflow": null,
            "overflow_x": null,
            "overflow_y": null,
            "padding": null,
            "right": null,
            "top": null,
            "visibility": null,
            "width": null
          }
        },
        "14b27899496f4e9f9855bff8f149d35c": {
          "model_module": "@jupyter-widgets/controls",
          "model_name": "DescriptionStyleModel",
          "model_module_version": "1.5.0",
          "state": {
            "_model_module": "@jupyter-widgets/controls",
            "_model_module_version": "1.5.0",
            "_model_name": "DescriptionStyleModel",
            "_view_count": null,
            "_view_module": "@jupyter-widgets/base",
            "_view_module_version": "1.2.0",
            "_view_name": "StyleView",
            "description_width": ""
          }
        },
        "4141a687a21c45f2b110a8f1bb86b5d0": {
          "model_module": "@jupyter-widgets/controls",
          "model_name": "HBoxModel",
          "model_module_version": "1.5.0",
          "state": {
            "_dom_classes": [],
            "_model_module": "@jupyter-widgets/controls",
            "_model_module_version": "1.5.0",
            "_model_name": "HBoxModel",
            "_view_count": null,
            "_view_module": "@jupyter-widgets/controls",
            "_view_module_version": "1.5.0",
            "_view_name": "HBoxView",
            "box_style": "",
            "children": [
              "IPY_MODEL_f4c0f45b57cf40c9837a1da2706759c7",
              "IPY_MODEL_117077da140d4930b370fe72e325ffff",
              "IPY_MODEL_1bb18cc435fd43f3ad5365a41d1da44f"
            ],
            "layout": "IPY_MODEL_b7ee3fffc23c4acc9e27cb33d79badd1"
          }
        },
        "f4c0f45b57cf40c9837a1da2706759c7": {
          "model_module": "@jupyter-widgets/controls",
          "model_name": "HTMLModel",
          "model_module_version": "1.5.0",
          "state": {
            "_dom_classes": [],
            "_model_module": "@jupyter-widgets/controls",
            "_model_module_version": "1.5.0",
            "_model_name": "HTMLModel",
            "_view_count": null,
            "_view_module": "@jupyter-widgets/controls",
            "_view_module_version": "1.5.0",
            "_view_name": "HTMLView",
            "description": "",
            "description_tooltip": null,
            "layout": "IPY_MODEL_fc70c27d567d45b7a3f81152d7ee276f",
            "placeholder": "​",
            "style": "IPY_MODEL_f2be171012de4661b33ca8db6baf8247",
            "value": "Testing DataLoader 0: 100%"
          }
        },
        "117077da140d4930b370fe72e325ffff": {
          "model_module": "@jupyter-widgets/controls",
          "model_name": "FloatProgressModel",
          "model_module_version": "1.5.0",
          "state": {
            "_dom_classes": [],
            "_model_module": "@jupyter-widgets/controls",
            "_model_module_version": "1.5.0",
            "_model_name": "FloatProgressModel",
            "_view_count": null,
            "_view_module": "@jupyter-widgets/controls",
            "_view_module_version": "1.5.0",
            "_view_name": "ProgressView",
            "bar_style": "success",
            "description": "",
            "description_tooltip": null,
            "layout": "IPY_MODEL_f3d53388324c494ca9b22aad1701df23",
            "max": 63,
            "min": 0,
            "orientation": "horizontal",
            "style": "IPY_MODEL_bfb6a291df3b48e7b28294a07fa85048",
            "value": 63
          }
        },
        "1bb18cc435fd43f3ad5365a41d1da44f": {
          "model_module": "@jupyter-widgets/controls",
          "model_name": "HTMLModel",
          "model_module_version": "1.5.0",
          "state": {
            "_dom_classes": [],
            "_model_module": "@jupyter-widgets/controls",
            "_model_module_version": "1.5.0",
            "_model_name": "HTMLModel",
            "_view_count": null,
            "_view_module": "@jupyter-widgets/controls",
            "_view_module_version": "1.5.0",
            "_view_name": "HTMLView",
            "description": "",
            "description_tooltip": null,
            "layout": "IPY_MODEL_d84658e66dee45eca9f5d3ad75c8bbf9",
            "placeholder": "​",
            "style": "IPY_MODEL_177cf9bd750b46db89b34ef5a7e9c1ca",
            "value": " 63/63 [00:02&lt;00:00, 27.31it/s]"
          }
        },
        "b7ee3fffc23c4acc9e27cb33d79badd1": {
          "model_module": "@jupyter-widgets/base",
          "model_name": "LayoutModel",
          "model_module_version": "1.2.0",
          "state": {
            "_model_module": "@jupyter-widgets/base",
            "_model_module_version": "1.2.0",
            "_model_name": "LayoutModel",
            "_view_count": null,
            "_view_module": "@jupyter-widgets/base",
            "_view_module_version": "1.2.0",
            "_view_name": "LayoutView",
            "align_content": null,
            "align_items": null,
            "align_self": null,
            "border": null,
            "bottom": null,
            "display": "inline-flex",
            "flex": null,
            "flex_flow": "row wrap",
            "grid_area": null,
            "grid_auto_columns": null,
            "grid_auto_flow": null,
            "grid_auto_rows": null,
            "grid_column": null,
            "grid_gap": null,
            "grid_row": null,
            "grid_template_areas": null,
            "grid_template_columns": null,
            "grid_template_rows": null,
            "height": null,
            "justify_content": null,
            "justify_items": null,
            "left": null,
            "margin": null,
            "max_height": null,
            "max_width": null,
            "min_height": null,
            "min_width": null,
            "object_fit": null,
            "object_position": null,
            "order": null,
            "overflow": null,
            "overflow_x": null,
            "overflow_y": null,
            "padding": null,
            "right": null,
            "top": null,
            "visibility": null,
            "width": "100%"
          }
        },
        "fc70c27d567d45b7a3f81152d7ee276f": {
          "model_module": "@jupyter-widgets/base",
          "model_name": "LayoutModel",
          "model_module_version": "1.2.0",
          "state": {
            "_model_module": "@jupyter-widgets/base",
            "_model_module_version": "1.2.0",
            "_model_name": "LayoutModel",
            "_view_count": null,
            "_view_module": "@jupyter-widgets/base",
            "_view_module_version": "1.2.0",
            "_view_name": "LayoutView",
            "align_content": null,
            "align_items": null,
            "align_self": null,
            "border": null,
            "bottom": null,
            "display": null,
            "flex": null,
            "flex_flow": null,
            "grid_area": null,
            "grid_auto_columns": null,
            "grid_auto_flow": null,
            "grid_auto_rows": null,
            "grid_column": null,
            "grid_gap": null,
            "grid_row": null,
            "grid_template_areas": null,
            "grid_template_columns": null,
            "grid_template_rows": null,
            "height": null,
            "justify_content": null,
            "justify_items": null,
            "left": null,
            "margin": null,
            "max_height": null,
            "max_width": null,
            "min_height": null,
            "min_width": null,
            "object_fit": null,
            "object_position": null,
            "order": null,
            "overflow": null,
            "overflow_x": null,
            "overflow_y": null,
            "padding": null,
            "right": null,
            "top": null,
            "visibility": null,
            "width": null
          }
        },
        "f2be171012de4661b33ca8db6baf8247": {
          "model_module": "@jupyter-widgets/controls",
          "model_name": "DescriptionStyleModel",
          "model_module_version": "1.5.0",
          "state": {
            "_model_module": "@jupyter-widgets/controls",
            "_model_module_version": "1.5.0",
            "_model_name": "DescriptionStyleModel",
            "_view_count": null,
            "_view_module": "@jupyter-widgets/base",
            "_view_module_version": "1.2.0",
            "_view_name": "StyleView",
            "description_width": ""
          }
        },
        "f3d53388324c494ca9b22aad1701df23": {
          "model_module": "@jupyter-widgets/base",
          "model_name": "LayoutModel",
          "model_module_version": "1.2.0",
          "state": {
            "_model_module": "@jupyter-widgets/base",
            "_model_module_version": "1.2.0",
            "_model_name": "LayoutModel",
            "_view_count": null,
            "_view_module": "@jupyter-widgets/base",
            "_view_module_version": "1.2.0",
            "_view_name": "LayoutView",
            "align_content": null,
            "align_items": null,
            "align_self": null,
            "border": null,
            "bottom": null,
            "display": null,
            "flex": "2",
            "flex_flow": null,
            "grid_area": null,
            "grid_auto_columns": null,
            "grid_auto_flow": null,
            "grid_auto_rows": null,
            "grid_column": null,
            "grid_gap": null,
            "grid_row": null,
            "grid_template_areas": null,
            "grid_template_columns": null,
            "grid_template_rows": null,
            "height": null,
            "justify_content": null,
            "justify_items": null,
            "left": null,
            "margin": null,
            "max_height": null,
            "max_width": null,
            "min_height": null,
            "min_width": null,
            "object_fit": null,
            "object_position": null,
            "order": null,
            "overflow": null,
            "overflow_x": null,
            "overflow_y": null,
            "padding": null,
            "right": null,
            "top": null,
            "visibility": null,
            "width": null
          }
        },
        "bfb6a291df3b48e7b28294a07fa85048": {
          "model_module": "@jupyter-widgets/controls",
          "model_name": "ProgressStyleModel",
          "model_module_version": "1.5.0",
          "state": {
            "_model_module": "@jupyter-widgets/controls",
            "_model_module_version": "1.5.0",
            "_model_name": "ProgressStyleModel",
            "_view_count": null,
            "_view_module": "@jupyter-widgets/base",
            "_view_module_version": "1.2.0",
            "_view_name": "StyleView",
            "bar_color": null,
            "description_width": ""
          }
        },
        "d84658e66dee45eca9f5d3ad75c8bbf9": {
          "model_module": "@jupyter-widgets/base",
          "model_name": "LayoutModel",
          "model_module_version": "1.2.0",
          "state": {
            "_model_module": "@jupyter-widgets/base",
            "_model_module_version": "1.2.0",
            "_model_name": "LayoutModel",
            "_view_count": null,
            "_view_module": "@jupyter-widgets/base",
            "_view_module_version": "1.2.0",
            "_view_name": "LayoutView",
            "align_content": null,
            "align_items": null,
            "align_self": null,
            "border": null,
            "bottom": null,
            "display": null,
            "flex": null,
            "flex_flow": null,
            "grid_area": null,
            "grid_auto_columns": null,
            "grid_auto_flow": null,
            "grid_auto_rows": null,
            "grid_column": null,
            "grid_gap": null,
            "grid_row": null,
            "grid_template_areas": null,
            "grid_template_columns": null,
            "grid_template_rows": null,
            "height": null,
            "justify_content": null,
            "justify_items": null,
            "left": null,
            "margin": null,
            "max_height": null,
            "max_width": null,
            "min_height": null,
            "min_width": null,
            "object_fit": null,
            "object_position": null,
            "order": null,
            "overflow": null,
            "overflow_x": null,
            "overflow_y": null,
            "padding": null,
            "right": null,
            "top": null,
            "visibility": null,
            "width": null
          }
        },
        "177cf9bd750b46db89b34ef5a7e9c1ca": {
          "model_module": "@jupyter-widgets/controls",
          "model_name": "DescriptionStyleModel",
          "model_module_version": "1.5.0",
          "state": {
            "_model_module": "@jupyter-widgets/controls",
            "_model_module_version": "1.5.0",
            "_model_name": "DescriptionStyleModel",
            "_view_count": null,
            "_view_module": "@jupyter-widgets/base",
            "_view_module_version": "1.2.0",
            "_view_name": "StyleView",
            "description_width": ""
          }
        }
      }
    }
  },
  "nbformat": 4,
  "nbformat_minor": 0
}